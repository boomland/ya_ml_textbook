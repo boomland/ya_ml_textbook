{
  "cells": [
    {
      "cell_type": "markdown",
      "metadata": {
        "id": "k3zbLLaSGH6Z"
      },
      "source": [
        "## Лабораторная работа \"Введение в ML\""
      ]
    },
    {
      "cell_type": "markdown",
      "metadata": {
        "id": "SL3v975uGH6h"
      },
      "source": [
        "В этой лабораторной вы:\n",
        "\n",
        "- познакомитесь с базовыми библиотеками для работы с табличными данными — `numpy` и `pandas`\n",
        "- поближе посмотрите на простейшие задачи машинного обучения: классификацию и регрессию\n",
        "- попробуете несколько метрик и поймёте, почему выбор метрики это важно\n",
        "- обучите несколько простых моделей\n",
        "- увидите связь между сложностью модели и переобучением\n",
        "- убедитесь, что без данных всё тлен"
      ]
    },
    {
      "cell_type": "markdown",
      "metadata": {
        "id": "ad3nBqBSGH6j"
      },
      "source": [
        "Загрузка самых базовых библиотек:"
      ]
    },
    {
      "cell_type": "code",
      "execution_count": 207,
      "metadata": {
        "id": "Z8Iht5qhGH6l"
      },
      "outputs": [],
      "source": [
        "import numpy as np\n",
        "import pandas as pd\n",
        "import matplotlib.pyplot as plt\n",
        "%matplotlib inline\n",
        "\n",
        "from sklearn.model_selection import train_test_split"
      ]
    },
    {
      "cell_type": "markdown",
      "metadata": {
        "id": "4W8Eq0sTGH6n"
      },
      "source": [
        "### [NumPy](https://numpy.org/doc/stable/user/index.html)\n",
        "\n",
        "С 1995 numeric, с 2006 NumPy — «Numerical Python extensions» или просто «NumPy»\n",
        "\n",
        "Возможности библиотеки NumPy:\n",
        "* работать с многомерными массивами (таблицами)\n",
        "* быстро вычислять математические функций на многомерных массивах\n",
        "\n",
        "Ядро пакета NumPy — объект [ndarray](https://docs.scipy.org/doc/numpy/reference/generated/numpy.ndarray.html)\n",
        "\n",
        "**Важные отличия** между NumPy arrays и Python sequences:\n",
        "* NumPy array имеет фиксированную длину, которая определяется в момент его создания (в отличие от Python lists, которые могут расти динамически)\n",
        "* Элементы в NumPy array должны быть одного типа\n",
        "* Можно выполнять операции непосредственно над NumPy arrays\n",
        "\n",
        "**Скорость** NumPy достигается с помощью:\n",
        "* реализации на C\n",
        "* векторизации и броадкастинга (broadcasting). Например, произведение массивов совместимых форм.\n",
        "\n",
        "Теперь давайте разберёмся подробнее и сделаем что-нибудь приятное и полезное в `numpy`!"
      ]
    },
    {
      "cell_type": "markdown",
      "metadata": {
        "id": "eS3UKcU6GH6o"
      },
      "source": [
        "### Индексация"
      ]
    },
    {
      "cell_type": "markdown",
      "metadata": {
        "id": "VqBzoEfvGH6p"
      },
      "source": [
        "В NumPy работает привычная индексация Python, ура! Включая использование отрицательных индексов и срезов (slices)"
      ]
    },
    {
      "cell_type": "markdown",
      "metadata": {
        "id": "Anq_nSYTGH6q"
      },
      "source": [
        "<div class=\"alert alert-info\">\n",
        "<b>Замечание 1:</b> Индексы и срезы в многомерных массивах не нужно разделять квадратными скобками,\n",
        "т.е. вместо <b>matrix[i][j]</b> нужно использовать <b>matrix[i, j]</b>. Первое тоже работает, но сначала выдаёт строку i, потом элемент j в ней.\n",
        "</div>"
      ]
    },
    {
      "cell_type": "markdown",
      "metadata": {
        "id": "OoHXSVIrGH6q"
      },
      "source": [
        "<div class=\"alert alert-danger\">\n",
        "<b>Замечание 2:</b> Срезы в NumPy создают view, а не копии, как в случае срезов встроенных последовательностей Python (string, tuple and list).\n",
        "</div>"
      ]
    },
    {
      "cell_type": "code",
      "execution_count": 208,
      "metadata": {
        "id": "YJKxBB4dGH6s",
        "outputId": "61139b1d-46db-4f7f-d5bb-96b7c3f96284"
      },
      "outputs": [
        {
          "data": {
            "text/plain": [
              "array([[0., 0., 0.],\n",
              "       [0., 0., 0.],\n",
              "       [0., 0., 0.]])"
            ]
          },
          "execution_count": 208,
          "metadata": {},
          "output_type": "execute_result"
        }
      ],
      "source": [
        "ones_matrix = np.ones((5, 5))\n",
        "ones_submatrix_view = ones_matrix[::2,::2] # creates a view, not copy\n",
        "ones_matrix[::2,::2] = np.zeros((3, 3))\n",
        "ones_submatrix_view"
      ]
    },
    {
      "cell_type": "markdown",
      "metadata": {
        "id": "jpEF1rp2GH6v"
      },
      "source": [
        "### Ссылка на Яндекс.Контест\n",
        "\n",
        "Решения и ответы в задачах, расположенных ниже, загружайте в контест на автоматическую проверку:\n",
        "https://new.contest.yandex.ru/60376/start\n"
      ]
    },
    {
      "cell_type": "markdown",
      "metadata": {
        "id": "eZpuxPhJGH6v"
      },
      "source": [
        "**1.** Реализуйте функцию, принимающую на вход два одномерных массива `first_array` и `second_array` и возвращающую матрицу, в которой первый массив соответствует первому столбцу матрицы, второй — второму.\n",
        "\n",
        "Вероятно первое, что приходит вам на ум, это конкатенация и транспонирование:"
      ]
    },
    {
      "cell_type": "code",
      "execution_count": 209,
      "metadata": {
        "id": "hmQk1N6rGH6w"
      },
      "outputs": [],
      "source": [
        "def construct_matrix(first_array, second_array):\n",
        "    \"\"\"\n",
        "    Construct matrix from pair of arrays\n",
        "    :param first_array: first array\n",
        "    :param second_array: second array\n",
        "    :return: constructed matrix\n",
        "    \"\"\"\n",
        "    return np.hstack([first_array.reshape(-1, 1), second_array.reshape(-1, 1)]) # <- your first right code here"
      ]
    },
    {
      "cell_type": "code",
      "execution_count": 210,
      "metadata": {
        "id": "TeFqyCz4GH6x",
        "outputId": "ecd0b7d3-7acf-40f2-878e-057d17136e8c",
        "scrolled": true
      },
      "outputs": [
        {
          "data": {
            "text/plain": [
              "array([[1, 3],\n",
              "       [2, 4]])"
            ]
          },
          "execution_count": 210,
          "metadata": {},
          "output_type": "execute_result"
        }
      ],
      "source": [
        "construct_matrix(np.array([1,2]),np.array([3,4]))"
      ]
    },
    {
      "cell_type": "code",
      "execution_count": 211,
      "metadata": {},
      "outputs": [
        {
          "data": {
            "text/plain": [
              "array([[1, 2]])"
            ]
          },
          "execution_count": 211,
          "metadata": {},
          "output_type": "execute_result"
        }
      ],
      "source": [
        "np.hstack([np.array([1]).reshape(-1, 1),np.array([2]).reshape(-1, 1)])"
      ]
    },
    {
      "cell_type": "markdown",
      "metadata": {
        "id": "lP-lmcA2GH6y"
      },
      "source": [
        "(в скобках заметим, что конкатенировать можно vertically, horizontally, depth wise методами vstack, hstack, dstack по трём осям (0, 1 и 2, соотвественно), либо в общем случае `np.concatenate` — поиграйтесь ниже с прекрасным примером четырёхмерной точки, чтобы точно всё для себя понять)"
      ]
    },
    {
      "cell_type": "code",
      "execution_count": 212,
      "metadata": {
        "id": "xguxLJ0VGH6y",
        "outputId": "2f32df14-6f5d-4800-96b5-bb8fba9c9ec0"
      },
      "outputs": [
        {
          "data": {
            "text/plain": [
              "array([[[[0]]]])"
            ]
          },
          "execution_count": 212,
          "metadata": {},
          "output_type": "execute_result"
        }
      ],
      "source": [
        "p = np.arange(1).reshape([1, 1, 1, 1])\n",
        "p"
      ]
    },
    {
      "cell_type": "code",
      "execution_count": 213,
      "metadata": {
        "id": "z1JFw75eGH6y",
        "outputId": "16e3c894-2e0e-4a5a-edd4-7a974cfa43e4"
      },
      "outputs": [
        {
          "name": "stdout",
          "output_type": "stream",
          "text": [
            "vstack:  (2, 1, 1, 1)\n",
            "hstack:  (1, 2, 1, 1)\n",
            "dstack:  (1, 1, 2, 1)\n"
          ]
        }
      ],
      "source": [
        "print(\"vstack: \", np.vstack((p, p)).shape)\n",
        "print(\"hstack: \", np.hstack((p, p)).shape)\n",
        "print(\"dstack: \", np.dstack((p, p)).shape)"
      ]
    },
    {
      "cell_type": "code",
      "execution_count": 214,
      "metadata": {
        "id": "cvbthbDDGH6z",
        "outputId": "d89430e5-8c64-4b5f-f2b3-4343f4c659ed"
      },
      "outputs": [
        {
          "data": {
            "text/plain": [
              "(1, 1, 1, 2)"
            ]
          },
          "execution_count": 214,
          "metadata": {},
          "output_type": "execute_result"
        }
      ],
      "source": [
        "np.concatenate((p, p), axis=3).shape"
      ]
    },
    {
      "cell_type": "markdown",
      "metadata": {
        "id": "-5GkuWwaGH60"
      },
      "source": [
        "Но, поскольку операция транспонирования [делает массив non-contiguous](https://numpy.org/doc/stable/user/basics.copies.html#other-operations), мы в этой задаче **запретим** ей пользоваться и порекомедуем воспользоваться, например, методом [reshape](https://numpy.org/doc/stable/reference/generated/numpy.reshape.html)."
      ]
    },
    {
      "cell_type": "markdown",
      "metadata": {
        "id": "n3ce_o75GH61"
      },
      "source": [
        "**2.** Реализуйте функцию, принимающую на вход массив целых неотрицательных чисел `nums` и возвращающую самый частый элемент массива."
      ]
    },
    {
      "cell_type": "code",
      "execution_count": 215,
      "metadata": {
        "id": "XZysMovaGH61"
      },
      "outputs": [],
      "source": [
        "def most_frequent(nums):\n",
        "    \"\"\"\n",
        "    Find the most frequent value in an array\n",
        "    :param nums: array of ints\n",
        "    :return: the most frequent value\n",
        "    \"\"\"\n",
        "    vals, cnts = np.unique(nums, return_counts=True)\n",
        "    return vals[np.argmax(cnts)] # your code here"
      ]
    },
    {
      "cell_type": "code",
      "execution_count": 216,
      "metadata": {},
      "outputs": [],
      "source": [
        "nums = np.array([1, 2, 3, 4, 4, 5, 2, 3, 2])\n",
        "assert most_frequent(nums) == 2"
      ]
    },
    {
      "cell_type": "markdown",
      "metadata": {
        "id": "e6kjITZMGH62"
      },
      "source": [
        "### Переходим к работе с данными\n",
        "\n",
        "Прежде всего, загрузим данные и сделаем из них красивые pandas-таблички. Они взяты из параллели RecSys соревнования https://yandex.ru/cup/ml/. Но мы будем иметь дело не со всеми данными, а только с их частью. Данные у нас будут про заведения общественного питания (больше бюрократический терминологии!)\n",
        "\n",
        "Файлы с данными можно найти [здесь](https://disk.yandex.ru/d/YWvCNRQMb7QSQA).\n",
        "\n",
        "Задачей будет **предсказание среднего чека** (average_bill) по некоторым другим свойствам заведения."
      ]
    },
    {
      "cell_type": "code",
      "execution_count": 217,
      "metadata": {
        "id": "yJPF3OclGH62"
      },
      "outputs": [],
      "source": [
        "base = 'data/'"
      ]
    },
    {
      "cell_type": "code",
      "execution_count": 218,
      "metadata": {
        "id": "uzDIu6uXGH62"
      },
      "outputs": [],
      "source": [
        "data = pd.read_csv(base + 'organisations.csv')\n",
        "features = pd.read_csv(base + 'features.csv')\n",
        "rubrics = pd.read_csv(base + 'rubrics.csv')"
      ]
    },
    {
      "cell_type": "markdown",
      "metadata": {
        "id": "k-AwDM7bGH63"
      },
      "source": [
        "В основном мы будем работать с табличкой `data`; остальное вам может пригодиться, если вы захотите знать, какое содержание стоит за кодами признаков."
      ]
    },
    {
      "cell_type": "markdown",
      "metadata": {
        "id": "4hrvEN_3GH63"
      },
      "source": [
        "## Изучение данных"
      ]
    },
    {
      "cell_type": "markdown",
      "metadata": {
        "id": "PI9YQMuCGH63"
      },
      "source": [
        "Посмотрите на данные. В этом вам поможет метод ``head`` pandas-таблички."
      ]
    },
    {
      "cell_type": "code",
      "execution_count": 219,
      "metadata": {
        "id": "VA_0DG29GH64"
      },
      "outputs": [
        {
          "data": {
            "text/html": [
              "<div>\n",
              "<style scoped>\n",
              "    .dataframe tbody tr th:only-of-type {\n",
              "        vertical-align: middle;\n",
              "    }\n",
              "\n",
              "    .dataframe tbody tr th {\n",
              "        vertical-align: top;\n",
              "    }\n",
              "\n",
              "    .dataframe thead th {\n",
              "        text-align: right;\n",
              "    }\n",
              "</style>\n",
              "<table border=\"1\" class=\"dataframe\">\n",
              "  <thead>\n",
              "    <tr style=\"text-align: right;\">\n",
              "      <th></th>\n",
              "      <th>org_id</th>\n",
              "      <th>city</th>\n",
              "      <th>average_bill</th>\n",
              "      <th>rating</th>\n",
              "      <th>rubrics_id</th>\n",
              "      <th>features_id</th>\n",
              "    </tr>\n",
              "  </thead>\n",
              "  <tbody>\n",
              "    <tr>\n",
              "      <th>0</th>\n",
              "      <td>15903868628669802651</td>\n",
              "      <td>msk</td>\n",
              "      <td>1500.0</td>\n",
              "      <td>4.270968</td>\n",
              "      <td>30776 30774</td>\n",
              "      <td>3501685156 3501779478 20422 3502045016 3502045...</td>\n",
              "    </tr>\n",
              "    <tr>\n",
              "      <th>1</th>\n",
              "      <td>16076540698036998306</td>\n",
              "      <td>msk</td>\n",
              "      <td>500.0</td>\n",
              "      <td>4.375000</td>\n",
              "      <td>30771</td>\n",
              "      <td>1509 1082283206 273469383 10462 11617 35017794...</td>\n",
              "    </tr>\n",
              "    <tr>\n",
              "      <th>2</th>\n",
              "      <td>8129364761615040323</td>\n",
              "      <td>msk</td>\n",
              "      <td>500.0</td>\n",
              "      <td>4.000000</td>\n",
              "      <td>31495</td>\n",
              "      <td>10462 11177 11617 11629 1416 1018 11704 11867 ...</td>\n",
              "    </tr>\n",
              "    <tr>\n",
              "      <th>3</th>\n",
              "      <td>15262729117594253452</td>\n",
              "      <td>msk</td>\n",
              "      <td>500.0</td>\n",
              "      <td>4.538813</td>\n",
              "      <td>30776 30770</td>\n",
              "      <td>3501618484 2020795524 11629 11617 1018 11704 2...</td>\n",
              "    </tr>\n",
              "    <tr>\n",
              "      <th>4</th>\n",
              "      <td>13418544315327784420</td>\n",
              "      <td>msk</td>\n",
              "      <td>500.0</td>\n",
              "      <td>4.409091</td>\n",
              "      <td>31495</td>\n",
              "      <td>11617 10462 11177 1416 11867 3501744275 20282 ...</td>\n",
              "    </tr>\n",
              "  </tbody>\n",
              "</table>\n",
              "</div>"
            ],
            "text/plain": [
              "                 org_id city  average_bill    rating   rubrics_id  \\\n",
              "0  15903868628669802651  msk        1500.0  4.270968  30776 30774   \n",
              "1  16076540698036998306  msk         500.0  4.375000        30771   \n",
              "2   8129364761615040323  msk         500.0  4.000000        31495   \n",
              "3  15262729117594253452  msk         500.0  4.538813  30776 30770   \n",
              "4  13418544315327784420  msk         500.0  4.409091        31495   \n",
              "\n",
              "                                         features_id  \n",
              "0  3501685156 3501779478 20422 3502045016 3502045...  \n",
              "1  1509 1082283206 273469383 10462 11617 35017794...  \n",
              "2  10462 11177 11617 11629 1416 1018 11704 11867 ...  \n",
              "3  3501618484 2020795524 11629 11617 1018 11704 2...  \n",
              "4  11617 10462 11177 1416 11867 3501744275 20282 ...  "
            ]
          },
          "execution_count": 219,
          "metadata": {},
          "output_type": "execute_result"
        }
      ],
      "source": [
        "# <Your code here>\n",
        "data.head()"
      ]
    },
    {
      "cell_type": "code",
      "execution_count": 220,
      "metadata": {},
      "outputs": [
        {
          "data": {
            "text/html": [
              "<div>\n",
              "<style scoped>\n",
              "    .dataframe tbody tr th:only-of-type {\n",
              "        vertical-align: middle;\n",
              "    }\n",
              "\n",
              "    .dataframe tbody tr th {\n",
              "        vertical-align: top;\n",
              "    }\n",
              "\n",
              "    .dataframe thead th {\n",
              "        text-align: right;\n",
              "    }\n",
              "</style>\n",
              "<table border=\"1\" class=\"dataframe\">\n",
              "  <thead>\n",
              "    <tr style=\"text-align: right;\">\n",
              "      <th></th>\n",
              "      <th>feature_id</th>\n",
              "      <th>feature_name</th>\n",
              "    </tr>\n",
              "  </thead>\n",
              "  <tbody>\n",
              "    <tr>\n",
              "      <th>0</th>\n",
              "      <td>1</td>\n",
              "      <td>prepress_and_post_printing_processing</td>\n",
              "    </tr>\n",
              "    <tr>\n",
              "      <th>1</th>\n",
              "      <td>40</td>\n",
              "      <td>products</td>\n",
              "    </tr>\n",
              "    <tr>\n",
              "      <th>2</th>\n",
              "      <td>54</td>\n",
              "      <td>printing_method</td>\n",
              "    </tr>\n",
              "    <tr>\n",
              "      <th>3</th>\n",
              "      <td>77</td>\n",
              "      <td>fuel</td>\n",
              "    </tr>\n",
              "    <tr>\n",
              "      <th>4</th>\n",
              "      <td>79</td>\n",
              "      <td>shop</td>\n",
              "    </tr>\n",
              "  </tbody>\n",
              "</table>\n",
              "</div>"
            ],
            "text/plain": [
              "   feature_id                           feature_name\n",
              "0           1  prepress_and_post_printing_processing\n",
              "1          40                               products\n",
              "2          54                        printing_method\n",
              "3          77                                   fuel\n",
              "4          79                                   shop"
            ]
          },
          "execution_count": 220,
          "metadata": {},
          "output_type": "execute_result"
        }
      ],
      "source": [
        "features.head()"
      ]
    },
    {
      "cell_type": "code",
      "execution_count": 221,
      "metadata": {},
      "outputs": [
        {
          "data": {
            "text/html": [
              "<div>\n",
              "<style scoped>\n",
              "    .dataframe tbody tr th:only-of-type {\n",
              "        vertical-align: middle;\n",
              "    }\n",
              "\n",
              "    .dataframe tbody tr th {\n",
              "        vertical-align: top;\n",
              "    }\n",
              "\n",
              "    .dataframe thead th {\n",
              "        text-align: right;\n",
              "    }\n",
              "</style>\n",
              "<table border=\"1\" class=\"dataframe\">\n",
              "  <thead>\n",
              "    <tr style=\"text-align: right;\">\n",
              "      <th></th>\n",
              "      <th>rubric_id</th>\n",
              "      <th>rubric_name</th>\n",
              "    </tr>\n",
              "  </thead>\n",
              "  <tbody>\n",
              "    <tr>\n",
              "      <th>0</th>\n",
              "      <td>30519</td>\n",
              "      <td>Булочная, пекарня</td>\n",
              "    </tr>\n",
              "    <tr>\n",
              "      <th>1</th>\n",
              "      <td>30770</td>\n",
              "      <td>Бар, паб</td>\n",
              "    </tr>\n",
              "    <tr>\n",
              "      <th>2</th>\n",
              "      <td>30771</td>\n",
              "      <td>Быстрое питание</td>\n",
              "    </tr>\n",
              "    <tr>\n",
              "      <th>3</th>\n",
              "      <td>30774</td>\n",
              "      <td>Кафе</td>\n",
              "    </tr>\n",
              "    <tr>\n",
              "      <th>4</th>\n",
              "      <td>30775</td>\n",
              "      <td>Пиццерия</td>\n",
              "    </tr>\n",
              "  </tbody>\n",
              "</table>\n",
              "</div>"
            ],
            "text/plain": [
              "   rubric_id        rubric_name\n",
              "0      30519  Булочная, пекарня\n",
              "1      30770           Бар, паб\n",
              "2      30771    Быстрое питание\n",
              "3      30774               Кафе\n",
              "4      30775           Пиццерия"
            ]
          },
          "execution_count": 221,
          "metadata": {},
          "output_type": "execute_result"
        }
      ],
      "source": [
        "rubrics.head()"
      ]
    },
    {
      "cell_type": "markdown",
      "metadata": {
        "id": "GN9kZbURGH64"
      },
      "source": [
        "Полезно посмотреть внимательнее на то, с какими признаками нам предстоит работать.\n",
        "\n",
        "* **org_id** вам не понадобится;\n",
        "* **city** - город, в котором находится заведение (``msk`` или ``spb``);\n",
        "* **average_bill** - средний чек в заведении - он будет нашим таргетом;\n",
        "* **rating** - рейтинг заведения;\n",
        "* **rubrics_id** - тип заведения (или несколько типов). Соответствие кодов каким-то человекочитаемым типам живёт в табличке ``rubrics``\n",
        "* **features_id** - набор неких фичей заведения. Соответствие кодов каким-то человекочитаемым типам живёт в табличке ``features``\n",
        "\n",
        "Обратите внимание, что **rubrics_id** и **features_id** - это не списки, а разделённые пробелами строки. Когда вам захочется работать с отдельными фичами из мешка фичей для данного заведения, вам придётся всё-таки превратить их в списки (здесь поможет метод `split` для строк)."
      ]
    },
    {
      "cell_type": "markdown",
      "metadata": {
        "id": "J0IJIWz3GH64"
      },
      "source": [
        "Чтобы быстро восстанавливать по рубрикам и фичам их нормальные названия, сделайте словари вида ``код_фичи:название_фичи``"
      ]
    },
    {
      "cell_type": "code",
      "execution_count": 222,
      "metadata": {
        "id": "8KwKEKr7GH65"
      },
      "outputs": [],
      "source": [
        "# <Your code here>\n",
        "rubric_dict = dict(zip(rubrics.rubric_id, rubrics.rubric_name))\n",
        "feature_dict = dict(zip(features.feature_id, features.feature_name))"
      ]
    },
    {
      "cell_type": "markdown",
      "metadata": {
        "id": "DNd4PkyQGH65"
      },
      "source": [
        "Посмотрим, какими бывают типы заведений:"
      ]
    },
    {
      "cell_type": "code",
      "execution_count": 223,
      "metadata": {
        "id": "8WhaPPEeGH65",
        "outputId": "aaf9cc8c-64ae-4bac-d8f8-6dd4d03033d8",
        "scrolled": false
      },
      "outputs": [
        {
          "data": {
            "text/plain": [
              "{30519: 'Булочная, пекарня',\n",
              " 30770: 'Бар, паб',\n",
              " 30771: 'Быстрое питание',\n",
              " 30774: 'Кафе',\n",
              " 30775: 'Пиццерия',\n",
              " 30776: 'Ресторан',\n",
              " 30777: 'Столовая',\n",
              " 31286: 'Спортбар',\n",
              " 31350: 'Кондитерская',\n",
              " 31375: 'Суши-бар',\n",
              " 31401: 'Кальян-бар',\n",
              " 31495: 'Кофейня',\n",
              " 3108292683: 'Бар безалкогольных напитков',\n",
              " 3501514558: 'Фудкорт',\n",
              " 3501750896: 'Кофе с собой'}"
            ]
          },
          "execution_count": 223,
          "metadata": {},
          "output_type": "execute_result"
        }
      ],
      "source": [
        "rubric_dict"
      ]
    },
    {
      "cell_type": "code",
      "execution_count": 224,
      "metadata": {},
      "outputs": [
        {
          "data": {
            "text/plain": [
              "{1: 'prepress_and_post_printing_processing',\n",
              " 40: 'products',\n",
              " 54: 'printing_method',\n",
              " 77: 'fuel',\n",
              " 79: 'shop',\n",
              " 82: 'last_minute_deals_only',\n",
              " 104: 'tour_type',\n",
              " 110: 'audio_guide',\n",
              " 111: 'cargo_transportation',\n",
              " 113: 'manufacturing',\n",
              " 114: 'installation',\n",
              " 115: 'repairs',\n",
              " 116: 'production',\n",
              " 117: 'sale',\n",
              " 133: 'music_genre',\n",
              " 135: 'electroniccigarette',\n",
              " 137: 'variety_food',\n",
              " 140: 'room_disabled',\n",
              " 175: 'arts',\n",
              " 246: 'karaoke',\n",
              " 249: 'street_theatre',\n",
              " 253: 'performance',\n",
              " 256: 'vip_zone',\n",
              " 270: 'money_transfers',\n",
              " 275: 'loans_private_individuals',\n",
              " 282: 'sober_driver',\n",
              " 288: 'accepted_credit_cards',\n",
              " 305: 'refrigerator',\n",
              " 308: 'minibar',\n",
              " 312: 'room_number',\n",
              " 328: 'speciality',\n",
              " 337: 'type_of_rooms',\n",
              " 344: 'building_repair',\n",
              " 349: 'hospital_profile',\n",
              " 354: 'type_parking',\n",
              " 372: 'services_corporate_clients',\n",
              " 379: 'currency_exchange',\n",
              " 392: 'debit_cards',\n",
              " 402: 'improving_driver_qualifications',\n",
              " 405: 'female_instructor',\n",
              " 409: 'medical_board',\n",
              " 425: 'training_machines',\n",
              " 427: 'target_audience',\n",
              " 433: 'business_lending',\n",
              " 444: 'has_restaurant',\n",
              " 447: 'air_conditioning',\n",
              " 536: 'country',\n",
              " 540: 'online_sales',\n",
              " 542: 'stadium_type',\n",
              " 545: 'car_valeting',\n",
              " 594: 'pro_shop',\n",
              " 598: 'body_repair',\n",
              " 601: 'car_park',\n",
              " 602: 'hair_removal',\n",
              " 636: 'imax',\n",
              " 726: 'cosmetology_services',\n",
              " 790: 'pets',\n",
              " 795: 'hotel_type',\n",
              " 803: 'massage_services',\n",
              " 873: 'leasing_registration',\n",
              " 883: '3d',\n",
              " 956: 'railway_tickets',\n",
              " 962: 'services_specialists',\n",
              " 980: 'trade_in',\n",
              " 983: 'star',\n",
              " 989: 'form_of_training',\n",
              " 995: 'staging_of_dancing_routines',\n",
              " 1018: 'food_delivery',\n",
              " 1054: 'car_wash',\n",
              " 1059: 'additional_services',\n",
              " 1070: 'official_dealer',\n",
              " 1075: 'pool',\n",
              " 1091: 'atm',\n",
              " 1104: 'loan_processing',\n",
              " 1113: 'registration_inspection',\n",
              " 1124: 'car_brand',\n",
              " 1131: 'online_recording',\n",
              " 1246: 'type_of_museum',\n",
              " 1257: 'test_drive',\n",
              " 1261: 'flights',\n",
              " 1271: 'cash_desk',\n",
              " 1413: 'sauna',\n",
              " 1415: 'nursery',\n",
              " 1416: 'type_cuisine',\n",
              " 1509: 'special_menu',\n",
              " 1524: 'type_public_catering',\n",
              " 1572: 'type_waterpark',\n",
              " 1573: 'childrens_town',\n",
              " 1575: 'water_purification_method',\n",
              " 1582: 'water_activities',\n",
              " 1587: 'wave_pool',\n",
              " 1589: 'pool_type',\n",
              " 1592: 'number_of_swimming_lanes',\n",
              " 1600: 'group_classes',\n",
              " 1627: 'gym',\n",
              " 1629: 'sport_game',\n",
              " 1651: 'martial_arts',\n",
              " 1702: 'covering',\n",
              " 1703: 'dance',\n",
              " 1753: 'hairdressing_services',\n",
              " 1783: 'types_of_tanning_beds',\n",
              " 1796: 'figure_correction',\n",
              " 1819: 'nail_procedures',\n",
              " 1840: 'for_children',\n",
              " 1877: 'vehicle_fleet',\n",
              " 1879: 'training_category',\n",
              " 1888: 'holding_of_bowling_tournaments',\n",
              " 1889: 'conducting_pool_tournaments',\n",
              " 1891: 'storage_of_client_pool_equipment',\n",
              " 1892: 'storage_of_client_bowling_equipment',\n",
              " 1893: 'billiard_school',\n",
              " 1894: 'bowling_for_children',\n",
              " 1897: 'bowling_school',\n",
              " 1900: 'wedding_dances',\n",
              " 1903: 'artists_for_events',\n",
              " 1935: 'services_veterinary_clinic',\n",
              " 1937: 'state',\n",
              " 10427: 'price_delivery',\n",
              " 10428: 'hall_capacity',\n",
              " 10429: 'price_hour',\n",
              " 10430: 'time_order',\n",
              " 10434: 'tickets',\n",
              " 10437: 'washing_zones',\n",
              " 10440: 'russian_billiard',\n",
              " 10441: 'track_length',\n",
              " 10442: 'year_of_foundation',\n",
              " 10447: 'kalyan',\n",
              " 10448: 'price_evening',\n",
              " 10449: 'price_per_hour_sauna2',\n",
              " 10450: 'price_taxi',\n",
              " 10451: 'price_per_month3',\n",
              " 10459: 'women_haircut',\n",
              " 10462: 'average_bill2',\n",
              " 10463: 'price_8',\n",
              " 10470: 'hall',\n",
              " 10480: 'cartridge',\n",
              " 10481: 'water_stuff',\n",
              " 10487: 'price_1',\n",
              " 10502: 'pool_backflow',\n",
              " 10506: 'sports_medicine',\n",
              " 10512: 'outfit',\n",
              " 10513: 'baggage_room',\n",
              " 10514: 'skate_rental',\n",
              " 10515: 'skate_sharpening',\n",
              " 10518: 'kids_club',\n",
              " 10556: 'weekend_group',\n",
              " 10557: 'language',\n",
              " 10560: 'door_type',\n",
              " 10563: 'spa',\n",
              " 10564: 'type_food',\n",
              " 10565: 'visa_support',\n",
              " 10580: 'bridal_assortment',\n",
              " 10588: 'laundry',\n",
              " 10596: 'minimum_order',\n",
              " 10597: 'natural_reservoir',\n",
              " 10600: 'admission_by_appointment',\n",
              " 10656: 'wheel_alignment',\n",
              " 10668: 'car_rental',\n",
              " 10669: 'animal_transportation',\n",
              " 10676: 'kindergarden_features',\n",
              " 10718: 'clothes_and_shoe_repairs',\n",
              " 10722: 'beauty_salon',\n",
              " 10744: 'dry_cleaners_',\n",
              " 10746: 'shop_types',\n",
              " 10760: 'regions_of_the_world',\n",
              " 10768: 'home_visit',\n",
              " 10770: 'face_control',\n",
              " 10782: 'auto_sales',\n",
              " 10803: 'goods_for_animals',\n",
              " 10804: 'travel_insurance',\n",
              " 10824: 'training_duration',\n",
              " 10829: 'personal_trainer',\n",
              " 10832: 'exercises_for_pregnant_women',\n",
              " 10833: 'annual_subscription',\n",
              " 10835: 'internet_shop',\n",
              " 10836: 'urgent_printing',\n",
              " 10840: 'vip_taxi',\n",
              " 10843: 'corporate_taxi',\n",
              " 10847: 'child_seat',\n",
              " 10849: 'courier_delivery',\n",
              " 10853: 'ceremonies',\n",
              " 10859: 'airport_and_railway_transfers',\n",
              " 10870: 'dentist_services',\n",
              " 10875: 'show_program',\n",
              " 10886: 'music',\n",
              " 10888: 'chillout',\n",
              " 10894: 'dancefloor',\n",
              " 10896: 'dress_code',\n",
              " 10898: 'for_kids',\n",
              " 10900: 'billiards',\n",
              " 10912: 'delivery_medicines',\n",
              " 10921: 'trampoline',\n",
              " 10966: 'price_per_month2',\n",
              " 11006: 'piercing',\n",
              " 11012: 'cafe',\n",
              " 11022: 'solarium',\n",
              " 11032: 'childrens_fitness',\n",
              " 11082: 'car_polishing',\n",
              " 11097: 'transfer',\n",
              " 11106: 'steam',\n",
              " 11145: 'entertainment',\n",
              " 11165: 'man_haircut',\n",
              " 11167: 'tattoo',\n",
              " 11172: 'shower',\n",
              " 11177: 'breakfast',\n",
              " 11187: 'auto_insurance_type',\n",
              " 11190: 'number_of_halls',\n",
              " 11216: 'pool_tables',\n",
              " 11230: 'tire_fitting',\n",
              " 11305: 'marktet_types',\n",
              " 11389: 'mother_and_child_room',\n",
              " 11496: 'number_pool',\n",
              " 11531: 'seats',\n",
              " 11615: 'photo_studio',\n",
              " 11617: 'takeaway',\n",
              " 11629: 'summer_terrace',\n",
              " 11634: 'free_delivery',\n",
              " 11638: 'car_servicing',\n",
              " 11642: 'car_wash_type',\n",
              " 11657: 'car_waxing',\n",
              " 11658: 'tire_blacking',\n",
              " 11661: 'wheel_balancing',\n",
              " 11663: 'vulcanization',\n",
              " 11700: 'aquarium',\n",
              " 11703: 'clothes_fitting',\n",
              " 11704: 'wi_fi',\n",
              " 11705: 'tailoring',\n",
              " 11707: 'embroidery',\n",
              " 11709: 'strip',\n",
              " 11721: 'shooting',\n",
              " 11722: 'tailoring_of',\n",
              " 11731: 'photo_printing',\n",
              " 11741: 'gift_certificate',\n",
              " 11758: 'photo_processing',\n",
              " 11774: 'price_1_min',\n",
              " 11827: 'wide_format_printing',\n",
              " 11828: 'riding',\n",
              " 11830: 'implants',\n",
              " 11832: 'scarification',\n",
              " 11834: 'tongue_splitting',\n",
              " 11835: 'video_digitization',\n",
              " 11836: 'suspension',\n",
              " 11838: 'snooker_table',\n",
              " 11839: 'delivery',\n",
              " 11840: 'tattoo_training',\n",
              " 11842: 'wet_cleaning',\n",
              " 11843: 'body_art',\n",
              " 11847: 'cleaning_services',\n",
              " 11848: 'theater_type',\n",
              " 11862: 'window_and_glass_cabinet_washing',\n",
              " 11864: 'fur_coat_storage',\n",
              " 11865: 'extreme_driving',\n",
              " 11867: 'business_lunch',\n",
              " 11870: 'dress_hire_and_tailoring',\n",
              " 11878: 'dresses',\n",
              " 11881: 'wedding_planning',\n",
              " 11882: 'work_with_individuals',\n",
              " 11883: 'additional_services_cars',\n",
              " 11886: 'additional_services_gas_station',\n",
              " 11895: 'brokencars',\n",
              " 11896: 'online_photo_printing',\n",
              " 11897: 'spa_services',\n",
              " 11904: 'infrared_sauna',\n",
              " 11906: 'hydro_massage_pool',\n",
              " 11909: 'shopping_advice',\n",
              " 11912: 'pilgrimage_service',\n",
              " 11913: 'photo_shoot',\n",
              " 11915: 'terrariums',\n",
              " 11916: 'wardrobe_analysis',\n",
              " 11920: 'make_up_style',\n",
              " 11930: 'wardrobe_makeover',\n",
              " 11933: 'dry_cleaning',\n",
              " 11935: 'color_analysis',\n",
              " 11936: 'internet_in_hotel',\n",
              " 11944: 'individual_training',\n",
              " 11948: 'master_classes',\n",
              " 11951: 'elevator',\n",
              " 11953: 'training_material',\n",
              " 11957: 'yoga_for_children',\n",
              " 11959: 'number_of_attraction',\n",
              " 11961: 'bbq',\n",
              " 11963: 'yoga_lesson_programs',\n",
              " 11967: 'eye_tests',\n",
              " 11968: 'back_treatment',\n",
              " 11970: 'fishing',\n",
              " 11972: 'yoga_seminars',\n",
              " 11977: 'lagoon',\n",
              " 11978: 'for_teachers',\n",
              " 11981: 'childrens_pool',\n",
              " 11982: 'fito_bar',\n",
              " 12015: 'opticians_services',\n",
              " 12047: 'tour_operators',\n",
              " 12048: 'payment_method',\n",
              " 12172: 'restorative_program',\n",
              " 12174: 'refueling_truck',\n",
              " 12178: 'auto_gas_station',\n",
              " 12193: 'table_tennis',\n",
              " 12195: 'dressing_room',\n",
              " 12196: 'insurance_services',\n",
              " 12198: 'animation_staff',\n",
              " 12200: 'insurance_type',\n",
              " 12203: 'rental',\n",
              " 12204: 'assortment_of_cake_fillings',\n",
              " 12206: 'cakes_for_different_occasions',\n",
              " 12209: 'ice_rink',\n",
              " 12210: 'corporate_events',\n",
              " 12212: 'self_service',\n",
              " 12243: 'fuel_cards',\n",
              " 12288: 'handicraft_type',\n",
              " 12290: 'handicraft_stores',\n",
              " 12292: 'type_windows',\n",
              " 12294: 'services_windows',\n",
              " 12303: 'windows_accessories',\n",
              " 12309: 'price_room',\n",
              " 20278: 'foregn_language_children',\n",
              " 20279: 'basic_service',\n",
              " 20280: 'hall_rental',\n",
              " 20282: 'price_cup_cappuccino',\n",
              " 20283: '4dx',\n",
              " 20285: 'cooperation_with_courier_services',\n",
              " 20288: 'legal_services_in_housing',\n",
              " 20291: 'plugtype',\n",
              " 20299: 'sport_place',\n",
              " 20303: 'types_motorcycles',\n",
              " 20304: 'price_rolls',\n",
              " 20305: 'beer_price',\n",
              " 20307: 'truck_tire_service',\n",
              " 20308: 'mobile_tire_service',\n",
              " 20309: 'dry_cleaning_home',\n",
              " 20328: 'national_library',\n",
              " 20329: 'public_library',\n",
              " 20330: 'technical_library',\n",
              " 20331: 'special_library',\n",
              " 20345: 'payment_by_parkmachine',\n",
              " 20346: 'payment_by_app',\n",
              " 20365: 'authorized_service',\n",
              " 20370: 'types_of_cosmetology',\n",
              " 20399: 'sport_activities',\n",
              " 20400: 'tires_on_all_wheels',\n",
              " 20402: 'classic_female_manicure_coated',\n",
              " 20403: 'labor_time',\n",
              " 20404: 'garbage_can',\n",
              " 20405: 'toilet',\n",
              " 20407: 'preliminary_registration',\n",
              " 20411: 'the_number_of_places_in_the_room',\n",
              " 20422: 'payment_by_credit_card',\n",
              " 20424: 'price_category',\n",
              " 20440: 'object',\n",
              " 20442: 'child_psychologist',\n",
              " 20459: 'watch',\n",
              " 20461: 'wrist_watch',\n",
              " 20490: 'for_cat',\n",
              " 20522: 'direction_college',\n",
              " 20536: 'level_training',\n",
              " 20539: 'form_high_school',\n",
              " 20541: 'for_dog',\n",
              " 20583: 'privately',\n",
              " 20600: 'areas_training',\n",
              " 20642: 'bicycle_trips',\n",
              " 20643: 'price_rental',\n",
              " 20660: 'types_tires',\n",
              " 20671: 'tennis_coverage',\n",
              " 20703: 'number_lanes',\n",
              " 20711: 'cost_hiring',\n",
              " 20713: 'car_body_cleaning_cost',\n",
              " 20725: 'iceloadingreagents',\n",
              " 20730: 'services_individuals',\n",
              " 20736: 'registration_liquidation_companies',\n",
              " 20742: 'medical_certificate',\n",
              " 20745: 'price_bed',\n",
              " 20757: 'data_recovery',\n",
              " 20779: 'types_wheels',\n",
              " 20793: 'medical_diagnostics',\n",
              " 20819: 'outdoor_skating_rink',\n",
              " 20850: 'preparatory_courses',\n",
              " 20853: 'nail_artdesign',\n",
              " 20854: 'parking_tariff',\n",
              " 20864: 'anonymous_medical',\n",
              " 20875: 'medical_specialists',\n",
              " 20877: 'types_heating_systems',\n",
              " 20880: 'hogh_school_ownship',\n",
              " 20881: 'weapons',\n",
              " 20896: 'types_massage',\n",
              " 20915: 'keep_tires',\n",
              " 20939: 'manicure_bin',\n",
              " 20987: 'research_library',\n",
              " 20988: 'fitness_services',\n",
              " 21001: 'library_blind',\n",
              " 21025: 'school_direction',\n",
              " 21032: 'sport',\n",
              " 21050: 'car_repairs',\n",
              " 21063: 'specialization_clinic',\n",
              " 21068: 'school_uniform',\n",
              " 21074: 'balancerental',\n",
              " 21079: 'sport_painball',\n",
              " 21083: 'types_of_print',\n",
              " 21100: 'urgent_photo',\n",
              " 21109: 'indoor_skating_rink',\n",
              " 21110: 'types_roofing_materials',\n",
              " 21118: 'creche',\n",
              " 21121: 'night_paintball',\n",
              " 21131: 'school_paintball',\n",
              " 21149: 'sports_rent',\n",
              " 21174: 'express_delivery',\n",
              " 21177: 'photo_lab',\n",
              " 21181: 'beauty_services',\n",
              " 21186: 'open_courts_number',\n",
              " 21199: 'pedicure_bin',\n",
              " 21200: 'specialized_schools',\n",
              " 21210: 'boutique',\n",
              " 21216: 'organic_food',\n",
              " 21238: 'per_first_hour',\n",
              " 21247: 'sports_broadcasts',\n",
              " 21275: 'kinds_of_cars',\n",
              " 21299: 'pc_brand',\n",
              " 21305: 'legal_entities',\n",
              " 21319: 'music_profession',\n",
              " 21322: 'holding_tournaments',\n",
              " 21323: 'range_bike',\n",
              " 21328: 'speech_therapist',\n",
              " 21346: 'type_clock',\n",
              " 21366: 'wholesale',\n",
              " 21376: 'flour',\n",
              " 21379: 'brand_mobile',\n",
              " 21380: 'wedding_floristry',\n",
              " 21397: 'style_men',\n",
              " 21451: 'paid',\n",
              " 21462: 'winter_paintball',\n",
              " 21506: 'nail_extension_2',\n",
              " 21530: 'video_shooting',\n",
              " 21535: 'sport_school_type',\n",
              " 21546: 'free',\n",
              " 21568: 'autovinil',\n",
              " 21576: 'interior_partitions',\n",
              " 21607: 'regional_library',\n",
              " 21615: 'age_category',\n",
              " 21618: 'metal_items_repair',\n",
              " 21619: 'types_paintball_sites',\n",
              " 21620: 'type_paintball',\n",
              " 21644: 'indoor_courts_number',\n",
              " 21657: 'subscription',\n",
              " 21662: 'tire_services',\n",
              " 21707: 'vaccination',\n",
              " 21720: 'additional_services_shooting',\n",
              " 21721: 'medical_clothing',\n",
              " 139550717: 'reconstruction_year',\n",
              " 139550722: 'beach_line',\n",
              " 139550723: 'children_playground',\n",
              " 144134373: 'emergency_gas_service',\n",
              " 144134379: 'servicing_vip_clients',\n",
              " 144134385: 'aluminum_composite_panels',\n",
              " 144134386: 'forklift_trucks',\n",
              " 144134388: 'services_for_individuals',\n",
              " 144134398: 'asbestos',\n",
              " 144134399: 'repair_of_clothing',\n",
              " 144134401: 'anti_corrosion_treatment',\n",
              " 144134411: 'geodetic_works',\n",
              " 144134413: 'geological_surveying',\n",
              " 144134414: 'types_household_appliances',\n",
              " 261704114: 'limited_access',\n",
              " 261948609: 'homeopaths',\n",
              " 262454212: 'childrens_music_school',\n",
              " 262726483: 'automotive_parts',\n",
              " 263427293: 'barbecue_rent',\n",
              " 263427294: 'picnic_area',\n",
              " 263622858: 'on_beach',\n",
              " 270844457: 'conferencing_systems',\n",
              " 270844458: 'confectionary_equipment',\n",
              " 270844459: 'refuse_and_street_sweeping_vehicles',\n",
              " 270844460: 'cat_fanciers_club',\n",
              " 270844461: 'dog_club',\n",
              " 273283228: 'types_of_foods',\n",
              " 273469383: 'coffee_to_go',\n",
              " 273469384: 'running_club',\n",
              " 273726619: 'monitor_repair',\n",
              " 273863372: 'dairy_equipment',\n",
              " 273863373: 'meat_processing_equipment',\n",
              " 273863374: 'lightening_rods',\n",
              " 273863375: 'business_telephone_system',\n",
              " 273863377: 'metal_tableware',\n",
              " 273863378: 'glass_furniture',\n",
              " 273863379: 'outboard_motors',\n",
              " 273863380: 'medical_glass',\n",
              " 274202565: 'ice_cream_production_equipment',\n",
              " 274202566: 'brick_production_equipment',\n",
              " 274202567: 'real_estate_abroad',\n",
              " 275672861: 'hall_for_women',\n",
              " 277103989: 'disability_organization',\n",
              " 277103990: 'cranes',\n",
              " 277103991: 'veterans_organization',\n",
              " 279023801: 'insulation_types',\n",
              " 279198317: 'available_for_animals',\n",
              " 279198318: 'nudist_beach',\n",
              " 282978247: 'frameless_furniture',\n",
              " 283100856: 'educational_literature',\n",
              " 283679224: 'cement_production_equipment',\n",
              " 283780512: 'trading_show_windows',\n",
              " 283780513: 'monument_protection_and_restoration',\n",
              " 284707111: 'handmade_goods',\n",
              " 284787817: 'spirits',\n",
              " 284787818: 'fish_processing_equipment',\n",
              " 284787819: 'types_of_advertising',\n",
              " 285289832: 'mccafe',\n",
              " 285289833: 'mcauto',\n",
              " 285360299: 'appliance_repair',\n",
              " 285390725: 'backpacks',\n",
              " 285491484: 'orthopedic_shoes',\n",
              " 285491485: 'footwear_types',\n",
              " 285979812: 'electric_motor_repairs',\n",
              " 286637396: 'glassware',\n",
              " 286637397: 'surge_protectors',\n",
              " 286637399: 'construction',\n",
              " 286760671: 'kinds_electronics',\n",
              " 290008589: 'ultrasonic_equipment',\n",
              " 290008590: 'transformers',\n",
              " 310972649: 'management_consulting',\n",
              " 310972650: 'baking_equipment',\n",
              " 340529552: 'loyalty_card',\n",
              " 343097186: 'porcelain',\n",
              " 343400806: 'banners',\n",
              " 357035380: 'arrangement_of_fountains_and_water_bodies',\n",
              " 370891644: 'polymer_piping_systems',\n",
              " 370891875: 'protection_of_copyrights',\n",
              " 370891876: 'civil_engineering',\n",
              " 370891877: 'investment_and_development_organization',\n",
              " 370891878: 'refrigerated_transport',\n",
              " 411925571: 'cards_and_envelopes',\n",
              " 414319396: 'sky_lights',\n",
              " 421346942: 'cctv',\n",
              " 421346943: 'offices_for_rent',\n",
              " 421346944: 'rent_apartments',\n",
              " 812162416: 'service_of_carpet_cleaning',\n",
              " 840026754: 'hockey_playground',\n",
              " 840026755: 'hockey_school',\n",
              " 840026756: 'figure_skating_school',\n",
              " 840026757: 'coating_roller',\n",
              " 856448080: 'public_bath',\n",
              " 856448081: 'detectors_of_banknotes',\n",
              " 856448082: 'money_counters',\n",
              " 948581684: 'office_or_warehouse',\n",
              " 956707375: 'construction_and_design_organization',\n",
              " 976365376: 'postpay1',\n",
              " 976365377: 'high_speed_fuel_dispenser',\n",
              " 1010409666: 'stoloto',\n",
              " 1076799212: 'mcexpress',\n",
              " 1082283206: 'features_institution',\n",
              " 1116173085: 'vocal_lessons',\n",
              " 1116173086: 'around_the_clock_work1',\n",
              " 1116173087: 'self_service_kiosks',\n",
              " 1189498238: 'food_court1',\n",
              " 1602431352: 'diesel_service',\n",
              " 2020795524: 'craft_beer',\n",
              " 2995866956: 'removing_dents_without_painting',\n",
              " 3013110545: 'for_disabled_people',\n",
              " 3481212270: 'vehicle_category',\n",
              " 3481212271: 'electricity_costs',\n",
              " 3483661991: 'burger_king_cafe',\n",
              " 3483661992: 'burger_king_auto',\n",
              " 3483661993: 'kfc_cafe',\n",
              " 3483661994: 'kfc_auto',\n",
              " 3483778357: 'subscription_fee',\n",
              " 3483778358: 'parking_24h',\n",
              " 3483837590: 'parking_price',\n",
              " 3484586475: 'confession',\n",
              " 3485375347: 'gyno_cost',\n",
              " 3485438928: 'ultrasound_price',\n",
              " 3491142672: 'parking_disabled',\n",
              " 3491465406: 'privilege_tickets',\n",
              " 3491465421: 'privilege_haircut',\n",
              " 3491580623: 'hire_price_day',\n",
              " 3491623595: 'bike_rental_rate',\n",
              " 3491713232: 'doctor home visit',\n",
              " 3492024821: 'without_address',\n",
              " 3492120803: 'new_building',\n",
              " 3492120822: 'elite_real_estate',\n",
              " 3492121086: 'country_estate',\n",
              " 3492176323: 'operator_id',\n",
              " 3493051166: 'ssid',\n",
              " 3493268424: 'barbershop',\n",
              " 3500005740: 'only_pre_order',\n",
              " 3501410074: 'azs_number',\n",
              " 3501410396: 'azs_flag',\n",
              " 3501424584: 'unit_id',\n",
              " 3501471642: 'business lunch price',\n",
              " 3501471649: 'pvc boats',\n",
              " 3501474505: 'price_room_hour',\n",
              " 3501480642: 'has_bar',\n",
              " 3501480644: 'has_conference_halls',\n",
              " 3501480645: 'territory_size',\n",
              " 3501480656: 'kids_pool',\n",
              " 3501481353: 'projector',\n",
              " 3501481355: 'number of screens',\n",
              " 3501481491: 'free shuttle',\n",
              " 3501482162: 'icon',\n",
              " 3501488776: 'quests types',\n",
              " 3501492237: 'laser gravure',\n",
              " 3501497890: 'hard cover',\n",
              " 3501498182: 'rooms with soundproofing',\n",
              " 3501498183: 'aquapark',\n",
              " 3501498184: 'hairdryer',\n",
              " 3501498186: 'kitchen in the room',\n",
              " 3501498187: 'shared kitchen',\n",
              " 3501498188: 'tea coffee in rooms',\n",
              " 3501498189: 'TV in room',\n",
              " 3501498190: 'bathhouse',\n",
              " 3501498191: 'business center',\n",
              " 3501498193: 'hammam',\n",
              " 3501498194: 'babysitting service',\n",
              " 3501498195: 'jacuzzi',\n",
              " 3501498196: 'bathrobe',\n",
              " 3501498197: 'slippers',\n",
              " 3501498198: 'washing machine',\n",
              " 3501498199: 'iron',\n",
              " 3501498200: 'cleaning',\n",
              " 3501498201: 'childrens club',\n",
              " 3501498202: 'ski equipment hire',\n",
              " 3501498203: 'ski storage space',\n",
              " 3501498204: 'ski to door access',\n",
              " 3501498205: 'sale of ski pass',\n",
              " 3501498206: 'mandatory deposit',\n",
              " 3501498207: 'adults only',\n",
              " 3501498208: 'lgbt friendly',\n",
              " 3501498209: 'heating',\n",
              " 3501498210: 'combined rooms',\n",
              " 3501498211: 'deckchairs',\n",
              " 3501498212: 'beach umbrella',\n",
              " 3501498213: 'beach towels',\n",
              " 3501498214: 'free umbrellas deckchairs',\n",
              " 3501498215: 'veranda terrace patio',\n",
              " 3501498216: 'beach bar',\n",
              " 3501498217: 'ventilator',\n",
              " 3501498218: 'rooms for smokers',\n",
              " 3501498367: 'mortage',\n",
              " 3501498368: 'decoration',\n",
              " 3501498369: 'econom',\n",
              " 3501498370: 'developer',\n",
              " 3501498371: 'number of bars',\n",
              " 3501498372: 'number of restaurants',\n",
              " 3501498379: 'internet access',\n",
              " 3501498382: 'parking type',\n",
              " 3501498389: 'free transfer',\n",
              " 3501498568: 'around the clock front desk',\n",
              " 3501498569: 'public area',\n",
              " 3501498588: 'sports types',\n",
              " 3501500016: 'hotel_type_tech',\n",
              " 3501501061: '1c software',\n",
              " 3501501062: 'non smoking rooms',\n",
              " 3501501063: 'private beach',\n",
              " 3501501064: 'room service',\n",
              " 3501501235: 'ping pong',\n",
              " 3501502225: 'wired_internet',\n",
              " 3501503649: 'goods delivery',\n",
              " 3501509021: 'meeting room',\n",
              " 3501509022: 'shared toilet',\n",
              " 3501509023: 'poolside bar',\n",
              " 3501509024: 'fireplace',\n",
              " 3501509025: 'valet parking',\n",
              " 3501509026: 'game room',\n",
              " 3501509027: 'waterslides',\n",
              " 3501509028: 'parking for yachts',\n",
              " 3501509029: 'electric car charging station',\n",
              " 3501509030: 'express check in out',\n",
              " 3501509031: 'evening entertainment',\n",
              " 3501509032: 'doctor',\n",
              " 3501509033: 'butler',\n",
              " 3501509034: 'pharmacy',\n",
              " 3501509035: 'ski school',\n",
              " 3501509037: 'gaming house',\n",
              " 3501509041: 'type of transfer',\n",
              " 3501509042: 'safe',\n",
              " 3501509045: 'safe type',\n",
              " 3501509475: 'bath',\n",
              " 3501509914: 'check in',\n",
              " 3501509940: 'check out',\n",
              " 3501510638: 'forensic examination',\n",
              " 3501513153: 'tag_menu',\n",
              " 3501519747: 'ems training',\n",
              " 3501522239: 'sensitive',\n",
              " 3501525722: 'mental arithmetic',\n",
              " 3501534098: 'ice rental',\n",
              " 3501539205: 'vinotheque',\n",
              " 3501543756: 'materials for nails',\n",
              " 3501546132: 'loan secured by real estate',\n",
              " 3501547180: 'type of animal',\n",
              " 3501549616: 'tag_beauty',\n",
              " 3501549733: 'tag_medicine',\n",
              " 3501549840: 'tag_auto',\n",
              " 3501566088: 'cinder blocks',\n",
              " 3501567639: 'literature for children',\n",
              " 3501569758: 'motorcycle brands',\n",
              " 3501572104: 'classes for children',\n",
              " 3501577089: 'europallets',\n",
              " 3501583166: 'free consultation',\n",
              " 3501583611: 'modular cargo',\n",
              " 3501583614: 'long distance taxi',\n",
              " 3501583622: 'dental treatment in installments',\n",
              " 3501583627: 'mens spa',\n",
              " 3501583680: 'cosmetology for men',\n",
              " 3501583907: 'manual alert systems',\n",
              " 3501583920: 'tattoo removal',\n",
              " 3501583942: 'turbine repair',\n",
              " 3501586968: 'land management expertise',\n",
              " 3501586983: 'montessori',\n",
              " 3501587292: 'free examination',\n",
              " 3501587293: 'preparation for exam',\n",
              " 3501594247: 'design of the fountains',\n",
              " 3501596642: 'tobacco labeling',\n",
              " 3501599455: 'cryosauna',\n",
              " 3501599535: 'facilities for disabled people',\n",
              " 3501599537: 'slot machines',\n",
              " 3501599538: 'hairdresser',\n",
              " 3501599541: 'menu for children',\n",
              " 3501599543: 'baby cots',\n",
              " 3501599554: 'kitchen equipment',\n",
              " 3501599561: 'hotel garden',\n",
              " 3501599563: 'vineyard',\n",
              " 3501599566: 'vending machines with snacks',\n",
              " 3501599567: 'garage',\n",
              " 3501599570: 'hire',\n",
              " 3501599571: 'concierge service',\n",
              " 3501599572: 'banquet hall',\n",
              " 3501599575: 'doorman',\n",
              " 3501599585: 'business center equipment',\n",
              " 3501599586: 'allergy free room',\n",
              " 3501599587: 'number of meeting rooms',\n",
              " 3501599588: 'disco',\n",
              " 3501599593: 'theater',\n",
              " 3501599594: 'ice rink',\n",
              " 3501599597: 'wine tasting',\n",
              " 3501599603: 'cleaning frequency',\n",
              " 3501599604: 'health centre',\n",
              " 3501599610: 'bellboy',\n",
              " 3501599676: 'animal accommodations',\n",
              " 3501599677: 'animal care',\n",
              " 3501599682: 'animals allowed to be accommodated',\n",
              " 3501599691: 'restrictions on living with animals',\n",
              " 3501604484: 'wax seals',\n",
              " 3501604516: 'gastronorm containers',\n",
              " 3501604850: 'moto equipment',\n",
              " 3501604974: 'paper package',\n",
              " 3501610669: 'tillers',\n",
              " 3501611178: 'galvanized beds',\n",
              " 3501613146: 'types of electrical products',\n",
              " 3501613588: 'photo_retouching',\n",
              " 3501616848: 'hotel_price_category',\n",
              " 3501616913: 'welding_works',\n",
              " 3501618484: 'wheelchair_access',\n",
              " 3501619158: 'alcohol_license',\n",
              " 3501619188: 'repair_knitwear',\n",
              " 3501620046: 'bubble_film',\n",
              " 3501621367: 'kinesis_training',\n",
              " 3501621377: 'agronavigators',\n",
              " 3501621378: 'parallel_driving_systems',\n",
              " 3501621382: 'cups_medals',\n",
              " 3501621388: 'drones_quadcopters',\n",
              " 3501621391: 'chipboard_cutting',\n",
              " 3501623871: 'cigars_cigarillos',\n",
              " 3501626676: 'motorcycle_tire_repair',\n",
              " 3501626694: 'aerocrete',\n",
              " 3501627295: 'onsite_diagnostics_cars',\n",
              " 3501629404: 'repair_of_refrigerated_trucks',\n",
              " 3501631840: 'gift_wrapping',\n",
              " 3501631894: 'tax_free',\n",
              " 3501637468: 'level',\n",
              " 3501637602: 'self_car_service',\n",
              " 3501638584: 'field_repair_of_phones',\n",
              " 3501638601: 'flowers_in_flask',\n",
              " 3501639433: 'karting_prices',\n",
              " 3501640731: 'foodcourt',\n",
              " 3501640735: 'plotter_cutting',\n",
              " 3501640737: 'only_under_order',\n",
              " 3501643038: 'transport_refrigeration_equipment',\n",
              " 3501643039: 'anti_gravity_film',\n",
              " 3501643040: 'caviar_store',\n",
              " 3501647385: 'dress_hire',\n",
              " 3501649263: 'auto_generated_food_filter',\n",
              " 3501652258: 'mens_nail_services',\n",
              " 3501656640: 'fight_club',\n",
              " 3501656641: 'calculation_of_insolation',\n",
              " 3501657208: 'rating_of_moscow_schools',\n",
              " 3501668257: 'sweet_gifts',\n",
              " 3501674400: 'breakfast_included',\n",
              " 3501674401: 'free_cancellation',\n",
              " 3501674501: 'brand_office_equipment',\n",
              " 3501675316: 'farm_products',\n",
              " 3501677065: 'vinyl',\n",
              " 3501677091: 'registration_of_medical_devices',\n",
              " 3501678436: 'coaching',\n",
              " 3501679779: 'aquaprint',\n",
              " 3501679846: 'purchase_of_radio_components',\n",
              " 3501680348: 'medical_pedicure',\n",
              " 3501682169: 'vintage_clothing',\n",
              " 3501682201: 'self_storage_warehouse',\n",
              " 3501682216: 'night_groups',\n",
              " 3501682700: 'excursions_for_schoolchildren',\n",
              " 3501684957: 'hair_transplantation',\n",
              " 3501685156: 'table_games',\n",
              " 3501687599: 'storage_of_motorcycles',\n",
              " 3501689802: 'repair_of_game_consoles',\n",
              " 3501689804: 'quadcopter_repair',\n",
              " 3501692956: 'bio_cleaning',\n",
              " 3501693369: 'flight_simulator',\n",
              " 3501694289: 'teahouse',\n",
              " 3501694323: 'goods_for_bakery',\n",
              " 3501694325: 'cedar_barrel',\n",
              " 3501694353: 'builtin_appliances',\n",
              " 3501700359: 'freight_car_service',\n",
              " 3501703400: 'courses_for_elderly',\n",
              " 3501704145: 'crm_implementation',\n",
              " 3501707180: 'type_of_deal',\n",
              " 3501707183: 'rental_period',\n",
              " 3501707201: 'assessment_qualification_employees',\n",
              " 3501708144: 'accommodation_type',\n",
              " 3501708666: 'wine_tasting',\n",
              " 3501710354: 'indoor-plan-id',\n",
              " 3501710419: 'dancing_for_beginners',\n",
              " 3501710426: 'extended_day_group',\n",
              " 3501711656: 'disposable_clothing',\n",
              " 3501711661: 'products_for_hairdressers',\n",
              " 3501712327: 'earpieces',\n",
              " 3501713908: 'baby_massage',\n",
              " 3501715376: 'hatches',\n",
              " 3501721033: 'equipment_for_tattoo',\n",
              " 3501721629: 'air_walks',\n",
              " 3501722842: 'iqos_repair',\n",
              " 3501725224: 'transportation_storage_dangerous_goods',\n",
              " 3501725225: 'spare_parts_for_restaurant_equipment',\n",
              " 3501727103: 'pressure_chamber',\n",
              " 3501729440: 'repurchase_of_insurance_debts',\n",
              " 3501734268: 'thermobags',\n",
              " 3501734280: 'coworking',\n",
              " 3501735971: 'large_format_scanning',\n",
              " 3501738022: 'gong_meditation',\n",
              " 3501738031: 'buying_up_radio_devices',\n",
              " 3501739378: 'vr_ar_development',\n",
              " 3501739652: 'rating_threshold',\n",
              " 3501743496: 'restoration_down_feather_products',\n",
              " 3501744275: 'closed_for_quarantine',\n",
              " 3501745827: 'food_product_delivery',\n",
              " 3501747162: 'cyclorama',\n",
              " 3501748140: 'professional_cosmetics',\n",
              " 3501749289: 'closed_for_visitors',\n",
              " 3501749391: 'payment_from_car',\n",
              " 3501751270: 'online_classes',\n",
              " 3501751965: 'educational_consulting',\n",
              " 3501752548: 'installation_of_acoustic_systems',\n",
              " 3501754118: 'led_street_lighting',\n",
              " 3501754121: 'industrial_led_lighting',\n",
              " 3501754799: 'pickup',\n",
              " 3501759226: 'hookah_rental',\n",
              " 3501759265: 'types_of_equipment',\n",
              " 3501759464: 'cast_iron_cookware',\n",
              " 3501765089: 'bread_from_tandoor',\n",
              " 3501766414: 'groups_for_adults',\n",
              " 3501769429: 'trailer_repair',\n",
              " 3501769434: 'coffee_shop',\n",
              " 3501769723: 'covid_hotel_safety_air_disinfection',\n",
              " 3501769724: 'covid_hotel_safety_sanitizers',\n",
              " 3501769725: 'covid_hotel_safety_employees_use_personal_protective_gear',\n",
              " 3501769739: 'covid_hotel_safety_thermometry',\n",
              " 3501769740: 'covid_hotel_safety_marking_floor',\n",
              " 3501769741: 'covid_hotel_safety_isolation',\n",
              " 3501769751: 'covid_hotel_safety_placing_tables_at_distance',\n",
              " 3501769752: 'covid_hotel_safety_washing_at_high_temperatures',\n",
              " 3501769755: 'covid_hotel_safety_barriers',\n",
              " 3501769756: 'covid_hotel_safety_сontactless_check_out',\n",
              " 3501769757: 'covid_hotel_safety_employee_training',\n",
              " 3501769758: 'covid_hotel_safety_сontactless_room_service',\n",
              " 3501769759: 'covid_hotel_safety_disinfection_contact_surfaces',\n",
              " 3501769760: 'covid_hotel_safety_disinfection_surfaces_rooms',\n",
              " 3501769761: 'covid_hotel_safety_disinfection_dining_halls',\n",
              " 3501769762: 'covid_hotel_safety_disinfection_storage_facilities',\n",
              " 3501769763: 'covid_hotel_safety_disinfection_gyms_and_spa',\n",
              " 3501769765: 'covid_hotel_safety_disinfection_equipment_in_open_spaces',\n",
              " 3501770296: 'buying_cartridges',\n",
              " 3501772560: 'canteen',\n",
              " 3501772561: 'childrens_corner',\n",
              " 3501773763: 'automatic_door',\n",
              " 3501773764: 'toilet_for_disabled',\n",
              " 3501773773: 'chip_tuning',\n",
              " 3501773799: 'rooms_voicing',\n",
              " 3501773817: 'online_broadcasts',\n",
              " 3501778442: 'CSP',\n",
              " 3501778832: 'gazebo_rental',\n",
              " 3501779478: 'online_takeaway',\n",
              " 3501779832: 'planter',\n",
              " 3501781778: 'military_atelier',\n",
              " 3501786035: 'number_of_connectors',\n",
              " 3501786036: 'number_of_parking_spaces',\n",
              " 3501786039: 'parking_type',\n",
              " 3501786471: 'press_for_grapes',\n",
              " 3501787643: 'beauty_coworking',\n",
              " 3501789292: 'schienalі',\n",
              " 3501792408: 'wall_panels',\n",
              " 3501793680: 'florarium',\n",
              " 3501801715: 'occluders_opticludes',\n",
              " 3501803507: 'ferris_wheel',\n",
              " 3501806316: 'mansard_windows',\n",
              " 3501814557: 'iqos',\n",
              " 3501820537: 'new_year_gifts',\n",
              " 3501822933: 'free_excursions',\n",
              " 3501823885: 'printing_on_cakes',\n",
              " 3501827474: 'purchase_of_electronic_devices',\n",
              " 3501827489: 'credit_cards',\n",
              " 3501833069: 'electronic_registration_of_transactions',\n",
              " 3501833418: 'hotel_pansion',\n",
              " 3501839524: 'diagnostics_of_animal_diseases',\n",
              " 3501844201: 'gas_station_takeaway_shop',\n",
              " 3501854477: 'edible_bouquets',\n",
              " 3501878443: 'epassport_for_vehicles',\n",
              " 3501941331: 'it_services',\n",
              " 3501941361: 'virus_prevention',\n",
              " 3501941962: 'no_prepayment',\n",
              " 3501942001: 'free_measurement',\n",
              " 3501942075: 'guarantee',\n",
              " 3501942246: 'contract_conclusion',\n",
              " 3501942247: 'measuring',\n",
              " 3501942249: 'online_consultations',\n",
              " 3501942269: 'from_manufacturer',\n",
              " 3501942276: 'individual_sizes',\n",
              " 3501942279: 'turnkey',\n",
              " 3501942284: 'round_the_clock_support',\n",
              " 3501942295: 'installment',\n",
              " 3501942428: 'promotions',\n",
              " 3501945020: 'availability',\n",
              " 3501945049: 'processing_speed',\n",
              " 3501945100: 'upholstered_furniture',\n",
              " 3501945135: 'type_of_furniture',\n",
              " 3501948336: 'internet_marketing_services',\n",
              " 3501948407: 'real_estate_services',\n",
              " 3501961675: 'hotel_city_center_nearby',\n",
              " 3501964004: 'hotel_park_nearby',\n",
              " 3501964029: 'hotel_airport_nearby',\n",
              " 3501964032: 'hotel_sea_nearby',\n",
              " 3501964056: 'hotel_city_center_dist_category',\n",
              " 3501992267: 'yandex_smart_speaker',\n",
              " 3501997364: 'adv_hleb_i_vypecka_produkty_napitki',\n",
              " 3502003689: 'closed_for_without_qr',\n",
              " 3502010179: 'current_license',\n",
              " 3502010332: 'vid_division',\n",
              " 3502010539: 'registration_number',\n",
              " 3502010548: 'egr',\n",
              " 3502010918: 'call_button',\n",
              " 3502010929: 'elevator_wheelchair_accessible',\n",
              " 3502010932: 'ramp',\n",
              " 3502010938: 'wheelchair_accessible',\n",
              " 3502023279: 'types_of_bank_activities',\n",
              " 3502029228: 'takeout_to_car',\n",
              " 3502031788: 'indoor_plants',\n",
              " 3502040627: 'data_from_the_CB',\n",
              " 3502043655: 'report_upload_date',\n",
              " 3502043657: 'legal_name_organization',\n",
              " 3502043677: 'abbreviated_name',\n",
              " 3502043680: 'tin',\n",
              " 3502043705: 'international_name',\n",
              " 3502043737: 'meal',\n",
              " 3502044048: 'staff',\n",
              " 3502044229: 'atmosphere',\n",
              " 3502044237: 'cash_register',\n",
              " 3502044252: 'registration_process',\n",
              " 3502044665: 'food_quality',\n",
              " 3502044672: 'goods_quality',\n",
              " 3502044685: 'waiting_period',\n",
              " 3502044709: 'menu_range',\n",
              " 3502044741: 'rooms',\n",
              " 3502044748: 'service_quality',\n",
              " 3502044801: 'enjoyable_sound',\n",
              " 3502044826: 'org_territory',\n",
              " 3502044834: 'views',\n",
              " 3502045016: 'types_of_delivery',\n",
              " 3502045017: 'number_of_tables',\n",
              " 3502045032: 'non_cash_tips',\n",
              " 3502045280: 'cosy_atmosphere',\n",
              " 3502045286: 'romantic_atmosphere',\n",
              " 3502045289: 'beautiful_interior',\n",
              " 3502045294: 'unusual_interior',\n",
              " 3502045301: 'spacious',\n",
              " 3502045303: 'small_cafe',\n",
              " 3502045309: 'dancings',\n",
              " 3502045322: 'panoramic_view',\n",
              " 3502045326: 'new_organization',\n",
              " 3502045331: 'well_for_dating',\n",
              " 3502045336: 'well_for_big_company',\n",
              " 3502045340: 'well_for_business_meetings',\n",
              " 3502045342: 'well_for_family_dinner',\n",
              " 3502045395: 'well_atmosphere',\n",
              " 3502045402: 'unusual_concept',\n",
              " 3502045411: 'beautiful_serving_of_dishes',\n",
              " 3502045433: 'well_for_banquet',\n",
              " 3502045496: 'well_with_children',\n",
              " 3502045553: 'choice_variety',\n",
              " 3502045556: 'democracy',\n",
              " 3502045562: 'grill',\n",
              " 3502045597: 'foreign_chef',\n",
              " 3502045611: 'marriage',\n",
              " 3502046291: 'well_for_birthday_party',\n",
              " 3502046294: 'corporate_party',\n",
              " 3502046330: 'on_roof',\n",
              " 3502046337: 'restaurateur',\n",
              " 3502046339: 'chef',\n",
              " ...}"
            ]
          },
          "execution_count": 224,
          "metadata": {},
          "output_type": "execute_result"
        }
      ],
      "source": [
        "feature_dict"
      ]
    },
    {
      "cell_type": "markdown",
      "metadata": {
        "id": "qA6Bm_8EGH66"
      },
      "source": [
        "Мы что-то поняли про признаки, которыми нам предстоит пользоваться. Теперь время посмотреть на таргет. Вооружившись функциями ``hist`` и ``scatter`` из библиотеки ``matplotlib``, а также методом ``isna`` для pandas-таблиц разберитесь, какие значения принимают таргеты, есть ли там там выбросы, пропуски или ещё какие-то проблемы.\n",
        "\n",
        "&nbsp;\n",
        "\n",
        "<details>\n",
        "  <summary>Когда будете готовы, кликните сюда, чтобы посмотреть ответ</summary>\n",
        "    <ol>\n",
        "      <li>Среди таргетов довольно много пропусков;</li>\n",
        "      <li>Все таргеты - это числа, кратные 500;</li>\n",
        "      <li>Есть какие-то адские значения, превышающие 100 000 (видимо, выбросы);</li>\n",
        "      <li>В целом, число ресторанов с данным средним чеком быстро падает с ростом среднего чека. Для средних чеков, больших 2500, заведений уже совсем мало. Примерно у 2/3 заведений средний чек 500.</li>\n",
        "    </ol>\n",
        "</details>"
      ]
    },
    {
      "cell_type": "code",
      "execution_count": 225,
      "metadata": {},
      "outputs": [
        {
          "data": {
            "text/plain": [
              "(68339, 6)"
            ]
          },
          "execution_count": 225,
          "metadata": {},
          "output_type": "execute_result"
        }
      ],
      "source": [
        "data.shape"
      ]
    },
    {
      "cell_type": "code",
      "execution_count": 226,
      "metadata": {},
      "outputs": [
        {
          "data": {
            "text/plain": [
              "org_id              0\n",
              "city                0\n",
              "average_bill    35561\n",
              "rating          13731\n",
              "rubrics_id          0\n",
              "features_id     11049\n",
              "dtype: int64"
            ]
          },
          "execution_count": 226,
          "metadata": {},
          "output_type": "execute_result"
        }
      ],
      "source": [
        "data.isna().sum(axis=0)"
      ]
    },
    {
      "cell_type": "code",
      "execution_count": 227,
      "metadata": {},
      "outputs": [
        {
          "name": "stdout",
          "output_type": "stream",
          "text": [
            "Доля непустых значений по таргету: 0.48\n"
          ]
        }
      ],
      "source": [
        "print(f'Доля непустых значений по таргету: {1 - (data.isna().sum(axis=0).average_bill/ data.shape[0]):.2f}')"
      ]
    },
    {
      "cell_type": "code",
      "execution_count": 228,
      "metadata": {},
      "outputs": [],
      "source": [
        "average_bills_values = data.dropna(subset=['average_bill'], axis=0).average_bill"
      ]
    },
    {
      "cell_type": "code",
      "execution_count": 229,
      "metadata": {},
      "outputs": [
        {
          "data": {
            "text/plain": [
              "3500.0"
            ]
          },
          "execution_count": 229,
          "metadata": {},
          "output_type": "execute_result"
        }
      ],
      "source": [
        "average_bills_values.quantile(q=.99)"
      ]
    },
    {
      "cell_type": "code",
      "execution_count": 230,
      "metadata": {},
      "outputs": [
        {
          "data": {
            "text/plain": [
              "500.0"
            ]
          },
          "execution_count": 230,
          "metadata": {},
          "output_type": "execute_result"
        }
      ],
      "source": [
        "average_bills_values.quantile(q=.50)"
      ]
    },
    {
      "cell_type": "code",
      "execution_count": 231,
      "metadata": {},
      "outputs": [
        {
          "data": {
            "text/plain": [
              "4500.0"
            ]
          },
          "execution_count": 231,
          "metadata": {},
          "output_type": "execute_result"
        }
      ],
      "source": [
        "average_bills_values.quantile(q=.995)"
      ]
    },
    {
      "cell_type": "code",
      "execution_count": 232,
      "metadata": {},
      "outputs": [
        {
          "data": {
            "text/plain": [
              "24723.000000005413"
            ]
          },
          "execution_count": 232,
          "metadata": {},
          "output_type": "execute_result"
        }
      ],
      "source": [
        "average_bills_values.quantile(q=.999)"
      ]
    },
    {
      "cell_type": "code",
      "execution_count": 233,
      "metadata": {},
      "outputs": [
        {
          "data": {
            "text/plain": [
              "234197.7499997447"
            ]
          },
          "execution_count": 233,
          "metadata": {},
          "output_type": "execute_result"
        }
      ],
      "source": [
        "average_bills_values.quantile(q=.9999)"
      ]
    },
    {
      "cell_type": "code",
      "execution_count": 234,
      "metadata": {},
      "outputs": [
        {
          "data": {
            "text/plain": [
              "<Axes: >"
            ]
          },
          "execution_count": 234,
          "metadata": {},
          "output_type": "execute_result"
        },
        {
          "data": {
            "image/png": "[encoded data removed]",
            "text/plain": [
              "<Figure size 640x480 with 1 Axes>"
            ]
          },
          "metadata": {},
          "output_type": "display_data"
        }
      ],
      "source": [
        "quantile_value = average_bills_values.quantile(q=.997)\n",
        "average_bills_values[average_bills_values < quantile_value].hist(bins=10)"
      ]
    },
    {
      "cell_type": "code",
      "execution_count": 235,
      "metadata": {},
      "outputs": [
        {
          "data": {
            "image/png": "[encoded data removed]",
            "text/plain": [
              "<Figure size 640x480 with 1 Axes>"
            ]
          },
          "metadata": {},
          "output_type": "display_data"
        }
      ],
      "source": [
        "data_cleaned = data.dropna(subset=['average_bill'], axis=0)\n",
        "data_cleaned = data_cleaned[data_cleaned.average_bill < quantile_value]\n",
        "\n",
        "plt.hist(data_cleaned[data_cleaned.city == 'msk'].average_bill, label='Msk', alpha=0.50)\n",
        "plt.hist(data_cleaned[data_cleaned.city == 'spb'].average_bill, label='Spb', alpha=0.50)\n",
        "\n",
        "plt.legend()\n",
        "\n",
        "plt.show()"
      ]
    },
    {
      "cell_type": "code",
      "execution_count": 54,
      "metadata": {},
      "outputs": [
        {
          "data": {
            "text/plain": [
              "7502000.0"
            ]
          },
          "execution_count": 54,
          "metadata": {},
          "output_type": "execute_result"
        }
      ],
      "source": [
        "data.average_bill.value_counts().index.max()"
      ]
    },
    {
      "cell_type": "markdown",
      "metadata": {
        "id": "trfl5F_4GH66"
      },
      "source": [
        "**Базовая очистка данных**\n",
        "\n",
        "Раз есть треш, давайте чистить данные.\n",
        "\n",
        "С пропусками можно бороться по-разному (даже и с пропусками в таргете), но пока мы сделаем самую простую вещь: дропнем все заведения, для которых мы не знаем средний чек.\n",
        "\n",
        "Уберите из них все заведения, у которых средний чек неизвестен или превышает 2500. Пока есть опасение, что их слишком мало, чтобы мы смогли обучить на них что-нибудь.\n",
        "\n",
        "**3. Введите в Контест количество заведений, которое у вас получилось после очистки**.\n",
        "\n",
        "Дальше мы будем работать с очищенными данными."
      ]
    },
    {
      "cell_type": "code",
      "execution_count": 6,
      "metadata": {
        "id": "OxIkRsA1GH67"
      },
      "outputs": [],
      "source": [
        "# <Your code here>\n",
        "data = data[~data[['average_bill']].isna().any(axis=1)]"
      ]
    },
    {
      "cell_type": "code",
      "execution_count": 7,
      "metadata": {},
      "outputs": [],
      "source": [
        "data = data[data.average_bill <= 2500]"
      ]
    },
    {
      "cell_type": "code",
      "execution_count": 8,
      "metadata": {},
      "outputs": [
        {
          "name": "stdout",
          "output_type": "stream",
          "text": [
            "Количество заведений после очистки данных 32136\n"
          ]
        }
      ],
      "source": [
        "print(f'Количество заведений после очистки данных {len(data)}')"
      ]
    },
    {
      "cell_type": "markdown",
      "metadata": {
        "id": "GsNzGAp1GH67"
      },
      "source": [
        "**4. Посчитайте и введите в Контест разность между средними арифметическими average_bill в кафе Москвы и Санкт-Петербурга. Округлите ответ до целого.**\n",
        "\n",
        "&nbsp;\n",
        "\n",
        "<details>\n",
        "  <summary>Небольшая подсказка</summary>\n",
        "  Примените часто используемый метод groupby.\n",
        "</details>"
      ]
    },
    {
      "cell_type": "code",
      "execution_count": 9,
      "metadata": {},
      "outputs": [],
      "source": [
        "data['rubrics_name'] = data.rubrics_id.apply(lambda x: [rubric_dict.get(int(num)) for num in x.strip().split()])\n",
        "data['features_name'] = data.features_id.apply(lambda x: [feature_dict.get(int(num)) for num in x.strip().split()])"
      ]
    },
    {
      "cell_type": "code",
      "execution_count": 151,
      "metadata": {},
      "outputs": [],
      "source": [
        "data_caffe = data[data.rubrics_name.apply(lambda x: 'Кафе' in x)]"
      ]
    },
    {
      "cell_type": "code",
      "execution_count": 152,
      "metadata": {},
      "outputs": [
        {
          "name": "stdout",
          "output_type": "stream",
          "text": [
            "Абсолютная разница между средними чеками: 116\n"
          ]
        }
      ],
      "source": [
        "mean_bills = data.groupby(by=['city'])['average_bill'].mean()\n",
        "print(f\"Абсолютная разница между средними чеками: {int(abs(mean_bills['msk'] - mean_bills['spb']))}\")"
      ]
    },
    {
      "cell_type": "code",
      "execution_count": 153,
      "metadata": {},
      "outputs": [
        {
          "name": "stdout",
          "output_type": "stream",
          "text": [
            "Абсолютная разница между средними чеками в кафе: 142\n"
          ]
        }
      ],
      "source": [
        "mean_caffe_bills = data_caffe.groupby(by=['city'])['average_bill'].mean()\n",
        "print(f\"Абсолютная разница между средними чеками в кафе: {int(abs(mean_caffe_bills['msk'] - mean_caffe_bills['spb']))}\")"
      ]
    },
    {
      "cell_type": "code",
      "execution_count": 131,
      "metadata": {},
      "outputs": [
        {
          "data": {
            "text/html": [
              "<div>\n",
              "<style scoped>\n",
              "    .dataframe tbody tr th:only-of-type {\n",
              "        vertical-align: middle;\n",
              "    }\n",
              "\n",
              "    .dataframe tbody tr th {\n",
              "        vertical-align: top;\n",
              "    }\n",
              "\n",
              "    .dataframe thead th {\n",
              "        text-align: right;\n",
              "    }\n",
              "</style>\n",
              "<table border=\"1\" class=\"dataframe\">\n",
              "  <thead>\n",
              "    <tr style=\"text-align: right;\">\n",
              "      <th></th>\n",
              "      <th>average_bill</th>\n",
              "      <th>rating</th>\n",
              "    </tr>\n",
              "  </thead>\n",
              "  <tbody>\n",
              "    <tr>\n",
              "      <th>average_bill</th>\n",
              "      <td>1.000000</td>\n",
              "      <td>0.090263</td>\n",
              "    </tr>\n",
              "    <tr>\n",
              "      <th>rating</th>\n",
              "      <td>0.090263</td>\n",
              "      <td>1.000000</td>\n",
              "    </tr>\n",
              "  </tbody>\n",
              "</table>\n",
              "</div>"
            ],
            "text/plain": [
              "              average_bill    rating\n",
              "average_bill      1.000000  0.090263\n",
              "rating            0.090263  1.000000"
            ]
          },
          "execution_count": 131,
          "metadata": {},
          "output_type": "execute_result"
        }
      ],
      "source": [
        "(data[['average_bill', 'rating']].dropna(axis=0)).corr()"
      ]
    },
    {
      "cell_type": "code",
      "execution_count": 154,
      "metadata": {},
      "outputs": [
        {
          "data": {
            "text/html": [
              "<div>\n",
              "<style scoped>\n",
              "    .dataframe tbody tr th:only-of-type {\n",
              "        vertical-align: middle;\n",
              "    }\n",
              "\n",
              "    .dataframe tbody tr th {\n",
              "        vertical-align: top;\n",
              "    }\n",
              "\n",
              "    .dataframe thead th {\n",
              "        text-align: right;\n",
              "    }\n",
              "</style>\n",
              "<table border=\"1\" class=\"dataframe\">\n",
              "  <thead>\n",
              "    <tr style=\"text-align: right;\">\n",
              "      <th></th>\n",
              "      <th>average_bill</th>\n",
              "      <th>rating</th>\n",
              "    </tr>\n",
              "  </thead>\n",
              "  <tbody>\n",
              "    <tr>\n",
              "      <th>average_bill</th>\n",
              "      <td>1.000000</td>\n",
              "      <td>0.074483</td>\n",
              "    </tr>\n",
              "    <tr>\n",
              "      <th>rating</th>\n",
              "      <td>0.074483</td>\n",
              "      <td>1.000000</td>\n",
              "    </tr>\n",
              "  </tbody>\n",
              "</table>\n",
              "</div>"
            ],
            "text/plain": [
              "              average_bill    rating\n",
              "average_bill      1.000000  0.074483\n",
              "rating            0.074483  1.000000"
            ]
          },
          "execution_count": 154,
          "metadata": {},
          "output_type": "execute_result"
        }
      ],
      "source": [
        "(data_caffe[['average_bill', 'rating']].dropna(axis=0)).corr()"
      ]
    },
    {
      "cell_type": "code",
      "execution_count": 159,
      "metadata": {},
      "outputs": [],
      "source": [
        "rest_average_bill_val = data[data.rubrics_name.apply(lambda x: 'Ресторан' in x)].average_bill.mean()\n",
        "pub_average_bill_val = data[data.rubrics_name.apply(lambda x: 'Бар, паб' in x)].average_bill.mean()"
      ]
    },
    {
      "cell_type": "code",
      "execution_count": 161,
      "metadata": {},
      "outputs": [
        {
          "name": "stdout",
          "output_type": "stream",
          "text": [
            "Средний чек в Ресторане: 995.471580262336\n",
            "Средний чек в Баре, пабе: 814.2432556012803\n"
          ]
        }
      ],
      "source": [
        "print(f'Средний чек в Ресторане: {rest_average_bill_val}')\n",
        "print(f'Средний чек в Баре, пабе: {pub_average_bill_val}')"
      ]
    },
    {
      "cell_type": "markdown",
      "metadata": {
        "id": "Qncnmi8bGH7F"
      },
      "source": [
        "Давайте ещё немного поизучаем данные. Ответьте на вопросы:\n",
        "\n",
        "1. Есть ли разница между средними чеками в Москве и Санкт-Петербурге?\n",
        "2. Коррелирует ли средний чек с рейтингом?\n",
        "3. Есть ли разница в среднем чеке между ресторанами и пабами (см. соответствующие типы из ``rubrics``)?\n",
        "\n",
        "&nbsp;\n",
        "\n",
        "<details>\n",
        "  <summary>Когда будете готовы, кликните сюда, чтобы посмотреть ответ</summary>\n",
        "    <ol>\n",
        "      <li>В целом, да. Вы могли бы сравнить средние (в Москве больше) или медианы (они равны, потому что уж больно много где средний чек 500). Этого, конечно, мало для того, чтобы сделать вывод. Нужно проверять какие-то статические критерии, которые изучаются в курсе по статистике. Не будем останавливаться на этом подробно. Поскольку данные совсем не нормальные, никакой t-тест не сработает; мы бы предложили использовать критерий Манна-Уитни (см. википедию и функцию mannwhitneyu из библиотеки scipy.stats).</li>\n",
        "      <li>Какая-то корреляция между ними есть но уж больно неубедительная (рекомендуем построим на одном графике boxplot рейтинга по каждому значению среднего чека для визуализации). Конечно, дна становится меньше с ростом среднего чека, но, видимо, в предсказании это особо не используешь;</li>\n",
        "      <li>Несомненно, в ресторанах средний чек выше. Это и невооружённым глазом видно, и с помощью критерия Манна-Уитни можно проверить.</li>\n",
        "    </ol>\n",
        "</details>"
      ]
    },
    {
      "cell_type": "markdown",
      "metadata": {},
      "source": [
        "__Ответ:__ \n",
        "\n",
        "1) Есть. В Москве средний чек выше на 116 рублей. \n",
        "2) Корреляции между рейтингом и средним чеком нет.\n",
        "3) Есть. Около 181 рубля в среднем."
      ]
    },
    {
      "cell_type": "code",
      "execution_count": 6,
      "metadata": {},
      "outputs": [
        {
          "data": {
            "text/html": [
              "<div>\n",
              "<style scoped>\n",
              "    .dataframe tbody tr th:only-of-type {\n",
              "        vertical-align: middle;\n",
              "    }\n",
              "\n",
              "    .dataframe tbody tr th {\n",
              "        vertical-align: top;\n",
              "    }\n",
              "\n",
              "    .dataframe thead th {\n",
              "        text-align: right;\n",
              "    }\n",
              "</style>\n",
              "<table border=\"1\" class=\"dataframe\">\n",
              "  <thead>\n",
              "    <tr style=\"text-align: right;\">\n",
              "      <th></th>\n",
              "      <th>org_id</th>\n",
              "      <th>city</th>\n",
              "      <th>average_bill</th>\n",
              "      <th>rating</th>\n",
              "      <th>rubrics_id</th>\n",
              "      <th>features_id</th>\n",
              "    </tr>\n",
              "  </thead>\n",
              "  <tbody>\n",
              "    <tr>\n",
              "      <th>0</th>\n",
              "      <td>15903868628669802651</td>\n",
              "      <td>msk</td>\n",
              "      <td>1500.0</td>\n",
              "      <td>4.270968</td>\n",
              "      <td>30776 30774</td>\n",
              "      <td>3501685156 3501779478 20422 3502045016 3502045...</td>\n",
              "    </tr>\n",
              "    <tr>\n",
              "      <th>1</th>\n",
              "      <td>16076540698036998306</td>\n",
              "      <td>msk</td>\n",
              "      <td>500.0</td>\n",
              "      <td>4.375000</td>\n",
              "      <td>30771</td>\n",
              "      <td>1509 1082283206 273469383 10462 11617 35017794...</td>\n",
              "    </tr>\n",
              "    <tr>\n",
              "      <th>2</th>\n",
              "      <td>8129364761615040323</td>\n",
              "      <td>msk</td>\n",
              "      <td>500.0</td>\n",
              "      <td>4.000000</td>\n",
              "      <td>31495</td>\n",
              "      <td>10462 11177 11617 11629 1416 1018 11704 11867 ...</td>\n",
              "    </tr>\n",
              "    <tr>\n",
              "      <th>3</th>\n",
              "      <td>15262729117594253452</td>\n",
              "      <td>msk</td>\n",
              "      <td>500.0</td>\n",
              "      <td>4.538813</td>\n",
              "      <td>30776 30770</td>\n",
              "      <td>3501618484 2020795524 11629 11617 1018 11704 2...</td>\n",
              "    </tr>\n",
              "    <tr>\n",
              "      <th>4</th>\n",
              "      <td>13418544315327784420</td>\n",
              "      <td>msk</td>\n",
              "      <td>500.0</td>\n",
              "      <td>4.409091</td>\n",
              "      <td>31495</td>\n",
              "      <td>11617 10462 11177 1416 11867 3501744275 20282 ...</td>\n",
              "    </tr>\n",
              "  </tbody>\n",
              "</table>\n",
              "</div>"
            ],
            "text/plain": [
              "                 org_id city  average_bill    rating   rubrics_id  \\\n",
              "0  15903868628669802651  msk        1500.0  4.270968  30776 30774   \n",
              "1  16076540698036998306  msk         500.0  4.375000        30771   \n",
              "2   8129364761615040323  msk         500.0  4.000000        31495   \n",
              "3  15262729117594253452  msk         500.0  4.538813  30776 30770   \n",
              "4  13418544315327784420  msk         500.0  4.409091        31495   \n",
              "\n",
              "                                         features_id  \n",
              "0  3501685156 3501779478 20422 3502045016 3502045...  \n",
              "1  1509 1082283206 273469383 10462 11617 35017794...  \n",
              "2  10462 11177 11617 11629 1416 1018 11704 11867 ...  \n",
              "3  3501618484 2020795524 11629 11617 1018 11704 2...  \n",
              "4  11617 10462 11177 1416 11867 3501744275 20282 ...  "
            ]
          },
          "execution_count": 6,
          "metadata": {},
          "output_type": "execute_result"
        }
      ],
      "source": [
        "data.head()"
      ]
    },
    {
      "cell_type": "code",
      "execution_count": 9,
      "metadata": {},
      "outputs": [
        {
          "data": {
            "text/plain": [
              "average_bill\n",
              "500.0     22329\n",
              "1000.0     5482\n",
              "1500.0     2696\n",
              "2000.0     1184\n",
              "2500.0      445\n",
              "Name: count, dtype: int64"
            ]
          },
          "execution_count": 9,
          "metadata": {},
          "output_type": "execute_result"
        }
      ],
      "source": [
        "data.average_bill.value_counts()"
      ]
    },
    {
      "cell_type": "markdown",
      "metadata": {
        "id": "ATY5075lGH7F"
      },
      "source": [
        "## Формулируем задачу"
      ]
    },
    {
      "cell_type": "markdown",
      "metadata": {
        "id": "znpEgJGIGH7F"
      },
      "source": [
        "Прежде, чем решать задачу, её надо сформулировать.\n",
        "\n",
        "**Вопрос первый**: это классификация или регрессия? Подумайте над этим.\n",
        "\n",
        "&nbsp;\n",
        "\n",
        "<details>\n",
        "  <summary>Когда будете готовы, кликните сюда, чтобы посмотреть ответ</summary>\n",
        "    Ответ не столь однозначен, как хотелось бы. С одной стороны, таргет принимает всего четыре значения, и потому это может быть классификацией с 4 классами. С другой стороны, таргеты - это не абстрактные \"треугольник\", \"круг\", \"квадрат\", а вещественные числа, и когда мы вместо 500 предсказываем 2500, это явно хуже, чем вместо 1500 предсказать 2000. В целом, задачу можно решать и так, и так; мы будем смотреть на метрики обеих задач.\n",
        "</details>"
      ]
    },
    {
      "cell_type": "markdown",
      "metadata": {
        "id": "aaVuazxsGH7G"
      },
      "source": [
        "**Вопрос второй**: какие метрики мы будем использовать для оценки качества решения? Какие метрики вы предложили бы для этой задачи как для задачи классификации? А для этой задачи, как для задачи регрессии?\n",
        "\n",
        "&nbsp;\n",
        "\n",
        "<details>\n",
        "  <summary>Когда будете готовы, кликните сюда, чтобы посмотреть ответ</summary>\n",
        "    \n",
        "    Начнём с классификации. Метрика accuracy не очень хороша из-за несбалансированности классов. Действительно, классификатор, который всегда говорит 500, будет иметь accuracy примерно 0.66, хотя это никак не отражает практическую ценность модели. Как мы увидим, самая большая проблема будет заключаться в том, чтобы научиться выделять заведения с большими чеками, а их меньше всего и в accuracy они вносят самый маленький вклад. Есть разные способы с этим бороться, один -- использовать sklearn.metrics.balanced_accuracy_score. Его идея, грубо говоря, в том, чтобы по каждому классу найти, какая доля объектов этого класса правильно классифицирована, а потом эти доли усреднить. Тогда у бессмысленного классификатора, который всем ставит 500, будет скор 1/5 (ведь классов 5), а чтобы получить прежние 2/3, нужно будет научиться в каждом классе правильно ставить хотя бы 2/3 меток.    \n",
        "    \n",
        "    Теперь что касается регрессии. Основых метрики две - MSE и MAE. Из первой стоит извлекать корень, чтобы получать интерпретируемые человеком значения, а вторая менее агрессивна к выбросам (впрочем, выбросов тут уже нет, мы их все выкинули). Без дополнительной информации не очень понятно, какую выбирать, можно брать любую. А выбирать надо: ведь даже банальные модели \"предсказывай всегда среднее\" и \"предсказывай всегда медиану\" будут по-разному ранжироваться этими метриками.\n",
        "    \n",
        "</details>"
      ]
    },
    {
      "cell_type": "markdown",
      "metadata": {
        "id": "vs-jkCj-GH7G"
      },
      "source": [
        "**Вопрос третий**: а не взять ли нам какую-нибудь более экзотическую метрику? Например, MAPE (определение в учебнике в главе про оценку качества моделей). А как вам такое соображение: допустим, заказчик говорит, что пользователи будут расстраиваться, только если мы завысили средний чек - так давайте поправим MSE или MAE, обнуляя те слагаемые, для которых предсказанный таргет меньше истинного. Вот это хорошая метрика или нет?\n",
        "\n",
        "&nbsp;\n",
        "\n",
        "<details>\n",
        "  <summary>Когда будете готовы, кликните сюда, чтобы посмотреть ответ</summary>\n",
        "    \n",
        "    Что касается MAPE, у нас нет тех проблем, с которой она борется. Вот если бы у нас были средние чеки от 500 до миллиона, мы бы столкнулись с ситуацией, что большие ошибки для больших чеков доминировали бы в сумме для MSE и MAE (500 вместо 1000 меркнет по сравнению с 500к вместо миллиона). Говоря поэтически, мы бы оптимизировали модель для миллионеров, забыв про простых трудяг. И было бы логично перейти от парадигмы \"ошибаемся на 500 рублей\" к парадигме \"ошибаемся на 50%\". Но у нас все таргеты примерно одного порядка, MAPE нам особо ни к чему.\n",
        "    \n",
        "    Вторая метрика коварна тем, что её можно \"накрутить\" безо всякой пользы для дела. А именно, модель, которая всегда предсказывает средний чек в миллион, была бы идеальна. Но все бы расстраивались и не ходили есть. Другое дело, что можно ввести разные веса для ошибок в большую и в меньшую сторону, но опять же - пока нет показаний к тому, что это нужно.\n",
        "    \n",
        "</details>"
      ]
    },
    {
      "cell_type": "markdown",
      "metadata": {
        "id": "VCjV_SoAGH7G"
      },
      "source": [
        "## Применяем ML"
      ]
    },
    {
      "cell_type": "markdown",
      "metadata": {
        "id": "lqkvcLSPGH7G"
      },
      "source": [
        "Теперь время разбить данные на обучающую и тестовую выборку. Делается это с помощью функции ``train_test_split`` из пакета ``sklearn``. При этом очень важно сделать две вещи:\n",
        "\n",
        "* Зафиксировать ``random_state=42`` (да, именно этот, а то ваши модели могут не зайти в Контест), чтобы всё, что мы делаем, было воспроизводимо (иначе от перезапуска к перезапуску числа могут меняться, и мы не будем понимать, из-за чего это происходит).\n",
        "* Сделать стратификацию по таргету. В противном случае у нас в трейне и тесте могут оказаться разные пропорции классов (обычно особенно страдают мало представленные классы), что неутешительно скажется на результате.\n",
        "\n",
        "**Обратите внимание**, что если вы побьёте выборку на train и test по-другому, ваши результаты могут не зайти в контест."
      ]
    },
    {
      "cell_type": "code",
      "execution_count": 10,
      "metadata": {},
      "outputs": [],
      "source": [
        "clean_data = data"
      ]
    },
    {
      "cell_type": "code",
      "execution_count": 11,
      "metadata": {
        "id": "AF2IVpOjGH7H"
      },
      "outputs": [],
      "source": [
        "clean_data_train, clean_data_test = train_test_split(\n",
        "    clean_data, stratify=clean_data['average_bill'], test_size=0.33, random_state=42)"
      ]
    },
    {
      "cell_type": "markdown",
      "metadata": {
        "id": "S161veFJGH7H"
      },
      "source": [
        "Теперь нам нужен **бейзлайн** - очень простая модель, с которой мы в дальнейшем будем сравниваться.\n",
        "\n",
        "Поскольку мы ещё не знаем никаких умных классов моделей, все модели мы будем писать руками. А именно, мы напишем две простых модели на основе ``sklearn.baseRegressorMixin`` и ``sklearn.base.ClassifierMixin`` (посмотрите примеры в документации sklearn и сделайте так же):\n",
        "\n",
        "* Модель для задачи регрессии, которая для всех заведений предсказывает одно число — среднее значение среднего чека;\n",
        "* Модель для задачи классификации, которая для всех заведений предсказывает один класс — самый частый класс (ироничным образом он в данном случае совпадает с медианой).\n",
        "\n",
        "**Важно!** Мы будем много раз повторять вам мантру о том, что **информация из тестовой выборки не должна протекать в процесс обучения**. Так вот, и среднее, и самый частый класс вы должны считать именно на обучающей выборке!\n",
        "\n",
        "**5 и 6. Напишите эти две модели и сдайте в Контест**. В процессе проверки модели будут и обучаться, и предсказывать.\n",
        "\n",
        "Заметим, что для этих моделей нам вообще не нужны какие-то \"фичи\"; мы работаем только с таргетом.\n",
        "\n",
        "У каждой модели есть (как минимум) два метода: `fit` (обучает модель по фичам `X` и таргету `y`) `predict` (предсказывает по фичам `X`)"
      ]
    },
    {
      "cell_type": "code",
      "execution_count": 12,
      "metadata": {
        "id": "lLz_sxtUGH7H"
      },
      "outputs": [],
      "source": [
        "from scipy.stats import mode\n",
        "\n",
        "from sklearn.base import RegressorMixin\n",
        "import numpy as np\n",
        "\n",
        "class MeanRegressor(RegressorMixin):\n",
        "    def __init__(self):\n",
        "        self.mean_target = None\n",
        "\n",
        "    # Predicts the mean of y_train\n",
        "    def fit(self, X=None, y=None):\n",
        "        '''\n",
        "        Parameters\n",
        "        ----------\n",
        "        X : array like, shape = (n_samples, n_features)\n",
        "        Training data features\n",
        "        y : array like, shape = (_samples,)\n",
        "        Training data targets\n",
        "        '''\n",
        "        self.is_fitted_ = True\n",
        "        self.mean_target = np.mean(y)\n",
        "        return self\n",
        "\n",
        "    def predict(self, X=None):\n",
        "        '''\n",
        "        Parameters\n",
        "        ----------\n",
        "        X : array like, shape = (n_samples, n_features)\n",
        "        Data to predict\n",
        "        '''\n",
        "        return np.array([self.mean_target] * len(X))\n",
        "from sklearn.base import ClassifierMixin\n",
        "\n",
        "class MostFrequentClassifier(ClassifierMixin):\n",
        "    \n",
        "    def __init__(self):\n",
        "        self.most_common_target = None\n",
        "    # Predicts the rounded (just in case) median of y_train\n",
        "    def fit(self, X=None, y=None):\n",
        "        '''\n",
        "        Parameters\n",
        "        ----------\n",
        "        X : array like, shape = (n_samples, n_features)\n",
        "        Training data features\n",
        "        y : array like, shape = (_samples,)\n",
        "        Training data targets\n",
        "        '''\n",
        "        self.most_common_target = mode(y)[0]\n",
        "        return self\n",
        "\n",
        "    def predict(self, X=None):\n",
        "        '''\n",
        "        Parameters\n",
        "        ----------\n",
        "        X : array like, shape = (n_samples, n_features)\n",
        "        Data to predict\n",
        "        '''\n",
        "        return np.array([self.most_common_target] * len(X))"
      ]
    },
    {
      "cell_type": "code",
      "execution_count": 237,
      "metadata": {},
      "outputs": [
        {
          "data": {
            "text/plain": [
              "org_id               False\n",
              "city                 False\n",
              "average_bill         False\n",
              "rating                True\n",
              "rubrics_id           False\n",
              "features_id          False\n",
              "rubrics_name         False\n",
              "features_name        False\n",
              "modified_features    False\n",
              "dtype: bool"
            ]
          },
          "execution_count": 237,
          "metadata": {},
          "output_type": "execute_result"
        }
      ],
      "source": [
        "clean_data_train.isna().any()"
      ]
    },
    {
      "cell_type": "markdown",
      "metadata": {
        "id": "lo2pNhVoGH7I"
      },
      "source": [
        "Обучим наши модели"
      ]
    },
    {
      "cell_type": "code",
      "execution_count": 36,
      "metadata": {
        "id": "arXlaGnTGH7I"
      },
      "outputs": [
        {
          "data": {
            "text/plain": [
              "<__main__.MostFrequentClassifier at 0x7fb7f509bd00>"
            ]
          },
          "execution_count": 36,
          "metadata": {},
          "output_type": "execute_result"
        }
      ],
      "source": [
        "reg = MeanRegressor()\n",
        "reg.fit(y=clean_data_train['average_bill'])\n",
        "\n",
        "clf = MostFrequentClassifier()\n",
        "clf.fit(y=clean_data_train['average_bill'])"
      ]
    },
    {
      "cell_type": "markdown",
      "metadata": {
        "id": "jJG8x0tmGH7I"
      },
      "source": [
        "Обучите модели и оцените их качество на тестовой выборке. В качестве метрик возьмём RMSE (``np.sqrt`` от ``sklearn.metrics.mean_squared_error``) и ``sklearn.metrics.balanced_accuracy_score``.\n",
        "\n",
        "Для регрессионной модели имеет смысл считать только RMSE (значения будут не кратны 500, точно мы угадывать не будем никогда), а вот для классификационной можно найти обе метрики. Сделайте это. Какая модель оказалась лучше по RMSE?"
      ]
    },
    {
      "cell_type": "markdown",
      "metadata": {
        "id": "kvZwp54sGH7J"
      },
      "source": [
        "<details>\n",
        "  <summary>Когда будете готовы, кликните сюда</summary>\n",
        "    \n",
        "  Казалось бы, регрессор никогда не угадывает, но он в каком-то смысле лучше классификатора - справедливо ли это? Возможно. Несуществующий пользователь модели вряд ли будет задавать вопросы \"почему средний чек не кратен 500?\" Ну, выдали около 800 - ок, понятно.\n",
        "    \n",
        "</details>"
      ]
    },
    {
      "cell_type": "code",
      "execution_count": 13,
      "metadata": {},
      "outputs": [],
      "source": [
        "from sklearn.metrics import mean_squared_error\n",
        "from sklearn.metrics import balanced_accuracy_score"
      ]
    },
    {
      "cell_type": "code",
      "execution_count": 38,
      "metadata": {},
      "outputs": [],
      "source": [
        "n_test_samples = clean_data_test['average_bill']"
      ]
    },
    {
      "cell_type": "code",
      "execution_count": 39,
      "metadata": {},
      "outputs": [],
      "source": [
        "pred_reg = reg.predict(clean_data_test)\n",
        "pred_clf = clf.predict(clean_data_test)"
      ]
    },
    {
      "cell_type": "code",
      "execution_count": 40,
      "metadata": {},
      "outputs": [
        {
          "name": "stdout",
          "output_type": "stream",
          "text": [
            "Test metrics:\n",
            "\t[REGRESSOR] RMSE = 448.714\n",
            "\t[CLASSIFIER] RMSE = 514.752\n",
            "\t[CLASSIFIER] Balanced-ACCURACY = 0.2\n"
          ]
        }
      ],
      "source": [
        "print('Test metrics:')\n",
        "print(f\"\\t[REGRESSOR] RMSE = {np.sqrt(mean_squared_error(clean_data_test['average_bill'], pred_reg)):.3f}\")\n",
        "print(f\"\\t[CLASSIFIER] RMSE = {np.sqrt(mean_squared_error(clean_data_test['average_bill'], pred_clf)):.3f}\")\n",
        "print(f\"\\t[CLASSIFIER] Balanced-ACCURACY = {balanced_accuracy_score(clean_data_test['average_bill'], pred_clf)}\")"
      ]
    },
    {
      "cell_type": "markdown",
      "metadata": {
        "id": "V-1-O9GyGH7J"
      },
      "source": [
        "## Усложнение модели"
      ]
    },
    {
      "cell_type": "markdown",
      "metadata": {
        "id": "dGWgxl0VGH7J"
      },
      "source": [
        "Бейзлайны будут нашей отправной точкой. Строя дальнейшие модели, мы будем спрашивать себя: получилось ли лучше бейзлайна? Если нет или если не особо, то в чём смысл усложнения?"
      ]
    },
    {
      "cell_type": "markdown",
      "metadata": {
        "id": "9w3DkuuFGH7K"
      },
      "source": [
        "Начнём с использования фичи ``city``. Мы уже видели, что в разных городах и средние чеки разные. Легко проверить, что *медиана* средних чеков всё же одна и та же и в Москве, и в Санкт-Петербурге (ох уж этот вездесущий средний чек 500!), поэтому с классификатором мы ничего не сделаем. Но вот регрессор можно попробовать починить.\n",
        "\n",
        "**7. Напишите регрессор, для каждого заведения предсказывающий среднее значение в том же городе (на обучающей выборке, конечно) и сдайте его в Контест**. Вам может помочь то, что булевы `pandas` и `numpy` столбцы можно умножать на численные — в такой ситуации False работает, как ноль, а True как единица."
      ]
    },
    {
      "cell_type": "code",
      "execution_count": 61,
      "metadata": {
        "id": "ZULQVPe2GH7K"
      },
      "outputs": [],
      "source": [
        "from sklearn.base import RegressorMixin\n",
        "\n",
        "class CityMeanRegressor(RegressorMixin):\n",
        "    def __init__(self):\n",
        "        self.target_by_city = {}\n",
        "\n",
        "    def fit(self, X=None, y=None):\n",
        "        self.target_by_city = X.groupby('city')['average_bill'].mean().to_dict()\n",
        "        return self\n",
        "\n",
        "    def predict(self, X=None):\n",
        "        return X.city.replace(self.target_by_city)\n",
        "        "
      ]
    },
    {
      "cell_type": "code",
      "execution_count": 63,
      "metadata": {},
      "outputs": [
        {
          "name": "stdout",
          "output_type": "stream",
          "text": [
            "Test metrics:\n",
            "\t[CITY REGRESSOR] RMSE = 445.106\n"
          ]
        },
        {
          "name": "stderr",
          "output_type": "stream",
          "text": [
            "/tmp/ipykernel_196330/590239769.py:12: FutureWarning: Downcasting behavior in `replace` is deprecated and will be removed in a future version. To retain the old behavior, explicitly call `result.infer_objects(copy=False)`. To opt-in to the future behavior, set `pd.set_option('future.no_silent_downcasting', True)`\n",
            "  return X.city.replace(self.target_by_city)\n"
          ]
        }
      ],
      "source": [
        "pred_city_reg = CityMeanRegressor().fit(clean_data_train).predict(clean_data_test)\n",
        "print('Test metrics:')\n",
        "print(f\"\\t[CITY REGRESSOR] RMSE = {np.sqrt(mean_squared_error(clean_data_test['average_bill'], pred_city_reg)):.3f}\")"
      ]
    },
    {
      "cell_type": "markdown",
      "metadata": {
        "id": "1EeFGk24GH7K"
      },
      "source": [
        "Обучите регрессор и сравните его по метрике RMSE с бейзлайнами. Получилось ли улучшить метрику?"
      ]
    },
    {
      "cell_type": "markdown",
      "metadata": {
        "id": "jROycei1GH7L"
      },
      "source": [
        "Лучше стало, но, правда, не очень сильно. В этот момент очень важно не просто радовать руководителя приростом в третьем знаке, но и думать о том, что происходит.\n",
        "\n",
        "Средний средний чек по Москве равен 793, в Санкт-Петербурге - 676, а в целом - 752 рубля. MSE, увы, не поможет вам ответить на вопрос, стало ли лучше пользователю, если вы ему вместо 752 рублей назвали 793. Здесь вскрывается весьма существенный порок MSE в этой задаче. Дело в том, что наш изначальный таргет делит заведения на некоторые \"ценовые категории\", и различие в средних чеках 500 и 1000 в самом деле существенно. Наверное, мы хотели бы как раз правильно предсказывать ценовые категории. Но MSE не очень помогает нам об этом судить. Дальше мы ещё подумаем, как это исправить.\n",
        "\n",
        "В любом случае, несмотря на улучшение метрики, мы пока не можем судить, стало ли по жизни лучше от усложнения модели."
      ]
    },
    {
      "cell_type": "markdown",
      "metadata": {
        "id": "wEQ9eOoWGH7L"
      },
      "source": [
        "Поручинившись немного, возьмём на вооружение другую идею. Давайте использовать типы заведений!\n",
        "\n",
        "Но с типами есть некоторая проблема: в столбце ``rubrics_id`` не всегда один идентификатор, часто их несколько, и всего комбинаций довольно много. Чтобы не возиться с малочисленными типами, давайте сольём их в один безликий ``other``.\n",
        "\n",
        "Итак, добавьте в обучающие и тестовые данные столбец ``modified_rubrics``, в котором будет то же, что и в ``rubrics_id``, если соответствующая комбинация рубрик содержит хотя бы 100 заведений из обучающей (!) выборки, и строка ``other`` в противном случае.\n",
        "\n",
        "Здесь вам поможет контейнер ``Counter`` из библиотеки ``collections``."
      ]
    },
    {
      "cell_type": "code",
      "execution_count": 14,
      "metadata": {},
      "outputs": [],
      "source": [
        "from collections import Counter"
      ]
    },
    {
      "cell_type": "code",
      "execution_count": 74,
      "metadata": {},
      "outputs": [],
      "source": [
        "rubric_cnts = Counter(clean_data_train.rubrics_id.apply(lambda x: tuple(sorted(x.strip().split()))))"
      ]
    },
    {
      "cell_type": "code",
      "execution_count": 75,
      "metadata": {},
      "outputs": [
        {
          "data": {
            "text/html": [
              "<div>\n",
              "<style scoped>\n",
              "    .dataframe tbody tr th:only-of-type {\n",
              "        vertical-align: middle;\n",
              "    }\n",
              "\n",
              "    .dataframe tbody tr th {\n",
              "        vertical-align: top;\n",
              "    }\n",
              "\n",
              "    .dataframe thead th {\n",
              "        text-align: right;\n",
              "    }\n",
              "</style>\n",
              "<table border=\"1\" class=\"dataframe\">\n",
              "  <thead>\n",
              "    <tr style=\"text-align: right;\">\n",
              "      <th></th>\n",
              "      <th>org_id</th>\n",
              "      <th>city</th>\n",
              "      <th>average_bill</th>\n",
              "      <th>rating</th>\n",
              "      <th>rubrics_id</th>\n",
              "      <th>features_id</th>\n",
              "      <th>rubrics_name</th>\n",
              "      <th>features_name</th>\n",
              "    </tr>\n",
              "  </thead>\n",
              "  <tbody>\n",
              "    <tr>\n",
              "      <th>45769</th>\n",
              "      <td>3276960721840719260</td>\n",
              "      <td>msk</td>\n",
              "      <td>500.0</td>\n",
              "      <td>4.500000</td>\n",
              "      <td>30770</td>\n",
              "      <td>11704 20422 1018 11177 1416 11867 10462</td>\n",
              "      <td>[Бар, паб]</td>\n",
              "      <td>[wi_fi, payment_by_credit_card, food_delivery,...</td>\n",
              "    </tr>\n",
              "    <tr>\n",
              "      <th>39061</th>\n",
              "      <td>8452997364765928283</td>\n",
              "      <td>msk</td>\n",
              "      <td>1500.0</td>\n",
              "      <td>4.442623</td>\n",
              "      <td>30774 30776</td>\n",
              "      <td>1415 3501481355 1416 11629 10462 1524 20422 11...</td>\n",
              "      <td>[Кафе, Ресторан]</td>\n",
              "      <td>[nursery, number of screens, type_cuisine, sum...</td>\n",
              "    </tr>\n",
              "    <tr>\n",
              "      <th>59281</th>\n",
              "      <td>14240408259222214074</td>\n",
              "      <td>spb</td>\n",
              "      <td>1000.0</td>\n",
              "      <td>4.018868</td>\n",
              "      <td>30776 30774</td>\n",
              "      <td>3502045032 11741 3502045016 10462 11704 350177...</td>\n",
              "      <td>[Ресторан, Кафе]</td>\n",
              "      <td>[non_cash_tips, gift_certificate, types_of_del...</td>\n",
              "    </tr>\n",
              "    <tr>\n",
              "      <th>51225</th>\n",
              "      <td>15114069072602161053</td>\n",
              "      <td>msk</td>\n",
              "      <td>1500.0</td>\n",
              "      <td>4.364742</td>\n",
              "      <td>31401 30776</td>\n",
              "      <td>3501513153 3501779478 3491142672 273469383 350...</td>\n",
              "      <td>[Кальян-бар, Ресторан]</td>\n",
              "      <td>[tag_menu, online_takeaway, parking_disabled, ...</td>\n",
              "    </tr>\n",
              "    <tr>\n",
              "      <th>29587</th>\n",
              "      <td>2730337118800634815</td>\n",
              "      <td>msk</td>\n",
              "      <td>1000.0</td>\n",
              "      <td>4.698718</td>\n",
              "      <td>30770</td>\n",
              "      <td>21247 10896 3491142672 11629 3501481353 350148...</td>\n",
              "      <td>[Бар, паб]</td>\n",
              "      <td>[sports_broadcasts, dress_code, parking_disabl...</td>\n",
              "    </tr>\n",
              "  </tbody>\n",
              "</table>\n",
              "</div>"
            ],
            "text/plain": [
              "                     org_id city  average_bill    rating   rubrics_id  \\\n",
              "45769   3276960721840719260  msk         500.0  4.500000        30770   \n",
              "39061   8452997364765928283  msk        1500.0  4.442623  30774 30776   \n",
              "59281  14240408259222214074  spb        1000.0  4.018868  30776 30774   \n",
              "51225  15114069072602161053  msk        1500.0  4.364742  31401 30776   \n",
              "29587   2730337118800634815  msk        1000.0  4.698718        30770   \n",
              "\n",
              "                                             features_id  \\\n",
              "45769            11704 20422 1018 11177 1416 11867 10462   \n",
              "39061  1415 3501481355 1416 11629 10462 1524 20422 11...   \n",
              "59281  3502045032 11741 3502045016 10462 11704 350177...   \n",
              "51225  3501513153 3501779478 3491142672 273469383 350...   \n",
              "29587  21247 10896 3491142672 11629 3501481353 350148...   \n",
              "\n",
              "                 rubrics_name  \\\n",
              "45769              [Бар, паб]   \n",
              "39061        [Кафе, Ресторан]   \n",
              "59281        [Ресторан, Кафе]   \n",
              "51225  [Кальян-бар, Ресторан]   \n",
              "29587              [Бар, паб]   \n",
              "\n",
              "                                           features_name  \n",
              "45769  [wi_fi, payment_by_credit_card, food_delivery,...  \n",
              "39061  [nursery, number of screens, type_cuisine, sum...  \n",
              "59281  [non_cash_tips, gift_certificate, types_of_del...  \n",
              "51225  [tag_menu, online_takeaway, parking_disabled, ...  \n",
              "29587  [sports_broadcasts, dress_code, parking_disabl...  "
            ]
          },
          "execution_count": 75,
          "metadata": {},
          "output_type": "execute_result"
        }
      ],
      "source": [
        "clean_data_train.head()"
      ]
    },
    {
      "cell_type": "code",
      "execution_count": 77,
      "metadata": {},
      "outputs": [],
      "source": [
        "clean_data_train['modified_rubrics'] = clean_data_train.rubrics_id.apply(lambda x: tuple(sorted(x.strip().split())))\n",
        "clean_data_test['modified_rubrics'] = clean_data_test.rubrics_id.apply(lambda x: tuple(sorted(x.strip().split())))"
      ]
    },
    {
      "cell_type": "code",
      "execution_count": 78,
      "metadata": {},
      "outputs": [],
      "source": [
        "clean_data_train['modified_rubrics_cnt'] = clean_data_train.modified_rubrics.apply(lambda x: rubric_cnts.get(x, 0))\n",
        "clean_data_test['modified_rubrics_cnt'] = clean_data_test.modified_rubrics.apply(lambda x: rubric_cnts.get(x, 0))"
      ]
    },
    {
      "cell_type": "code",
      "execution_count": 79,
      "metadata": {},
      "outputs": [],
      "source": [
        "clean_data_train.loc[clean_data_train.modified_rubrics_cnt < 1000, 'modified_rubrics'] = ('other')\n",
        "clean_data_test.loc[clean_data_test.modified_rubrics_cnt < 1000, 'modified_rubrics'] = ('other')"
      ]
    },
    {
      "cell_type": "code",
      "execution_count": 110,
      "metadata": {},
      "outputs": [],
      "source": [
        "d = clean_data_train.groupby(['city', 'modified_rubrics'])['average_bill'].median().to_dict()"
      ]
    },
    {
      "cell_type": "code",
      "execution_count": 90,
      "metadata": {},
      "outputs": [
        {
          "data": {
            "text/plain": [
              "500.0"
            ]
          },
          "execution_count": 90,
          "metadata": {},
          "output_type": "execute_result"
        }
      ],
      "source": [
        "d[('msk', ('30770',))]"
      ]
    },
    {
      "cell_type": "markdown",
      "metadata": {
        "id": "nZXhpBjnGH7L"
      },
      "source": [
        "Теперь настало время написать могучий классификатор, который по заведению предсказывает медиану средних чеков среди тех в обучающей выборке, у которых с ним одинаковые `modified_rubrics` и город (вы спросите, почему медиану, а не самый частый -- спишем это на вдохновение; самый частый тоже можно брать - но медиана работает лучше).\n",
        "\n",
        "**8. Напишите классификатор и сдайте в Контест**."
      ]
    },
    {
      "cell_type": "code",
      "execution_count": 170,
      "metadata": {
        "id": "eTfcwh5dGH7M"
      },
      "outputs": [],
      "source": [
        "# your code\n",
        "from sklearn.base import ClassifierMixin\n",
        "\n",
        "class RubricCityMedianClassifier(ClassifierMixin):\n",
        "    def __init__(self):\n",
        "        self.target_by_rubric_city = {}\n",
        "\n",
        "    def fit(self, X=None, y=None):\n",
        "        self.target_by_rubric_city = X.groupby(['city', 'modified_rubrics'])['average_bill'].median().to_dict()\n",
        "        return self\n",
        "\n",
        "    def predict(self, X=None):\n",
        "        return X.apply(lambda x: self.target_by_rubric_city[(x.city, x.modified_rubrics)], axis=1)\n",
        "        "
      ]
    },
    {
      "cell_type": "code",
      "execution_count": 171,
      "metadata": {},
      "outputs": [],
      "source": [
        "clf = RubricCityMedianClassifier().fit(clean_data_train)\n",
        "pred = clf.predict(clean_data_test)"
      ]
    },
    {
      "cell_type": "code",
      "execution_count": 177,
      "metadata": {},
      "outputs": [
        {
          "name": "stdout",
          "output_type": "stream",
          "text": [
            "Test metrics:\n",
            "\t[CITY RUBRIC CLASSIFIER] RMSE = 409.862\n",
            "\t[CITY RUBRICCLASSIFIER] Balanced-ACCURACY = 0.29203839883487887\n"
          ]
        }
      ],
      "source": [
        "print('Test metrics:')\n",
        "print(f\"\\t[CITY RUBRIC CLASSIFIER] RMSE = {np.sqrt(mean_squared_error(clean_data_test['average_bill'], pred)):.3f}\")\n",
        "print(f\"\\t[CITY RUBRICCLASSIFIER] Balanced-ACCURACY = {balanced_accuracy_score(clean_data_test['average_bill'], pred)}\")"
      ]
    },
    {
      "cell_type": "code",
      "execution_count": 180,
      "metadata": {},
      "outputs": [
        {
          "data": {
            "text/plain": [
              "average_bill\n",
              "500.0     14961\n",
              "1000.0     3673\n",
              "1500.0     1806\n",
              "2000.0      793\n",
              "2500.0      298\n",
              "Name: count, dtype: int64"
            ]
          },
          "execution_count": 180,
          "metadata": {},
          "output_type": "execute_result"
        }
      ],
      "source": [
        "clean_data_train.average_bill.value_counts()"
      ]
    },
    {
      "cell_type": "code",
      "execution_count": 184,
      "metadata": {},
      "outputs": [
        {
          "data": {
            "text/plain": [
              "average_bill\n",
              "500.0     7368\n",
              "1000.0    1809\n",
              "1500.0     890\n",
              "2000.0     391\n",
              "2500.0     147\n",
              "Name: count, dtype: int64"
            ]
          },
          "execution_count": 184,
          "metadata": {},
          "output_type": "execute_result"
        }
      ],
      "source": [
        "clean_data_test.average_bill.value_counts()"
      ]
    },
    {
      "cell_type": "code",
      "execution_count": 183,
      "metadata": {},
      "outputs": [
        {
          "data": {
            "text/plain": [
              "0.2"
            ]
          },
          "execution_count": 183,
          "metadata": {},
          "output_type": "execute_result"
        }
      ],
      "source": [
        "balanced_accuracy_score(clean_data_test['average_bill'], [500.0] * len(clean_data_test['average_bill']))"
      ]
    },
    {
      "cell_type": "markdown",
      "metadata": {
        "id": "xbgjbwgkGH7M"
      },
      "source": [
        "Сравните обученный классификатор по метрикам RMSE и balanced_accuracy_score с нашими бейзлайнами. Получилось ли улучшить?"
      ]
    },
    {
      "cell_type": "markdown",
      "metadata": {
        "id": "UMjsnCnQGH7M"
      },
      "source": [
        "Обратите внимание что рост accuracy по сравнению с бейзлайном при этом на порядок меньше:"
      ]
    },
    {
      "cell_type": "markdown",
      "metadata": {
        "id": "K2cF0I-CGH7M"
      },
      "source": [
        "accuracy_score\n",
        "\n",
        "Predict most frequent:  0.6947666195190948\n",
        "\n",
        "Predict by rubric and city:  0.7095709570957096"
      ]
    },
    {
      "cell_type": "code",
      "execution_count": 186,
      "metadata": {},
      "outputs": [
        {
          "name": "stdout",
          "output_type": "stream",
          "text": [
            "Test classifier Accuracy: 0.702\n"
          ]
        }
      ],
      "source": [
        "from sklearn.metrics import accuracy_score\n",
        "\n",
        "print(f'Test classifier Accuracy: {accuracy_score(clean_data_test.average_bill, pred):.3f}')"
      ]
    },
    {
      "cell_type": "code",
      "execution_count": 191,
      "metadata": {},
      "outputs": [
        {
          "data": {
            "text/plain": [
              "5"
            ]
          },
          "execution_count": 191,
          "metadata": {},
          "output_type": "execute_result"
        }
      ],
      "source": [
        "clean_data_test.average_bill.nunique()"
      ]
    },
    {
      "cell_type": "code",
      "execution_count": 203,
      "metadata": {},
      "outputs": [
        {
          "name": "stdout",
          "output_type": "stream",
          "text": [
            "Доля верных ответов для каждого из классов:\n",
            "1000.0 : 565/1809\n",
            "500.0 : 6661/7368\n",
            "2000.0 : 0/391\n",
            "1500.0 : 217/890\n",
            "2500.0 : 0/147\n"
          ]
        }
      ],
      "source": [
        "true_ans_cnt = clean_data_test[clean_data_test.average_bill == pred].groupby('average_bill')['average_bill'].agg('count').to_dict()\n",
        "print('Доля верных ответов для каждого из классов:')\n",
        "for bill_val in clean_data_test.average_bill.unique():\n",
        "    print(f'{bill_val} : {true_ans_cnt.get(bill_val, 0)}/{clean_data_test.average_bill.value_counts().loc[bill_val]}')"
      ]
    },
    {
      "cell_type": "markdown",
      "metadata": {
        "id": "ylrAIjCcGH7N"
      },
      "source": [
        "Для диагностики напечатайте для каждого класса тестовой выборки, сколько в нём объектов и скольким из них наш классификатор приписал правильный класс. Что вы видите?\n",
        "\n",
        "&nbsp;\n",
        "\n",
        "<details>\n",
        "  <summary>Когда будете готовы, кликните сюда, чтобы посмотреть ответ</summary>\n",
        "    \n",
        "  Вы, вероятно, видите то, что мы стали однозначно лучше по сравнению с бейзлайном детектировать средний чек 1000 и 1500 (хотя всё равно не очень хорошо + ценой ухудшения качества на среднем чеке 500), а вот чеки 2000 и 2500 нам ну никак не даются.\n",
        "    \n",
        "</details>"
      ]
    },
    {
      "cell_type": "markdown",
      "metadata": {
        "id": "9ScOy7ZvGH7N"
      },
      "source": [
        "**Кстати**. А вы понимаете, почему приведённый выше пайплайн классификации был не очень удачным с точки зрения архитектуры? Почему его было бы правильнее воплотить по-другому?\n",
        "\n",
        "&nbsp;\n",
        "\n",
        "<details>\n",
        "  <summary>Когда будете готовы, кликните сюда, чтобы посмотреть ответ</summary>\n",
        "Собственно говоря, и не было никакого пайплайна. К счастью, у нас была одна обучающая выборка, мы на ней посчитали список рубрик для modified_rubrics и радовались жизни. Но если бы нам надо было переобучать всё на новых данных, пришлось бы помнить, что их надо везде пересчитать (ведь у нас могли появиться новые рубрики с хотя бы 100 представителями). А уж никакую кросс-валидацию (кто знает - тот поймёт) с нашим подходом к делу и вовсе бы не получилось сделать без боли.\n",
        "    \n",
        "Поэтому в следующей лабораторной вы научитесь делать честные пайплайны, в которых преобразование данных, генерация фичей и обучение классификатора будут объединены в один понятный процесс, происходящий на этапе fit.\n",
        "</details>"
      ]
    },
    {
      "cell_type": "markdown",
      "metadata": {
        "id": "4ujl3tbbGH7N"
      },
      "source": [
        "## Слишком простые и слишком сложные модели"
      ]
    },
    {
      "cell_type": "markdown",
      "metadata": {
        "id": "QF7McCHsGH7N"
      },
      "source": [
        "Бейзлайны у нас слишком просты и потому не очень полезны в жизни. Но если сложность модели растёт бесконтрольно, то тоже получается плохо.\n",
        "\n",
        "Давайте рассмотрим конкретный пример. Создадим классификатор, использующий одновременно `rubrics_id` и `features_id`.\n",
        "\n",
        "Сделайте следующее:\n",
        "\n",
        "- для каждого объекта обучающей выборки сконкатенируйте строку `rubrics_id` с разделителем (например, буквой 'q') и содержимым `features_id`. Полученный столбец озаглавьте `modified_features`. Это не самый клёвый способ заиспользовать все фичи, но сейчас пока сойдёт. Причём на сей раз не будем выкидывать мало представленные значения (вся информация важна, не так ли?).\n",
        "- при этом для тестовой выборке заменяйте на строку `other` все конкатенации, которые не встретились в обучающей выборке.\n",
        "\n",
        "То есть элементы в этом столбце будут иметь вид `other` или `30776 30774 q 3502045032 11741 3502045016 1046...`."
      ]
    },
    {
      "cell_type": "markdown",
      "metadata": {
        "id": "e8tNBPzVGH7O"
      },
      "source": [
        "Теперь обучите классификатор, который для заведения предсказывает медиану среднего чека по всем объектам тестовой выборки с таким же, как у него, значением `modified_features`, а если такого в обучающей выборке нет, то глобальную медиану среднего чека по всей обучающей выборке.\n",
        "\n",
        "**9. Загрузите в Контест предсказания этого классификатора на тестовой выборке**\n",
        "\n",
        "Мы ждём файла **.csv**, у которого в каждой строке будет только одно число - предсказание классификатора.\n",
        "\n",
        "Возможно, вам будет полезна библиотека ``tqdm``, позволяющая отслеживать в реальном времени, сколько времени уже крутится цикл и сколько итераций ещё осталось. Впрочем, если вы всё написали нормально, то должно работать не очень долго."
      ]
    },
    {
      "cell_type": "code",
      "execution_count": 15,
      "metadata": {},
      "outputs": [
        {
          "data": {
            "text/plain": [
              "65841                                       other\n",
              "48882                                       other\n",
              "33711                                       other\n",
              "33544                                       other\n",
              "35293                                       other\n",
              "                           ...                   \n",
              "55337                                       other\n",
              "64048                                       other\n",
              "22010                                       other\n",
              "40089    30771 q 11704 1018 273469383 10462 20422\n",
              "32180                                       other\n",
              "Name: modified_features, Length: 10605, dtype: object"
            ]
          },
          "execution_count": 15,
          "metadata": {},
          "output_type": "execute_result"
        }
      ],
      "source": [
        "clean_data_train['modified_features'] = clean_data_train.apply(lambda x: x.rubrics_id + ' q ' + x.features_id, axis=1)\n",
        "mod_feat_vals = set(clean_data_train['modified_features'])\n",
        "clean_data_test['modified_features'] = clean_data_test.apply(lambda x: x.rubrics_id + ' q ' + x.features_id, axis=1)\n",
        "clean_data_test['modified_features'].apply(lambda x: x if (x in mod_feat_vals) else 'other')"
      ]
    },
    {
      "cell_type": "code",
      "execution_count": 16,
      "metadata": {},
      "outputs": [],
      "source": [
        "# your code\n",
        "from sklearn.base import ClassifierMixin\n",
        "\n",
        "class GlobalClassifier(ClassifierMixin):\n",
        "    def __init__(self):\n",
        "        self.target_by_mod_feat = {}\n",
        "        self.global_median = None\n",
        "\n",
        "    def fit(self, X=None, y=None):\n",
        "        self.target_by_mod_feat = X.groupby(['modified_features'])['average_bill'].median().to_dict()\n",
        "        self.global_median = X.average_bill.median()\n",
        "        return self\n",
        "\n",
        "    def predict(self, X=None):\n",
        "        return X.apply(lambda x: self.target_by_mod_feat.get((x.modified_features), self.global_median), axis=1)\n",
        "        "
      ]
    },
    {
      "cell_type": "code",
      "execution_count": 17,
      "metadata": {},
      "outputs": [],
      "source": [
        "clf = GlobalClassifier()\n",
        "clf = clf.fit(clean_data_train)\n",
        "pred = clf.predict(clean_data_test)\n",
        "train_pred = clf.predict(clean_data_train)"
      ]
    },
    {
      "cell_type": "code",
      "execution_count": 18,
      "metadata": {},
      "outputs": [
        {
          "name": "stdout",
          "output_type": "stream",
          "text": [
            "Доля верных ответов для каждого из классов (на обучении):\n",
            "500.0 : 14931/14961\n",
            "1500.0 : 1789/1806\n",
            "1000.0 : 3647/3673\n",
            "2500.0 : 296/298\n",
            "2000.0 : 786/793\n"
          ]
        }
      ],
      "source": [
        "true_ans_cnt = clean_data_train[clean_data_train.average_bill == train_pred].groupby('average_bill')['average_bill'].agg('count').to_dict()\n",
        "print('Доля верных ответов для каждого из классов (на обучении):')\n",
        "for bill_val in clean_data_train.average_bill.unique():\n",
        "    print(f'{bill_val} : {true_ans_cnt.get(bill_val, 0)}/{clean_data_train.average_bill.value_counts().loc[bill_val]}')"
      ]
    },
    {
      "cell_type": "code",
      "execution_count": 19,
      "metadata": {},
      "outputs": [
        {
          "name": "stdout",
          "output_type": "stream",
          "text": [
            "Доля верных ответов для каждого из классов:\n",
            "1000.0 : 5/1809\n",
            "500.0 : 7344/7368\n",
            "2000.0 : 0/391\n",
            "1500.0 : 5/890\n",
            "2500.0 : 0/147\n"
          ]
        }
      ],
      "source": [
        "true_ans_cnt = clean_data_test[clean_data_test.average_bill == pred].groupby('average_bill')['average_bill'].agg('count').to_dict()\n",
        "print('Доля верных ответов для каждого из классов:')\n",
        "for bill_val in clean_data_test.average_bill.unique():\n",
        "    print(f'{bill_val} : {true_ans_cnt.get(bill_val, 0)}/{clean_data_test.average_bill.value_counts().loc[bill_val]}')"
      ]
    },
    {
      "cell_type": "code",
      "execution_count": 23,
      "metadata": {},
      "outputs": [
        {
          "name": "stdout",
          "output_type": "stream",
          "text": [
            "Train metrics:\n",
            "\t[GLOBAL CLASSIFIER] RMSE = 32.42\n",
            "\t[GLOBAL CLASSIFIER] Balanced-ACCURACY = 0.99\n",
            "Test metrics:\n",
            "\t[GLOBAL CLASSIFIER] RMSE = 513.99\n",
            "\t[GLOBAL CLASSIFIER] Balanced-ACCURACY = 0.20\n"
          ]
        },
        {
          "name": "stderr",
          "output_type": "stream",
          "text": [
            "/home/yaroslav/prog/envs/ml/lib/python3.10/site-packages/sklearn/metrics/_classification.py:2458: UserWarning: y_pred contains classes not in y_true\n",
            "  warnings.warn(\"y_pred contains classes not in y_true\")\n",
            "/home/yaroslav/prog/envs/ml/lib/python3.10/site-packages/sklearn/metrics/_classification.py:2458: UserWarning: y_pred contains classes not in y_true\n",
            "  warnings.warn(\"y_pred contains classes not in y_true\")\n"
          ]
        }
      ],
      "source": [
        "print('Train metrics:')\n",
        "print(f\"\\t[GLOBAL CLASSIFIER] RMSE = {np.sqrt(mean_squared_error(clean_data_train['average_bill'], train_pred)):.2f}\")\n",
        "print(f\"\\t[GLOBAL CLASSIFIER] Balanced-ACCURACY = {balanced_accuracy_score(clean_data_train['average_bill'], train_pred):.2f}\")\n",
        "\n",
        "print('Test metrics:')\n",
        "print(f\"\\t[GLOBAL CLASSIFIER] RMSE = {np.sqrt(mean_squared_error(clean_data_test['average_bill'], pred)):.2f}\")\n",
        "print(f\"\\t[GLOBAL CLASSIFIER] Balanced-ACCURACY = {balanced_accuracy_score(clean_data_test['average_bill'], pred):.2f}\")"
      ]
    },
    {
      "cell_type": "code",
      "execution_count": 21,
      "metadata": {},
      "outputs": [],
      "source": [
        "pred.to_csv('prediction.csv', header=False)"
      ]
    },
    {
      "cell_type": "markdown",
      "metadata": {
        "id": "_XrswPW4GH7O"
      },
      "source": [
        "Модель, очевидно, очень сложная. Число параметров (различных категорий) в ней сопоставимо с числом объектов в обучающей выборке. А получилось ли хорошо?\n",
        "\n",
        "Давайте посчитаем RMSE и balanced_accuracy_score на обучающей и на тестовой выборках.\n",
        "\n",
        "**10. Введите их в Контест**"
      ]
    },
    {
      "cell_type": "markdown",
      "metadata": {
        "id": "fGDTpxFgGH7O"
      },
      "source": [
        "Налицо переобучение: на трейне метрики отличные, на тесте - вообще никакие\n",
        "\n",
        "В общем, не гонитесь за чрезмерной сложностью модели.."
      ]
    },
    {
      "cell_type": "markdown",
      "metadata": {
        "id": "YTU2yubYGH7O"
      },
      "source": [
        "## ML без данных что компутер без электричества"
      ]
    },
    {
      "cell_type": "markdown",
      "metadata": {
        "id": "DBVOCVf2GH7P"
      },
      "source": [
        "Возможно, вы смотрите на полученные выше результаты и думаете: вот если бы мы не какие-то убогие медианы предсказывали, а гоняли бы нейросети, то тут-то бы всё и получилось!\n",
        "\n",
        "Но, увы, совсем даже не всегда от счастья нас отделяет выбор хорошей модели (и стратегии обучения). Если данные не очень, то даже самая крутая модель не сработает. В этой ситуации нужно либо добывать новые фичи каким-то образом, либо собирать новые данные (увеличивать датасет), либо просто бросать задачу.\n",
        "\n",
        "Давайте посмотрим, что выжмет из наших данных одна из самых мощных моделей для табличных данных - градиентный бустинг на решающих деревьях в исполнении [CatBoost](https://catboost.ai/)."
      ]
    },
    {
      "cell_type": "markdown",
      "metadata": {
        "id": "a0L4UmzSGH7P"
      },
      "source": [
        "Но прежде, чем сделать fit, нам надо облагородить данные. Несмотря на то, что CatBoost отлично работает с категориальными фичами, мешок признаков из `rubrics_id` или `features_id` может ему оказаться не по зубам. Поэтому мы соберём датасет в пристойную матрицу, создав для каждого типа рубрик и фичей отдельный столбец и записав там единицы для тех объектов, у которых эта рубрика или фича имеет место.\n",
        "\n",
        "В матрице почти все элементы будут нулями. Такие матрицы считаются **разреженными** и их можно хранить гораздо эффективней, чем просто таблицей. Этим и займёмся)"
      ]
    },
    {
      "cell_type": "markdown",
      "metadata": {
        "id": "IJKuMtNbGH7P"
      },
      "source": [
        "Есть несколько форматов хранения разреженных матриц (многие из них реализованы в [пакете sparse библиотеки scipy](https://docs.scipy.org/doc/scipy/reference/sparse.html)), и каждый пригоден для чего-то своего.\n",
        "\n",
        "Создавать разреженную матрицу лучше в [формате COO](https://docs.scipy.org/doc/scipy/reference/generated/scipy.sparse.coo_array.html#scipy.sparse.coo_array). Он предполагает, что разреженная матрица задаётся в виде трёх списков: `row`, `col`, `data`, причём каждая тройка `(row[i], col[i], data[i])` кодирует элемент со значением `data[i]`, стоящий на позиции `(row[i], col[i])`. Считается, что на позициях `(row, col)`, которые ни разу не встретились, стоят нули.\n",
        "\n",
        "Нетрудно видеть, что заполнять такую матрицу - одно удовольствие, и особенно этому помогает тот факт, что **пара `(row, col)` может встретиться несколько раз** (тогда в итоговой матрице на соответствующей позиции стоит сумма соответствующих `data[i]`). Но, с другой стороны, почти ничего другого с такой матрицей не сделаешь: произвольного доступа к элементам она не предоставляет, умножить её тоже особо ничего не умножишь. Поэтому для дальнейшего использования созданную таким образом матрицу преобразуют в один из более удобных форматов, например, [CSR (compressed sparse row)](https://scipy-lectures.org/advanced/scipy_sparse/csr_matrix.html). Он, к примеру, хорошо подходит для умножения на вектор (потому что матрица хранится по строкам). Не будем разбирать его подробно, но можете почитать по ссылке, если интересно."
      ]
    },
    {
      "cell_type": "markdown",
      "metadata": {
        "id": "2hd_Sob3GH7P"
      },
      "source": [
        "Вам нужно будет превратить обучающие и тестовые данные в разреженные матрицы `sparse_data_train` и `sparse_data_test` соответственно, таким образом, что:\n",
        "\n",
        "- столбец `city` превратится в столбец из единиц и нулей (например, 1 - Москва, 0 - Питер);\n",
        "- столбец `rating` перекочует в разреженные матрицы без изменений;\n",
        "- каждый типы рубрик и каждая фича превратятся в отдельный 0-1-принак;\n",
        "\n",
        "В тестовой выборке будут фичи, которых в обучающей выборке не было. С ними можно по-разному работать, но давайте создадим дополнительную фантомную фичу `feature_other`, в которой будет то, сколько неизвестных по обучающей выборке фичей есть у данного объекта."
      ]
    },
    {
      "cell_type": "code",
      "execution_count": 24,
      "metadata": {},
      "outputs": [],
      "source": [
        "import numpy as np\n",
        "from scipy.sparse import coo_array, csr_matrix\n",
        "\n",
        "# row = np.array([0, 0, 1, 2, 2, 2])\n",
        "# col = np.array([0, 2, 2, 0, 1, 2])\n",
        "# data = np.array([1, 2, 3, 4, 5, 6])\n",
        "# mtx = csr_matrix((data, (row, col)), shape=(3, 3))"
      ]
    },
    {
      "cell_type": "code",
      "execution_count": 173,
      "metadata": {},
      "outputs": [],
      "source": [
        "train_rubric_vals = np.unique(clean_data_train.rubrics_id.apply(lambda x: x.split()).explode().values)\n",
        "test_rubric_vals = np.unique(clean_data_test.rubrics_id.apply(lambda x: x.split()).explode().values)\n",
        "train_feat_vals = np.unique(clean_data_train.features_id.apply(lambda x: x.split()).explode().values)\n",
        "test_feat_vals = np.unique(clean_data_test.features_id.apply(lambda x: x.split()).explode().values)"
      ]
    },
    {
      "cell_type": "code",
      "execution_count": 174,
      "metadata": {},
      "outputs": [],
      "source": [
        "num_rubrics = len(train_rubric_vals)\n",
        "num_feat = len(train_feat_vals)"
      ]
    },
    {
      "cell_type": "code",
      "execution_count": 175,
      "metadata": {},
      "outputs": [],
      "source": [
        "rubric_vals = train_rubric_vals\n",
        "rubric_vals_dict = dict(zip(rubric_vals, np.arange(3, 3 + num_rubrics)))"
      ]
    },
    {
      "cell_type": "code",
      "execution_count": 176,
      "metadata": {},
      "outputs": [],
      "source": [
        "feature_vals = train_feat_vals\n",
        "feature_vals_dict = dict(zip(feature_vals, np.arange(3 + num_rubrics, 3 + num_rubrics + num_feat)))"
      ]
    },
    {
      "cell_type": "code",
      "execution_count": 196,
      "metadata": {},
      "outputs": [],
      "source": [
        "row_train = np.array([], dtype=int)\n",
        "col_train = np.array([], dtype=int)\n",
        "data_train = np.array([], dtype=float)\n",
        "\n",
        "row_test = np.array([], dtype=int)\n",
        "col_test = np.array([], dtype=int)\n",
        "data_test = np.array([], dtype=float)\n",
        "\n",
        "n_train = len(clean_data_train)\n",
        "n_test = len(clean_data_test)\n"
      ]
    },
    {
      "cell_type": "code",
      "execution_count": 197,
      "metadata": {},
      "outputs": [],
      "source": [
        "# add rating\n",
        "row_train = np.hstack((row_train, np.arange(n_train)))\n",
        "col_train = np.hstack((col_train, [0] * n_train))\n",
        "data_train = np.hstack((data_train, clean_data_train.rating.values))\n",
        "\n",
        "row_test = np.hstack((row_test, np.arange(n_test)))\n",
        "col_test = np.hstack((col_test, [0] * n_test))\n",
        "data_test = np.hstack((data_test, clean_data_test.rating.values))"
      ]
    },
    {
      "cell_type": "code",
      "execution_count": 198,
      "metadata": {},
      "outputs": [
        {
          "name": "stderr",
          "output_type": "stream",
          "text": [
            "/tmp/ipykernel_24018/427984116.py:3: FutureWarning: Downcasting behavior in `replace` is deprecated and will be removed in a future version. To retain the old behavior, explicitly call `result.infer_objects(copy=False)`. To opt-in to the future behavior, set `pd.set_option('future.no_silent_downcasting', True)`\n",
            "  col_train = np.hstack((col_train, clean_data_train.city.replace({'msk' : 1, 'spb' : 2}).values))\n",
            "/tmp/ipykernel_24018/427984116.py:7: FutureWarning: Downcasting behavior in `replace` is deprecated and will be removed in a future version. To retain the old behavior, explicitly call `result.infer_objects(copy=False)`. To opt-in to the future behavior, set `pd.set_option('future.no_silent_downcasting', True)`\n",
            "  col_test = np.hstack((col_test, clean_data_test.city.replace({'msk' : 1, 'spb' : 2}).values))\n"
          ]
        }
      ],
      "source": [
        "# add city\n",
        "row_train = np.hstack((row_train, np.arange(n_train)))\n",
        "col_train = np.hstack((col_train, clean_data_train.city.replace({'msk' : 1, 'spb' : 2}).values))\n",
        "data_train = np.hstack((data_train, [1] * n_train))\n",
        "\n",
        "row_test = np.hstack((row_test, np.arange(n_test)))\n",
        "col_test = np.hstack((col_test, clean_data_test.city.replace({'msk' : 1, 'spb' : 2}).values))\n",
        "data_test = np.hstack((data_test, [1] * n_test))"
      ]
    },
    {
      "cell_type": "code",
      "execution_count": 200,
      "metadata": {},
      "outputs": [],
      "source": [
        "#  add rubrics and features\n",
        "for i in range(n_train):\n",
        "    rubrics = clean_data_train.iloc[i].rubrics_id.split()\n",
        "    features = clean_data_train.iloc[i].features_id.split()\n",
        "    \n",
        "    row_ = []\n",
        "    col_ = []\n",
        "    data_ = []\n",
        "\n",
        "    for rubric in rubrics:\n",
        "        row_.append(i)\n",
        "        col_.append(rubric_vals_dict[rubric])\n",
        "        data_.append(1)\n",
        "\n",
        "    for feat in features:\n",
        "        row_.append(i)\n",
        "        col_.append(feature_vals_dict.get(feat, 3 + num_rubrics + num_feat))\n",
        "        data_.append(1)\n",
        "\n",
        "    row_train = np.hstack((row_train, row_))\n",
        "    col_train = np.hstack((col_train, col_))\n",
        "    data_train = np.hstack((data_train, data_))\n",
        "\n",
        "for i in range(n_test):\n",
        "    rubrics = clean_data_test.iloc[i].rubrics_id.split()\n",
        "    features = clean_data_test.iloc[i].features_id.split()\n",
        "    \n",
        "    row_ = []\n",
        "    col_ = []\n",
        "    data_ = []\n",
        "\n",
        "    for rubric in rubrics:\n",
        "        row_.append(i)\n",
        "        col_.append(rubric_vals_dict[rubric])\n",
        "        data_.append(1)\n",
        "\n",
        "    other_cnt = 0\n",
        "    for feat in features:\n",
        "        if feat in feature_vals_dict:\n",
        "            row_.append(i)\n",
        "            col_.append(feature_vals_dict[feat])\n",
        "            data_.append(1)\n",
        "        else:\n",
        "            other_cnt += 1\n",
        "    \n",
        "    if other_cnt:\n",
        "        row_.append(i)\n",
        "        col_.append(3 + num_feat + num_rubrics)\n",
        "        data_.append(other_cnt)\n",
        "\n",
        "    row_test = np.hstack((row_test, row_))\n",
        "    col_test = np.hstack((col_test, col_))\n",
        "    data_test = np.hstack((data_test, data_))"
      ]
    },
    {
      "cell_type": "code",
      "execution_count": 201,
      "metadata": {},
      "outputs": [],
      "source": [
        "mtx_train = csr_matrix((data_train, (row_train, col_train)), shape=(n_train, 3 + num_rubrics + num_feat + 1))\n",
        "mtx_test = csr_matrix((data_test, (row_test, col_test)), shape=(n_test, 3 + num_rubrics + num_feat + 1))"
      ]
    },
    {
      "cell_type": "markdown",
      "metadata": {
        "id": "lFfj-1E4GH7Q"
      },
      "source": [
        "Данные готовы, и теперь можно запустить катбуст"
      ]
    },
    {
      "cell_type": "code",
      "execution_count": 202,
      "metadata": {
        "id": "m2lP5NouGH7Q"
      },
      "outputs": [],
      "source": [
        "from catboost import CatBoostClassifier"
      ]
    },
    {
      "cell_type": "code",
      "execution_count": 203,
      "metadata": {},
      "outputs": [],
      "source": [
        "mtx_train.sort_indices()\n",
        "mtx_test.sort_indices()"
      ]
    },
    {
      "cell_type": "code",
      "execution_count": 204,
      "metadata": {
        "id": "jpW6uR0oGH7Q"
      },
      "outputs": [
        {
          "name": "stdout",
          "output_type": "stream",
          "text": [
            "Learning rate set to 0.092536\n",
            "0:\tlearn: 1.4372658\ttotal: 30.8ms\tremaining: 30.8s\n",
            "1:\tlearn: 1.3143572\ttotal: 65ms\tremaining: 32.4s\n",
            "2:\tlearn: 1.2235036\ttotal: 94.9ms\tremaining: 31.5s\n",
            "3:\tlearn: 1.1545205\ttotal: 124ms\tremaining: 30.9s\n",
            "4:\tlearn: 1.0983543\ttotal: 151ms\tremaining: 30.1s\n",
            "5:\tlearn: 1.0509577\ttotal: 181ms\tremaining: 30s\n",
            "6:\tlearn: 1.0075734\ttotal: 209ms\tremaining: 29.6s\n",
            "7:\tlearn: 0.9718710\ttotal: 244ms\tremaining: 30.2s\n",
            "8:\tlearn: 0.9410202\ttotal: 279ms\tremaining: 30.8s\n",
            "9:\tlearn: 0.9145498\ttotal: 312ms\tremaining: 30.9s\n",
            "10:\tlearn: 0.8925561\ttotal: 345ms\tremaining: 31s\n",
            "11:\tlearn: 0.8704875\ttotal: 375ms\tremaining: 30.9s\n",
            "12:\tlearn: 0.8535835\ttotal: 403ms\tremaining: 30.6s\n",
            "13:\tlearn: 0.8358837\ttotal: 430ms\tremaining: 30.3s\n",
            "14:\tlearn: 0.8209868\ttotal: 458ms\tremaining: 30.1s\n",
            "15:\tlearn: 0.8091272\ttotal: 487ms\tremaining: 29.9s\n",
            "16:\tlearn: 0.7963728\ttotal: 514ms\tremaining: 29.7s\n",
            "17:\tlearn: 0.7844539\ttotal: 543ms\tremaining: 29.6s\n",
            "18:\tlearn: 0.7753768\ttotal: 574ms\tremaining: 29.6s\n",
            "19:\tlearn: 0.7657075\ttotal: 601ms\tremaining: 29.5s\n",
            "20:\tlearn: 0.7581050\ttotal: 627ms\tremaining: 29.2s\n",
            "21:\tlearn: 0.7509822\ttotal: 656ms\tremaining: 29.2s\n",
            "22:\tlearn: 0.7447903\ttotal: 687ms\tremaining: 29.2s\n",
            "23:\tlearn: 0.7395673\ttotal: 714ms\tremaining: 29.1s\n",
            "24:\tlearn: 0.7339793\ttotal: 745ms\tremaining: 29s\n",
            "25:\tlearn: 0.7284617\ttotal: 774ms\tremaining: 29s\n",
            "26:\tlearn: 0.7235298\ttotal: 803ms\tremaining: 28.9s\n",
            "27:\tlearn: 0.7189242\ttotal: 832ms\tremaining: 28.9s\n",
            "28:\tlearn: 0.7146510\ttotal: 866ms\tremaining: 29s\n",
            "29:\tlearn: 0.7116514\ttotal: 892ms\tremaining: 28.8s\n",
            "30:\tlearn: 0.7092033\ttotal: 918ms\tremaining: 28.7s\n",
            "31:\tlearn: 0.7046948\ttotal: 949ms\tremaining: 28.7s\n",
            "32:\tlearn: 0.7018083\ttotal: 977ms\tremaining: 28.6s\n",
            "33:\tlearn: 0.6996098\ttotal: 1s\tremaining: 28.5s\n",
            "34:\tlearn: 0.6973229\ttotal: 1.03s\tremaining: 28.4s\n",
            "35:\tlearn: 0.6948830\ttotal: 1.06s\tremaining: 28.3s\n",
            "36:\tlearn: 0.6933080\ttotal: 1.08s\tremaining: 28.2s\n",
            "37:\tlearn: 0.6919778\ttotal: 1.11s\tremaining: 28.1s\n",
            "38:\tlearn: 0.6910639\ttotal: 1.14s\tremaining: 28.1s\n",
            "39:\tlearn: 0.6889138\ttotal: 1.17s\tremaining: 28s\n",
            "40:\tlearn: 0.6860088\ttotal: 1.2s\tremaining: 28s\n",
            "41:\tlearn: 0.6842532\ttotal: 1.23s\tremaining: 28s\n",
            "42:\tlearn: 0.6827794\ttotal: 1.25s\tremaining: 27.9s\n",
            "43:\tlearn: 0.6813454\ttotal: 1.28s\tremaining: 27.8s\n",
            "44:\tlearn: 0.6802324\ttotal: 1.31s\tremaining: 27.8s\n",
            "45:\tlearn: 0.6785264\ttotal: 1.33s\tremaining: 27.7s\n",
            "46:\tlearn: 0.6765855\ttotal: 1.36s\tremaining: 27.6s\n",
            "47:\tlearn: 0.6762576\ttotal: 1.39s\tremaining: 27.5s\n",
            "48:\tlearn: 0.6748741\ttotal: 1.42s\tremaining: 27.5s\n",
            "49:\tlearn: 0.6725369\ttotal: 1.45s\tremaining: 27.5s\n",
            "50:\tlearn: 0.6701620\ttotal: 1.48s\tremaining: 27.6s\n",
            "51:\tlearn: 0.6687228\ttotal: 1.51s\tremaining: 27.5s\n",
            "52:\tlearn: 0.6681774\ttotal: 1.54s\tremaining: 27.4s\n",
            "53:\tlearn: 0.6671295\ttotal: 1.56s\tremaining: 27.4s\n",
            "54:\tlearn: 0.6653845\ttotal: 1.6s\tremaining: 27.5s\n",
            "55:\tlearn: 0.6631802\ttotal: 1.63s\tremaining: 27.5s\n",
            "56:\tlearn: 0.6624848\ttotal: 1.65s\tremaining: 27.4s\n",
            "57:\tlearn: 0.6620170\ttotal: 1.68s\tremaining: 27.3s\n",
            "58:\tlearn: 0.6616632\ttotal: 1.7s\tremaining: 27.2s\n",
            "59:\tlearn: 0.6609534\ttotal: 1.73s\tremaining: 27.1s\n",
            "60:\tlearn: 0.6591521\ttotal: 1.76s\tremaining: 27.1s\n",
            "61:\tlearn: 0.6588592\ttotal: 1.79s\tremaining: 27.1s\n",
            "62:\tlearn: 0.6587275\ttotal: 1.82s\tremaining: 27s\n",
            "63:\tlearn: 0.6579605\ttotal: 1.84s\tremaining: 27s\n",
            "64:\tlearn: 0.6565852\ttotal: 1.87s\tremaining: 27s\n",
            "65:\tlearn: 0.6553843\ttotal: 1.9s\tremaining: 26.9s\n",
            "66:\tlearn: 0.6552464\ttotal: 1.93s\tremaining: 26.8s\n",
            "67:\tlearn: 0.6536216\ttotal: 1.96s\tremaining: 26.8s\n",
            "68:\tlearn: 0.6526360\ttotal: 1.98s\tremaining: 26.8s\n",
            "69:\tlearn: 0.6524421\ttotal: 2.01s\tremaining: 26.7s\n",
            "70:\tlearn: 0.6521246\ttotal: 2.04s\tremaining: 26.6s\n",
            "71:\tlearn: 0.6512082\ttotal: 2.06s\tremaining: 26.6s\n",
            "72:\tlearn: 0.6506197\ttotal: 2.09s\tremaining: 26.5s\n",
            "73:\tlearn: 0.6502221\ttotal: 2.12s\tremaining: 26.5s\n",
            "74:\tlearn: 0.6493876\ttotal: 2.14s\tremaining: 26.4s\n",
            "75:\tlearn: 0.6492102\ttotal: 2.17s\tremaining: 26.4s\n",
            "76:\tlearn: 0.6481595\ttotal: 2.2s\tremaining: 26.4s\n",
            "77:\tlearn: 0.6475799\ttotal: 2.23s\tremaining: 26.3s\n",
            "78:\tlearn: 0.6474290\ttotal: 2.25s\tremaining: 26.3s\n",
            "79:\tlearn: 0.6473687\ttotal: 2.28s\tremaining: 26.2s\n",
            "80:\tlearn: 0.6467741\ttotal: 2.3s\tremaining: 26.1s\n",
            "81:\tlearn: 0.6462470\ttotal: 2.33s\tremaining: 26.1s\n",
            "82:\tlearn: 0.6457062\ttotal: 2.35s\tremaining: 26s\n",
            "83:\tlearn: 0.6453032\ttotal: 2.38s\tremaining: 26s\n",
            "84:\tlearn: 0.6442041\ttotal: 2.41s\tremaining: 26s\n",
            "85:\tlearn: 0.6436827\ttotal: 2.45s\tremaining: 26s\n",
            "86:\tlearn: 0.6430515\ttotal: 2.48s\tremaining: 26s\n",
            "87:\tlearn: 0.6429128\ttotal: 2.5s\tremaining: 25.9s\n",
            "88:\tlearn: 0.6426161\ttotal: 2.52s\tremaining: 25.9s\n",
            "89:\tlearn: 0.6421474\ttotal: 2.55s\tremaining: 25.8s\n",
            "90:\tlearn: 0.6416762\ttotal: 2.58s\tremaining: 25.8s\n",
            "91:\tlearn: 0.6410418\ttotal: 2.6s\tremaining: 25.7s\n",
            "92:\tlearn: 0.6409307\ttotal: 2.64s\tremaining: 25.7s\n",
            "93:\tlearn: 0.6404993\ttotal: 2.68s\tremaining: 25.8s\n",
            "94:\tlearn: 0.6404437\ttotal: 2.7s\tremaining: 25.7s\n",
            "95:\tlearn: 0.6401740\ttotal: 2.73s\tremaining: 25.7s\n",
            "96:\tlearn: 0.6396668\ttotal: 2.75s\tremaining: 25.6s\n",
            "97:\tlearn: 0.6390456\ttotal: 2.78s\tremaining: 25.6s\n",
            "98:\tlearn: 0.6383605\ttotal: 2.81s\tremaining: 25.6s\n",
            "99:\tlearn: 0.6376953\ttotal: 2.84s\tremaining: 25.5s\n",
            "100:\tlearn: 0.6372857\ttotal: 2.86s\tremaining: 25.5s\n",
            "101:\tlearn: 0.6371371\ttotal: 2.88s\tremaining: 25.4s\n",
            "102:\tlearn: 0.6369199\ttotal: 2.91s\tremaining: 25.3s\n",
            "103:\tlearn: 0.6363213\ttotal: 2.94s\tremaining: 25.3s\n",
            "104:\tlearn: 0.6357461\ttotal: 2.97s\tremaining: 25.3s\n",
            "105:\tlearn: 0.6353077\ttotal: 2.99s\tremaining: 25.2s\n",
            "106:\tlearn: 0.6347264\ttotal: 3.02s\tremaining: 25.2s\n",
            "107:\tlearn: 0.6342288\ttotal: 3.04s\tremaining: 25.1s\n",
            "108:\tlearn: 0.6341675\ttotal: 3.07s\tremaining: 25.1s\n",
            "109:\tlearn: 0.6340621\ttotal: 3.09s\tremaining: 25s\n",
            "110:\tlearn: 0.6338852\ttotal: 3.12s\tremaining: 25s\n",
            "111:\tlearn: 0.6330455\ttotal: 3.15s\tremaining: 25s\n",
            "112:\tlearn: 0.6325604\ttotal: 3.18s\tremaining: 25s\n",
            "113:\tlearn: 0.6321592\ttotal: 3.21s\tremaining: 24.9s\n",
            "114:\tlearn: 0.6316283\ttotal: 3.23s\tremaining: 24.9s\n",
            "115:\tlearn: 0.6308470\ttotal: 3.26s\tremaining: 24.8s\n",
            "116:\tlearn: 0.6300886\ttotal: 3.29s\tremaining: 24.8s\n",
            "117:\tlearn: 0.6292522\ttotal: 3.31s\tremaining: 24.8s\n",
            "118:\tlearn: 0.6287412\ttotal: 3.34s\tremaining: 24.8s\n",
            "119:\tlearn: 0.6279829\ttotal: 3.38s\tremaining: 24.8s\n",
            "120:\tlearn: 0.6275303\ttotal: 3.4s\tremaining: 24.7s\n",
            "121:\tlearn: 0.6266363\ttotal: 3.43s\tremaining: 24.7s\n",
            "122:\tlearn: 0.6261386\ttotal: 3.46s\tremaining: 24.6s\n",
            "123:\tlearn: 0.6258380\ttotal: 3.48s\tremaining: 24.6s\n",
            "124:\tlearn: 0.6251659\ttotal: 3.51s\tremaining: 24.6s\n",
            "125:\tlearn: 0.6245886\ttotal: 3.54s\tremaining: 24.5s\n",
            "126:\tlearn: 0.6245001\ttotal: 3.56s\tremaining: 24.5s\n",
            "127:\tlearn: 0.6244279\ttotal: 3.59s\tremaining: 24.5s\n",
            "128:\tlearn: 0.6243361\ttotal: 3.61s\tremaining: 24.4s\n",
            "129:\tlearn: 0.6238972\ttotal: 3.64s\tremaining: 24.4s\n"
          ]
        },
        {
          "name": "stdout",
          "output_type": "stream",
          "text": [
            "130:\tlearn: 0.6235559\ttotal: 3.67s\tremaining: 24.3s\n",
            "131:\tlearn: 0.6234275\ttotal: 3.7s\tremaining: 24.3s\n",
            "132:\tlearn: 0.6232428\ttotal: 3.72s\tremaining: 24.3s\n",
            "133:\tlearn: 0.6231196\ttotal: 3.77s\tremaining: 24.4s\n",
            "134:\tlearn: 0.6230784\ttotal: 3.8s\tremaining: 24.4s\n",
            "135:\tlearn: 0.6228463\ttotal: 3.88s\tremaining: 24.7s\n",
            "136:\tlearn: 0.6222182\ttotal: 3.96s\tremaining: 24.9s\n",
            "137:\tlearn: 0.6212782\ttotal: 4s\tremaining: 25s\n",
            "138:\tlearn: 0.6211145\ttotal: 4.04s\tremaining: 25s\n",
            "139:\tlearn: 0.6208588\ttotal: 4.07s\tremaining: 25s\n",
            "140:\tlearn: 0.6207912\ttotal: 4.09s\tremaining: 24.9s\n",
            "141:\tlearn: 0.6202575\ttotal: 4.13s\tremaining: 25s\n",
            "142:\tlearn: 0.6199369\ttotal: 4.16s\tremaining: 24.9s\n",
            "143:\tlearn: 0.6194729\ttotal: 4.19s\tremaining: 24.9s\n",
            "144:\tlearn: 0.6191705\ttotal: 4.21s\tremaining: 24.8s\n",
            "145:\tlearn: 0.6186869\ttotal: 4.24s\tremaining: 24.8s\n",
            "146:\tlearn: 0.6182320\ttotal: 4.26s\tremaining: 24.7s\n",
            "147:\tlearn: 0.6176537\ttotal: 4.29s\tremaining: 24.7s\n",
            "148:\tlearn: 0.6174373\ttotal: 4.31s\tremaining: 24.6s\n",
            "149:\tlearn: 0.6171955\ttotal: 4.34s\tremaining: 24.6s\n",
            "150:\tlearn: 0.6168351\ttotal: 4.37s\tremaining: 24.6s\n",
            "151:\tlearn: 0.6165749\ttotal: 4.4s\tremaining: 24.5s\n",
            "152:\tlearn: 0.6163413\ttotal: 4.42s\tremaining: 24.5s\n",
            "153:\tlearn: 0.6156903\ttotal: 4.45s\tremaining: 24.4s\n",
            "154:\tlearn: 0.6155521\ttotal: 4.47s\tremaining: 24.4s\n",
            "155:\tlearn: 0.6152081\ttotal: 4.49s\tremaining: 24.3s\n",
            "156:\tlearn: 0.6145685\ttotal: 4.52s\tremaining: 24.3s\n",
            "157:\tlearn: 0.6141698\ttotal: 4.54s\tremaining: 24.2s\n",
            "158:\tlearn: 0.6138027\ttotal: 4.58s\tremaining: 24.2s\n",
            "159:\tlearn: 0.6133747\ttotal: 4.61s\tremaining: 24.2s\n",
            "160:\tlearn: 0.6125130\ttotal: 4.63s\tremaining: 24.1s\n",
            "161:\tlearn: 0.6123029\ttotal: 4.66s\tremaining: 24.1s\n",
            "162:\tlearn: 0.6121825\ttotal: 4.68s\tremaining: 24.1s\n",
            "163:\tlearn: 0.6118454\ttotal: 4.71s\tremaining: 24s\n",
            "164:\tlearn: 0.6116632\ttotal: 4.73s\tremaining: 24s\n",
            "165:\tlearn: 0.6113550\ttotal: 4.77s\tremaining: 23.9s\n",
            "166:\tlearn: 0.6112266\ttotal: 4.79s\tremaining: 23.9s\n",
            "167:\tlearn: 0.6111811\ttotal: 4.82s\tremaining: 23.9s\n",
            "168:\tlearn: 0.6111171\ttotal: 4.84s\tremaining: 23.8s\n",
            "169:\tlearn: 0.6110240\ttotal: 4.86s\tremaining: 23.8s\n",
            "170:\tlearn: 0.6109537\ttotal: 4.89s\tremaining: 23.7s\n",
            "171:\tlearn: 0.6105106\ttotal: 4.91s\tremaining: 23.6s\n",
            "172:\tlearn: 0.6102412\ttotal: 4.93s\tremaining: 23.6s\n",
            "173:\tlearn: 0.6100832\ttotal: 4.96s\tremaining: 23.6s\n",
            "174:\tlearn: 0.6095630\ttotal: 4.99s\tremaining: 23.5s\n",
            "175:\tlearn: 0.6094478\ttotal: 5.01s\tremaining: 23.5s\n",
            "176:\tlearn: 0.6093143\ttotal: 5.04s\tremaining: 23.4s\n",
            "177:\tlearn: 0.6091525\ttotal: 5.06s\tremaining: 23.4s\n",
            "178:\tlearn: 0.6086857\ttotal: 5.09s\tremaining: 23.3s\n",
            "179:\tlearn: 0.6084934\ttotal: 5.11s\tremaining: 23.3s\n",
            "180:\tlearn: 0.6081992\ttotal: 5.13s\tremaining: 23.2s\n",
            "181:\tlearn: 0.6074237\ttotal: 5.17s\tremaining: 23.2s\n",
            "182:\tlearn: 0.6072559\ttotal: 5.19s\tremaining: 23.2s\n",
            "183:\tlearn: 0.6070677\ttotal: 5.21s\tremaining: 23.1s\n",
            "184:\tlearn: 0.6067989\ttotal: 5.24s\tremaining: 23.1s\n",
            "185:\tlearn: 0.6065608\ttotal: 5.26s\tremaining: 23s\n",
            "186:\tlearn: 0.6065122\ttotal: 5.29s\tremaining: 23s\n",
            "187:\tlearn: 0.6062625\ttotal: 5.32s\tremaining: 23s\n",
            "188:\tlearn: 0.6058709\ttotal: 5.34s\tremaining: 22.9s\n",
            "189:\tlearn: 0.6054475\ttotal: 5.38s\tremaining: 22.9s\n",
            "190:\tlearn: 0.6051317\ttotal: 5.41s\tremaining: 22.9s\n",
            "191:\tlearn: 0.6048048\ttotal: 5.43s\tremaining: 22.9s\n",
            "192:\tlearn: 0.6047097\ttotal: 5.46s\tremaining: 22.8s\n",
            "193:\tlearn: 0.6043674\ttotal: 5.49s\tremaining: 22.8s\n",
            "194:\tlearn: 0.6041918\ttotal: 5.51s\tremaining: 22.8s\n",
            "195:\tlearn: 0.6040684\ttotal: 5.54s\tremaining: 22.7s\n",
            "196:\tlearn: 0.6035489\ttotal: 5.58s\tremaining: 22.7s\n",
            "197:\tlearn: 0.6035140\ttotal: 5.6s\tremaining: 22.7s\n",
            "198:\tlearn: 0.6033423\ttotal: 5.63s\tremaining: 22.7s\n",
            "199:\tlearn: 0.6029693\ttotal: 5.66s\tremaining: 22.6s\n",
            "200:\tlearn: 0.6029237\ttotal: 5.68s\tremaining: 22.6s\n",
            "201:\tlearn: 0.6025874\ttotal: 5.71s\tremaining: 22.5s\n",
            "202:\tlearn: 0.6024385\ttotal: 5.73s\tremaining: 22.5s\n",
            "203:\tlearn: 0.6022103\ttotal: 5.76s\tremaining: 22.5s\n",
            "204:\tlearn: 0.6021372\ttotal: 5.79s\tremaining: 22.5s\n",
            "205:\tlearn: 0.6019265\ttotal: 5.82s\tremaining: 22.4s\n",
            "206:\tlearn: 0.6017420\ttotal: 5.85s\tremaining: 22.4s\n",
            "207:\tlearn: 0.6015242\ttotal: 5.88s\tremaining: 22.4s\n",
            "208:\tlearn: 0.6011759\ttotal: 5.91s\tremaining: 22.4s\n",
            "209:\tlearn: 0.6010841\ttotal: 5.93s\tremaining: 22.3s\n",
            "210:\tlearn: 0.6010653\ttotal: 5.96s\tremaining: 22.3s\n",
            "211:\tlearn: 0.6009434\ttotal: 5.99s\tremaining: 22.3s\n",
            "212:\tlearn: 0.6009182\ttotal: 6.02s\tremaining: 22.2s\n",
            "213:\tlearn: 0.6006683\ttotal: 6.05s\tremaining: 22.2s\n",
            "214:\tlearn: 0.6005828\ttotal: 6.08s\tremaining: 22.2s\n",
            "215:\tlearn: 0.6005283\ttotal: 6.1s\tremaining: 22.1s\n",
            "216:\tlearn: 0.6003067\ttotal: 6.12s\tremaining: 22.1s\n",
            "217:\tlearn: 0.6000770\ttotal: 6.15s\tremaining: 22.1s\n",
            "218:\tlearn: 0.6000356\ttotal: 6.17s\tremaining: 22s\n",
            "219:\tlearn: 0.6000177\ttotal: 6.19s\tremaining: 22s\n",
            "220:\tlearn: 0.5999081\ttotal: 6.22s\tremaining: 21.9s\n",
            "221:\tlearn: 0.5996091\ttotal: 6.25s\tremaining: 21.9s\n",
            "222:\tlearn: 0.5993184\ttotal: 6.27s\tremaining: 21.9s\n",
            "223:\tlearn: 0.5991598\ttotal: 6.3s\tremaining: 21.8s\n",
            "224:\tlearn: 0.5989922\ttotal: 6.32s\tremaining: 21.8s\n",
            "225:\tlearn: 0.5989438\ttotal: 6.34s\tremaining: 21.7s\n",
            "226:\tlearn: 0.5988923\ttotal: 6.36s\tremaining: 21.7s\n",
            "227:\tlearn: 0.5986256\ttotal: 6.39s\tremaining: 21.6s\n",
            "228:\tlearn: 0.5984103\ttotal: 6.42s\tremaining: 21.6s\n",
            "229:\tlearn: 0.5981935\ttotal: 6.44s\tremaining: 21.6s\n",
            "230:\tlearn: 0.5979249\ttotal: 6.46s\tremaining: 21.5s\n",
            "231:\tlearn: 0.5978942\ttotal: 6.49s\tremaining: 21.5s\n",
            "232:\tlearn: 0.5978208\ttotal: 6.51s\tremaining: 21.4s\n",
            "233:\tlearn: 0.5977773\ttotal: 6.53s\tremaining: 21.4s\n",
            "234:\tlearn: 0.5974654\ttotal: 6.56s\tremaining: 21.4s\n",
            "235:\tlearn: 0.5973864\ttotal: 6.58s\tremaining: 21.3s\n",
            "236:\tlearn: 0.5972026\ttotal: 6.61s\tremaining: 21.3s\n",
            "237:\tlearn: 0.5970097\ttotal: 6.63s\tremaining: 21.2s\n",
            "238:\tlearn: 0.5967936\ttotal: 6.66s\tremaining: 21.2s\n",
            "239:\tlearn: 0.5964930\ttotal: 6.68s\tremaining: 21.2s\n",
            "240:\tlearn: 0.5964408\ttotal: 6.71s\tremaining: 21.1s\n",
            "241:\tlearn: 0.5962712\ttotal: 6.73s\tremaining: 21.1s\n",
            "242:\tlearn: 0.5959687\ttotal: 6.76s\tremaining: 21.1s\n",
            "243:\tlearn: 0.5956488\ttotal: 6.78s\tremaining: 21s\n",
            "244:\tlearn: 0.5953906\ttotal: 6.8s\tremaining: 21s\n",
            "245:\tlearn: 0.5952121\ttotal: 6.83s\tremaining: 20.9s\n",
            "246:\tlearn: 0.5949262\ttotal: 6.86s\tremaining: 20.9s\n",
            "247:\tlearn: 0.5948039\ttotal: 6.88s\tremaining: 20.9s\n",
            "248:\tlearn: 0.5946599\ttotal: 6.91s\tremaining: 20.8s\n",
            "249:\tlearn: 0.5944033\ttotal: 6.93s\tremaining: 20.8s\n",
            "250:\tlearn: 0.5943425\ttotal: 6.96s\tremaining: 20.8s\n",
            "251:\tlearn: 0.5941588\ttotal: 6.98s\tremaining: 20.7s\n",
            "252:\tlearn: 0.5939595\ttotal: 7s\tremaining: 20.7s\n",
            "253:\tlearn: 0.5937704\ttotal: 7.03s\tremaining: 20.6s\n",
            "254:\tlearn: 0.5935492\ttotal: 7.05s\tremaining: 20.6s\n",
            "255:\tlearn: 0.5934511\ttotal: 7.08s\tremaining: 20.6s\n",
            "256:\tlearn: 0.5932238\ttotal: 7.11s\tremaining: 20.5s\n",
            "257:\tlearn: 0.5930277\ttotal: 7.13s\tremaining: 20.5s\n",
            "258:\tlearn: 0.5929673\ttotal: 7.15s\tremaining: 20.5s\n",
            "259:\tlearn: 0.5928910\ttotal: 7.18s\tremaining: 20.4s\n",
            "260:\tlearn: 0.5928254\ttotal: 7.2s\tremaining: 20.4s\n",
            "261:\tlearn: 0.5926962\ttotal: 7.22s\tremaining: 20.3s\n",
            "262:\tlearn: 0.5925476\ttotal: 7.25s\tremaining: 20.3s\n",
            "263:\tlearn: 0.5923718\ttotal: 7.27s\tremaining: 20.3s\n",
            "264:\tlearn: 0.5919923\ttotal: 7.3s\tremaining: 20.2s\n",
            "265:\tlearn: 0.5919109\ttotal: 7.32s\tremaining: 20.2s\n",
            "266:\tlearn: 0.5918786\ttotal: 7.34s\tremaining: 20.2s\n",
            "267:\tlearn: 0.5917742\ttotal: 7.37s\tremaining: 20.1s\n",
            "268:\tlearn: 0.5917169\ttotal: 7.39s\tremaining: 20.1s\n",
            "269:\tlearn: 0.5914420\ttotal: 7.42s\tremaining: 20s\n",
            "270:\tlearn: 0.5909957\ttotal: 7.44s\tremaining: 20s\n",
            "271:\tlearn: 0.5907861\ttotal: 7.46s\tremaining: 20s\n",
            "272:\tlearn: 0.5905849\ttotal: 7.49s\tremaining: 19.9s\n",
            "273:\tlearn: 0.5905186\ttotal: 7.51s\tremaining: 19.9s\n",
            "274:\tlearn: 0.5902964\ttotal: 7.54s\tremaining: 19.9s\n",
            "275:\tlearn: 0.5900669\ttotal: 7.56s\tremaining: 19.8s\n",
            "276:\tlearn: 0.5899952\ttotal: 7.59s\tremaining: 19.8s\n",
            "277:\tlearn: 0.5899561\ttotal: 7.61s\tremaining: 19.8s\n",
            "278:\tlearn: 0.5897496\ttotal: 7.63s\tremaining: 19.7s\n",
            "279:\tlearn: 0.5896178\ttotal: 7.66s\tremaining: 19.7s\n",
            "280:\tlearn: 0.5892147\ttotal: 7.68s\tremaining: 19.7s\n",
            "281:\tlearn: 0.5890520\ttotal: 7.71s\tremaining: 19.6s\n",
            "282:\tlearn: 0.5890056\ttotal: 7.74s\tremaining: 19.6s\n",
            "283:\tlearn: 0.5888979\ttotal: 7.76s\tremaining: 19.6s\n",
            "284:\tlearn: 0.5887096\ttotal: 7.78s\tremaining: 19.5s\n",
            "285:\tlearn: 0.5886524\ttotal: 7.81s\tremaining: 19.5s\n",
            "286:\tlearn: 0.5885348\ttotal: 7.83s\tremaining: 19.5s\n",
            "287:\tlearn: 0.5880492\ttotal: 7.86s\tremaining: 19.4s\n",
            "288:\tlearn: 0.5878127\ttotal: 7.88s\tremaining: 19.4s\n",
            "289:\tlearn: 0.5876684\ttotal: 7.91s\tremaining: 19.4s\n",
            "290:\tlearn: 0.5875407\ttotal: 7.93s\tremaining: 19.3s\n",
            "291:\tlearn: 0.5875174\ttotal: 7.96s\tremaining: 19.3s\n",
            "292:\tlearn: 0.5874650\ttotal: 7.98s\tremaining: 19.3s\n",
            "293:\tlearn: 0.5873506\ttotal: 8s\tremaining: 19.2s\n",
            "294:\tlearn: 0.5869310\ttotal: 8.03s\tremaining: 19.2s\n",
            "295:\tlearn: 0.5869088\ttotal: 8.05s\tremaining: 19.1s\n",
            "296:\tlearn: 0.5868906\ttotal: 8.07s\tremaining: 19.1s\n",
            "297:\tlearn: 0.5868040\ttotal: 8.1s\tremaining: 19.1s\n",
            "298:\tlearn: 0.5866601\ttotal: 8.12s\tremaining: 19s\n",
            "299:\tlearn: 0.5864104\ttotal: 8.15s\tremaining: 19s\n",
            "300:\tlearn: 0.5861643\ttotal: 8.18s\tremaining: 19s\n",
            "301:\tlearn: 0.5860930\ttotal: 8.2s\tremaining: 18.9s\n",
            "302:\tlearn: 0.5860341\ttotal: 8.22s\tremaining: 18.9s\n",
            "303:\tlearn: 0.5858266\ttotal: 8.25s\tremaining: 18.9s\n",
            "304:\tlearn: 0.5855177\ttotal: 8.27s\tremaining: 18.8s\n",
            "305:\tlearn: 0.5853699\ttotal: 8.29s\tremaining: 18.8s\n",
            "306:\tlearn: 0.5852920\ttotal: 8.31s\tremaining: 18.8s\n",
            "307:\tlearn: 0.5851914\ttotal: 8.34s\tremaining: 18.7s\n",
            "308:\tlearn: 0.5851703\ttotal: 8.36s\tremaining: 18.7s\n",
            "309:\tlearn: 0.5851233\ttotal: 8.39s\tremaining: 18.7s\n",
            "310:\tlearn: 0.5848472\ttotal: 8.41s\tremaining: 18.6s\n",
            "311:\tlearn: 0.5843716\ttotal: 8.44s\tremaining: 18.6s\n",
            "312:\tlearn: 0.5843563\ttotal: 8.46s\tremaining: 18.6s\n",
            "313:\tlearn: 0.5841241\ttotal: 8.48s\tremaining: 18.5s\n",
            "314:\tlearn: 0.5840831\ttotal: 8.51s\tremaining: 18.5s\n",
            "315:\tlearn: 0.5840696\ttotal: 8.53s\tremaining: 18.5s\n",
            "316:\tlearn: 0.5840374\ttotal: 8.55s\tremaining: 18.4s\n",
            "317:\tlearn: 0.5837192\ttotal: 8.58s\tremaining: 18.4s\n",
            "318:\tlearn: 0.5836150\ttotal: 8.6s\tremaining: 18.4s\n",
            "319:\tlearn: 0.5834305\ttotal: 8.63s\tremaining: 18.3s\n",
            "320:\tlearn: 0.5833685\ttotal: 8.65s\tremaining: 18.3s\n",
            "321:\tlearn: 0.5832705\ttotal: 8.68s\tremaining: 18.3s\n",
            "322:\tlearn: 0.5832006\ttotal: 8.7s\tremaining: 18.2s\n",
            "323:\tlearn: 0.5831700\ttotal: 8.72s\tremaining: 18.2s\n",
            "324:\tlearn: 0.5830171\ttotal: 8.74s\tremaining: 18.2s\n",
            "325:\tlearn: 0.5829909\ttotal: 8.77s\tremaining: 18.1s\n",
            "326:\tlearn: 0.5829325\ttotal: 8.79s\tremaining: 18.1s\n",
            "327:\tlearn: 0.5828569\ttotal: 8.82s\tremaining: 18.1s\n",
            "328:\tlearn: 0.5828289\ttotal: 8.84s\tremaining: 18s\n",
            "329:\tlearn: 0.5826538\ttotal: 8.86s\tremaining: 18s\n",
            "330:\tlearn: 0.5825800\ttotal: 8.89s\tremaining: 18s\n",
            "331:\tlearn: 0.5825523\ttotal: 8.91s\tremaining: 17.9s\n",
            "332:\tlearn: 0.5824884\ttotal: 8.93s\tremaining: 17.9s\n",
            "333:\tlearn: 0.5823555\ttotal: 8.96s\tremaining: 17.9s\n",
            "334:\tlearn: 0.5820028\ttotal: 8.98s\tremaining: 17.8s\n",
            "335:\tlearn: 0.5819121\ttotal: 9.01s\tremaining: 17.8s\n",
            "336:\tlearn: 0.5819000\ttotal: 9.03s\tremaining: 17.8s\n",
            "337:\tlearn: 0.5818235\ttotal: 9.05s\tremaining: 17.7s\n",
            "338:\tlearn: 0.5816910\ttotal: 9.08s\tremaining: 17.7s\n",
            "339:\tlearn: 0.5816715\ttotal: 9.1s\tremaining: 17.7s\n",
            "340:\tlearn: 0.5814380\ttotal: 9.13s\tremaining: 17.6s\n",
            "341:\tlearn: 0.5814230\ttotal: 9.15s\tremaining: 17.6s\n",
            "342:\tlearn: 0.5812179\ttotal: 9.17s\tremaining: 17.6s\n",
            "343:\tlearn: 0.5812007\ttotal: 9.19s\tremaining: 17.5s\n",
            "344:\tlearn: 0.5808833\ttotal: 9.21s\tremaining: 17.5s\n",
            "345:\tlearn: 0.5807363\ttotal: 9.24s\tremaining: 17.5s\n",
            "346:\tlearn: 0.5805908\ttotal: 9.26s\tremaining: 17.4s\n",
            "347:\tlearn: 0.5805535\ttotal: 9.29s\tremaining: 17.4s\n",
            "348:\tlearn: 0.5804493\ttotal: 9.31s\tremaining: 17.4s\n",
            "349:\tlearn: 0.5804073\ttotal: 9.33s\tremaining: 17.3s\n",
            "350:\tlearn: 0.5803839\ttotal: 9.36s\tremaining: 17.3s\n",
            "351:\tlearn: 0.5802740\ttotal: 9.38s\tremaining: 17.3s\n",
            "352:\tlearn: 0.5802651\ttotal: 9.4s\tremaining: 17.2s\n",
            "353:\tlearn: 0.5801291\ttotal: 9.43s\tremaining: 17.2s\n",
            "354:\tlearn: 0.5800289\ttotal: 9.45s\tremaining: 17.2s\n",
            "355:\tlearn: 0.5797385\ttotal: 9.47s\tremaining: 17.1s\n",
            "356:\tlearn: 0.5796132\ttotal: 9.5s\tremaining: 17.1s\n",
            "357:\tlearn: 0.5795872\ttotal: 9.52s\tremaining: 17.1s\n",
            "358:\tlearn: 0.5795521\ttotal: 9.54s\tremaining: 17s\n",
            "359:\tlearn: 0.5795068\ttotal: 9.56s\tremaining: 17s\n",
            "360:\tlearn: 0.5794413\ttotal: 9.59s\tremaining: 17s\n",
            "361:\tlearn: 0.5792105\ttotal: 9.61s\tremaining: 16.9s\n",
            "362:\tlearn: 0.5791462\ttotal: 9.64s\tremaining: 16.9s\n",
            "363:\tlearn: 0.5789689\ttotal: 9.66s\tremaining: 16.9s\n",
            "364:\tlearn: 0.5789546\ttotal: 9.69s\tremaining: 16.9s\n",
            "365:\tlearn: 0.5785684\ttotal: 9.71s\tremaining: 16.8s\n",
            "366:\tlearn: 0.5785474\ttotal: 9.74s\tremaining: 16.8s\n",
            "367:\tlearn: 0.5784937\ttotal: 9.76s\tremaining: 16.8s\n",
            "368:\tlearn: 0.5779320\ttotal: 9.79s\tremaining: 16.7s\n",
            "369:\tlearn: 0.5777141\ttotal: 9.82s\tremaining: 16.7s\n",
            "370:\tlearn: 0.5774587\ttotal: 9.84s\tremaining: 16.7s\n",
            "371:\tlearn: 0.5772664\ttotal: 9.87s\tremaining: 16.7s\n",
            "372:\tlearn: 0.5770962\ttotal: 9.9s\tremaining: 16.6s\n",
            "373:\tlearn: 0.5770241\ttotal: 9.93s\tremaining: 16.6s\n",
            "374:\tlearn: 0.5768826\ttotal: 9.96s\tremaining: 16.6s\n",
            "375:\tlearn: 0.5768136\ttotal: 9.99s\tremaining: 16.6s\n",
            "376:\tlearn: 0.5764295\ttotal: 10s\tremaining: 16.6s\n",
            "377:\tlearn: 0.5763818\ttotal: 10s\tremaining: 16.5s\n",
            "378:\tlearn: 0.5759977\ttotal: 10.1s\tremaining: 16.5s\n",
            "379:\tlearn: 0.5758825\ttotal: 10.1s\tremaining: 16.5s\n",
            "380:\tlearn: 0.5755897\ttotal: 10.2s\tremaining: 16.5s\n",
            "381:\tlearn: 0.5755666\ttotal: 10.2s\tremaining: 16.5s\n",
            "382:\tlearn: 0.5753402\ttotal: 10.2s\tremaining: 16.5s\n",
            "383:\tlearn: 0.5752875\ttotal: 10.2s\tremaining: 16.4s\n",
            "384:\tlearn: 0.5751690\ttotal: 10.3s\tremaining: 16.4s\n",
            "385:\tlearn: 0.5751428\ttotal: 10.3s\tremaining: 16.4s\n",
            "386:\tlearn: 0.5749886\ttotal: 10.3s\tremaining: 16.4s\n",
            "387:\tlearn: 0.5748754\ttotal: 10.4s\tremaining: 16.4s\n",
            "388:\tlearn: 0.5748456\ttotal: 10.4s\tremaining: 16.3s\n",
            "389:\tlearn: 0.5747946\ttotal: 10.4s\tremaining: 16.3s\n",
            "390:\tlearn: 0.5746036\ttotal: 10.5s\tremaining: 16.3s\n",
            "391:\tlearn: 0.5745201\ttotal: 10.5s\tremaining: 16.3s\n",
            "392:\tlearn: 0.5744874\ttotal: 10.5s\tremaining: 16.2s\n",
            "393:\tlearn: 0.5743211\ttotal: 10.5s\tremaining: 16.2s\n",
            "394:\tlearn: 0.5742672\ttotal: 10.6s\tremaining: 16.2s\n",
            "395:\tlearn: 0.5740926\ttotal: 10.6s\tremaining: 16.2s\n",
            "396:\tlearn: 0.5740165\ttotal: 10.6s\tremaining: 16.1s\n",
            "397:\tlearn: 0.5739693\ttotal: 10.7s\tremaining: 16.1s\n",
            "398:\tlearn: 0.5738369\ttotal: 10.7s\tremaining: 16.1s\n",
            "399:\tlearn: 0.5736878\ttotal: 10.7s\tremaining: 16.1s\n",
            "400:\tlearn: 0.5736048\ttotal: 10.8s\tremaining: 16.1s\n",
            "401:\tlearn: 0.5735271\ttotal: 10.8s\tremaining: 16s\n",
            "402:\tlearn: 0.5731098\ttotal: 10.8s\tremaining: 16s\n",
            "403:\tlearn: 0.5729505\ttotal: 10.9s\tremaining: 16s\n",
            "404:\tlearn: 0.5728571\ttotal: 10.9s\tremaining: 16s\n",
            "405:\tlearn: 0.5727529\ttotal: 10.9s\tremaining: 16s\n",
            "406:\tlearn: 0.5726205\ttotal: 10.9s\tremaining: 16s\n",
            "407:\tlearn: 0.5724332\ttotal: 11s\tremaining: 15.9s\n",
            "408:\tlearn: 0.5723238\ttotal: 11s\tremaining: 15.9s\n",
            "409:\tlearn: 0.5722698\ttotal: 11s\tremaining: 15.9s\n",
            "410:\tlearn: 0.5721428\ttotal: 11.1s\tremaining: 15.9s\n",
            "411:\tlearn: 0.5719844\ttotal: 11.1s\tremaining: 15.8s\n",
            "412:\tlearn: 0.5719484\ttotal: 11.1s\tremaining: 15.8s\n",
            "413:\tlearn: 0.5718801\ttotal: 11.2s\tremaining: 15.8s\n",
            "414:\tlearn: 0.5718710\ttotal: 11.2s\tremaining: 15.8s\n",
            "415:\tlearn: 0.5717636\ttotal: 11.2s\tremaining: 15.8s\n",
            "416:\tlearn: 0.5717547\ttotal: 11.3s\tremaining: 15.7s\n",
            "417:\tlearn: 0.5717336\ttotal: 11.3s\tremaining: 15.7s\n",
            "418:\tlearn: 0.5715897\ttotal: 11.3s\tremaining: 15.7s\n",
            "419:\tlearn: 0.5715467\ttotal: 11.3s\tremaining: 15.7s\n",
            "420:\tlearn: 0.5715041\ttotal: 11.4s\tremaining: 15.6s\n",
            "421:\tlearn: 0.5714949\ttotal: 11.4s\tremaining: 15.6s\n",
            "422:\tlearn: 0.5713309\ttotal: 11.4s\tremaining: 15.6s\n",
            "423:\tlearn: 0.5708684\ttotal: 11.5s\tremaining: 15.6s\n",
            "424:\tlearn: 0.5708009\ttotal: 11.5s\tremaining: 15.6s\n",
            "425:\tlearn: 0.5707174\ttotal: 11.5s\tremaining: 15.5s\n",
            "426:\tlearn: 0.5705877\ttotal: 11.6s\tremaining: 15.5s\n",
            "427:\tlearn: 0.5705635\ttotal: 11.6s\tremaining: 15.5s\n",
            "428:\tlearn: 0.5705483\ttotal: 11.6s\tremaining: 15.5s\n",
            "429:\tlearn: 0.5704361\ttotal: 11.7s\tremaining: 15.4s\n",
            "430:\tlearn: 0.5703921\ttotal: 11.7s\tremaining: 15.4s\n",
            "431:\tlearn: 0.5701381\ttotal: 11.7s\tremaining: 15.4s\n",
            "432:\tlearn: 0.5700949\ttotal: 11.7s\tremaining: 15.4s\n",
            "433:\tlearn: 0.5698759\ttotal: 11.8s\tremaining: 15.4s\n",
            "434:\tlearn: 0.5697520\ttotal: 11.8s\tremaining: 15.3s\n",
            "435:\tlearn: 0.5696719\ttotal: 11.8s\tremaining: 15.3s\n",
            "436:\tlearn: 0.5695499\ttotal: 11.9s\tremaining: 15.3s\n",
            "437:\tlearn: 0.5693346\ttotal: 11.9s\tremaining: 15.3s\n",
            "438:\tlearn: 0.5691100\ttotal: 11.9s\tremaining: 15.3s\n",
            "439:\tlearn: 0.5690563\ttotal: 12s\tremaining: 15.2s\n",
            "440:\tlearn: 0.5688783\ttotal: 12s\tremaining: 15.2s\n",
            "441:\tlearn: 0.5687227\ttotal: 12s\tremaining: 15.2s\n",
            "442:\tlearn: 0.5686244\ttotal: 12.1s\tremaining: 15.2s\n",
            "443:\tlearn: 0.5684366\ttotal: 12.1s\tremaining: 15.2s\n",
            "444:\tlearn: 0.5683854\ttotal: 12.1s\tremaining: 15.1s\n",
            "445:\tlearn: 0.5680725\ttotal: 12.2s\tremaining: 15.1s\n",
            "446:\tlearn: 0.5679983\ttotal: 12.2s\tremaining: 15.1s\n",
            "447:\tlearn: 0.5679144\ttotal: 12.2s\tremaining: 15.1s\n",
            "448:\tlearn: 0.5678059\ttotal: 12.3s\tremaining: 15s\n",
            "449:\tlearn: 0.5676049\ttotal: 12.3s\tremaining: 15s\n",
            "450:\tlearn: 0.5672427\ttotal: 12.3s\tremaining: 15s\n",
            "451:\tlearn: 0.5670988\ttotal: 12.4s\tremaining: 15s\n",
            "452:\tlearn: 0.5668726\ttotal: 12.4s\tremaining: 15s\n",
            "453:\tlearn: 0.5667878\ttotal: 12.4s\tremaining: 14.9s\n",
            "454:\tlearn: 0.5667172\ttotal: 12.5s\tremaining: 14.9s\n",
            "455:\tlearn: 0.5666945\ttotal: 12.5s\tremaining: 14.9s\n",
            "456:\tlearn: 0.5666531\ttotal: 12.5s\tremaining: 14.9s\n",
            "457:\tlearn: 0.5664277\ttotal: 12.6s\tremaining: 14.9s\n",
            "458:\tlearn: 0.5662874\ttotal: 12.6s\tremaining: 14.8s\n",
            "459:\tlearn: 0.5661301\ttotal: 12.6s\tremaining: 14.8s\n",
            "460:\tlearn: 0.5660996\ttotal: 12.6s\tremaining: 14.8s\n",
            "461:\tlearn: 0.5659118\ttotal: 12.7s\tremaining: 14.8s\n",
            "462:\tlearn: 0.5656933\ttotal: 12.7s\tremaining: 14.7s\n",
            "463:\tlearn: 0.5656153\ttotal: 12.7s\tremaining: 14.7s\n",
            "464:\tlearn: 0.5655931\ttotal: 12.8s\tremaining: 14.7s\n",
            "465:\tlearn: 0.5655214\ttotal: 12.8s\tremaining: 14.7s\n",
            "466:\tlearn: 0.5652334\ttotal: 12.8s\tremaining: 14.7s\n",
            "467:\tlearn: 0.5652153\ttotal: 12.9s\tremaining: 14.6s\n",
            "468:\tlearn: 0.5648286\ttotal: 12.9s\tremaining: 14.6s\n",
            "469:\tlearn: 0.5646520\ttotal: 12.9s\tremaining: 14.6s\n",
            "470:\tlearn: 0.5645195\ttotal: 13s\tremaining: 14.6s\n",
            "471:\tlearn: 0.5643822\ttotal: 13s\tremaining: 14.5s\n",
            "472:\tlearn: 0.5643475\ttotal: 13s\tremaining: 14.5s\n",
            "473:\tlearn: 0.5642371\ttotal: 13.1s\tremaining: 14.5s\n",
            "474:\tlearn: 0.5641365\ttotal: 13.1s\tremaining: 14.5s\n",
            "475:\tlearn: 0.5639517\ttotal: 13.1s\tremaining: 14.4s\n",
            "476:\tlearn: 0.5635832\ttotal: 13.2s\tremaining: 14.4s\n",
            "477:\tlearn: 0.5635219\ttotal: 13.2s\tremaining: 14.4s\n",
            "478:\tlearn: 0.5634545\ttotal: 13.2s\tremaining: 14.4s\n",
            "479:\tlearn: 0.5634081\ttotal: 13.2s\tremaining: 14.3s\n",
            "480:\tlearn: 0.5633920\ttotal: 13.3s\tremaining: 14.3s\n",
            "481:\tlearn: 0.5633834\ttotal: 13.3s\tremaining: 14.3s\n",
            "482:\tlearn: 0.5633535\ttotal: 13.3s\tremaining: 14.3s\n",
            "483:\tlearn: 0.5631372\ttotal: 13.4s\tremaining: 14.3s\n",
            "484:\tlearn: 0.5629546\ttotal: 13.4s\tremaining: 14.2s\n",
            "485:\tlearn: 0.5628957\ttotal: 13.4s\tremaining: 14.2s\n",
            "486:\tlearn: 0.5628835\ttotal: 13.5s\tremaining: 14.2s\n",
            "487:\tlearn: 0.5628180\ttotal: 13.5s\tremaining: 14.2s\n",
            "488:\tlearn: 0.5626029\ttotal: 13.5s\tremaining: 14.1s\n",
            "489:\tlearn: 0.5625387\ttotal: 13.6s\tremaining: 14.1s\n",
            "490:\tlearn: 0.5623691\ttotal: 13.6s\tremaining: 14.1s\n",
            "491:\tlearn: 0.5622518\ttotal: 13.6s\tremaining: 14.1s\n",
            "492:\tlearn: 0.5622392\ttotal: 13.6s\tremaining: 14s\n",
            "493:\tlearn: 0.5620277\ttotal: 13.7s\tremaining: 14s\n",
            "494:\tlearn: 0.5618053\ttotal: 13.7s\tremaining: 14s\n",
            "495:\tlearn: 0.5616594\ttotal: 13.7s\tremaining: 14s\n",
            "496:\tlearn: 0.5615984\ttotal: 13.8s\tremaining: 13.9s\n",
            "497:\tlearn: 0.5614964\ttotal: 13.8s\tremaining: 13.9s\n",
            "498:\tlearn: 0.5613179\ttotal: 13.8s\tremaining: 13.9s\n",
            "499:\tlearn: 0.5611395\ttotal: 13.9s\tremaining: 13.9s\n",
            "500:\tlearn: 0.5610163\ttotal: 13.9s\tremaining: 13.8s\n",
            "501:\tlearn: 0.5609025\ttotal: 13.9s\tremaining: 13.8s\n",
            "502:\tlearn: 0.5606553\ttotal: 14s\tremaining: 13.8s\n",
            "503:\tlearn: 0.5605604\ttotal: 14s\tremaining: 13.8s\n",
            "504:\tlearn: 0.5605144\ttotal: 14s\tremaining: 13.8s\n",
            "505:\tlearn: 0.5604476\ttotal: 14.1s\tremaining: 13.7s\n",
            "506:\tlearn: 0.5604204\ttotal: 14.1s\tremaining: 13.7s\n",
            "507:\tlearn: 0.5603944\ttotal: 14.1s\tremaining: 13.7s\n",
            "508:\tlearn: 0.5603297\ttotal: 14.2s\tremaining: 13.7s\n",
            "509:\tlearn: 0.5601371\ttotal: 14.2s\tremaining: 13.6s\n",
            "510:\tlearn: 0.5600986\ttotal: 14.2s\tremaining: 13.6s\n",
            "511:\tlearn: 0.5598203\ttotal: 14.3s\tremaining: 13.6s\n",
            "512:\tlearn: 0.5597885\ttotal: 14.3s\tremaining: 13.6s\n",
            "513:\tlearn: 0.5597755\ttotal: 14.3s\tremaining: 13.5s\n",
            "514:\tlearn: 0.5596046\ttotal: 14.3s\tremaining: 13.5s\n",
            "515:\tlearn: 0.5595759\ttotal: 14.4s\tremaining: 13.5s\n",
            "516:\tlearn: 0.5594896\ttotal: 14.4s\tremaining: 13.5s\n",
            "517:\tlearn: 0.5593182\ttotal: 14.4s\tremaining: 13.4s\n",
            "518:\tlearn: 0.5592867\ttotal: 14.5s\tremaining: 13.4s\n",
            "519:\tlearn: 0.5590449\ttotal: 14.5s\tremaining: 13.4s\n",
            "520:\tlearn: 0.5589083\ttotal: 14.5s\tremaining: 13.4s\n",
            "521:\tlearn: 0.5588673\ttotal: 14.6s\tremaining: 13.3s\n",
            "522:\tlearn: 0.5586361\ttotal: 14.6s\tremaining: 13.3s\n",
            "523:\tlearn: 0.5584123\ttotal: 14.6s\tremaining: 13.3s\n",
            "524:\tlearn: 0.5583098\ttotal: 14.7s\tremaining: 13.3s\n",
            "525:\tlearn: 0.5582421\ttotal: 14.7s\tremaining: 13.2s\n",
            "526:\tlearn: 0.5581727\ttotal: 14.7s\tremaining: 13.2s\n",
            "527:\tlearn: 0.5581404\ttotal: 14.8s\tremaining: 13.2s\n",
            "528:\tlearn: 0.5580799\ttotal: 14.8s\tremaining: 13.2s\n",
            "529:\tlearn: 0.5578984\ttotal: 14.8s\tremaining: 13.1s\n",
            "530:\tlearn: 0.5578416\ttotal: 14.8s\tremaining: 13.1s\n",
            "531:\tlearn: 0.5576812\ttotal: 14.9s\tremaining: 13.1s\n",
            "532:\tlearn: 0.5575664\ttotal: 14.9s\tremaining: 13.1s\n",
            "533:\tlearn: 0.5574841\ttotal: 14.9s\tremaining: 13s\n",
            "534:\tlearn: 0.5574705\ttotal: 15s\tremaining: 13s\n",
            "535:\tlearn: 0.5573020\ttotal: 15s\tremaining: 13s\n",
            "536:\tlearn: 0.5572433\ttotal: 15s\tremaining: 13s\n",
            "537:\tlearn: 0.5571082\ttotal: 15.1s\tremaining: 12.9s\n",
            "538:\tlearn: 0.5570949\ttotal: 15.1s\tremaining: 12.9s\n",
            "539:\tlearn: 0.5570886\ttotal: 15.1s\tremaining: 12.9s\n",
            "540:\tlearn: 0.5570431\ttotal: 15.2s\tremaining: 12.9s\n",
            "541:\tlearn: 0.5566735\ttotal: 15.2s\tremaining: 12.8s\n",
            "542:\tlearn: 0.5563557\ttotal: 15.2s\tremaining: 12.8s\n",
            "543:\tlearn: 0.5562805\ttotal: 15.3s\tremaining: 12.8s\n",
            "544:\tlearn: 0.5561473\ttotal: 15.3s\tremaining: 12.8s\n",
            "545:\tlearn: 0.5560278\ttotal: 15.3s\tremaining: 12.7s\n",
            "546:\tlearn: 0.5556485\ttotal: 15.4s\tremaining: 12.7s\n",
            "547:\tlearn: 0.5555016\ttotal: 15.4s\tremaining: 12.7s\n",
            "548:\tlearn: 0.5554535\ttotal: 15.4s\tremaining: 12.7s\n",
            "549:\tlearn: 0.5553392\ttotal: 15.4s\tremaining: 12.6s\n",
            "550:\tlearn: 0.5553333\ttotal: 15.5s\tremaining: 12.6s\n",
            "551:\tlearn: 0.5552494\ttotal: 15.5s\tremaining: 12.6s\n",
            "552:\tlearn: 0.5551261\ttotal: 15.5s\tremaining: 12.6s\n",
            "553:\tlearn: 0.5551106\ttotal: 15.6s\tremaining: 12.5s\n",
            "554:\tlearn: 0.5550090\ttotal: 15.6s\tremaining: 12.5s\n",
            "555:\tlearn: 0.5547310\ttotal: 15.6s\tremaining: 12.5s\n",
            "556:\tlearn: 0.5546315\ttotal: 15.7s\tremaining: 12.5s\n",
            "557:\tlearn: 0.5546061\ttotal: 15.7s\tremaining: 12.4s\n",
            "558:\tlearn: 0.5544611\ttotal: 15.7s\tremaining: 12.4s\n",
            "559:\tlearn: 0.5542967\ttotal: 15.8s\tremaining: 12.4s\n",
            "560:\tlearn: 0.5539478\ttotal: 15.8s\tremaining: 12.4s\n",
            "561:\tlearn: 0.5538726\ttotal: 15.8s\tremaining: 12.3s\n",
            "562:\tlearn: 0.5536367\ttotal: 15.8s\tremaining: 12.3s\n",
            "563:\tlearn: 0.5535596\ttotal: 15.9s\tremaining: 12.3s\n",
            "564:\tlearn: 0.5534891\ttotal: 15.9s\tremaining: 12.2s\n",
            "565:\tlearn: 0.5533774\ttotal: 15.9s\tremaining: 12.2s\n",
            "566:\tlearn: 0.5532789\ttotal: 16s\tremaining: 12.2s\n",
            "567:\tlearn: 0.5531930\ttotal: 16s\tremaining: 12.2s\n",
            "568:\tlearn: 0.5531626\ttotal: 16s\tremaining: 12.1s\n",
            "569:\tlearn: 0.5531545\ttotal: 16.1s\tremaining: 12.1s\n",
            "570:\tlearn: 0.5531058\ttotal: 16.1s\tremaining: 12.1s\n",
            "571:\tlearn: 0.5529927\ttotal: 16.1s\tremaining: 12.1s\n",
            "572:\tlearn: 0.5527275\ttotal: 16.2s\tremaining: 12s\n",
            "573:\tlearn: 0.5526957\ttotal: 16.2s\tremaining: 12s\n",
            "574:\tlearn: 0.5526763\ttotal: 16.2s\tremaining: 12s\n",
            "575:\tlearn: 0.5526445\ttotal: 16.3s\tremaining: 12s\n",
            "576:\tlearn: 0.5526245\ttotal: 16.3s\tremaining: 11.9s\n",
            "577:\tlearn: 0.5524627\ttotal: 16.3s\tremaining: 11.9s\n",
            "578:\tlearn: 0.5524210\ttotal: 16.3s\tremaining: 11.9s\n",
            "579:\tlearn: 0.5523909\ttotal: 16.4s\tremaining: 11.9s\n",
            "580:\tlearn: 0.5522731\ttotal: 16.4s\tremaining: 11.8s\n",
            "581:\tlearn: 0.5522493\ttotal: 16.4s\tremaining: 11.8s\n",
            "582:\tlearn: 0.5522420\ttotal: 16.5s\tremaining: 11.8s\n",
            "583:\tlearn: 0.5522307\ttotal: 16.5s\tremaining: 11.8s\n",
            "584:\tlearn: 0.5521940\ttotal: 16.5s\tremaining: 11.7s\n",
            "585:\tlearn: 0.5521755\ttotal: 16.6s\tremaining: 11.7s\n",
            "586:\tlearn: 0.5521583\ttotal: 16.6s\tremaining: 11.7s\n",
            "587:\tlearn: 0.5520234\ttotal: 16.6s\tremaining: 11.7s\n",
            "588:\tlearn: 0.5520061\ttotal: 16.7s\tremaining: 11.6s\n",
            "589:\tlearn: 0.5519536\ttotal: 16.7s\tremaining: 11.6s\n",
            "590:\tlearn: 0.5518676\ttotal: 16.7s\tremaining: 11.6s\n",
            "591:\tlearn: 0.5518581\ttotal: 16.8s\tremaining: 11.6s\n",
            "592:\tlearn: 0.5517341\ttotal: 16.8s\tremaining: 11.5s\n",
            "593:\tlearn: 0.5517259\ttotal: 16.8s\tremaining: 11.5s\n",
            "594:\tlearn: 0.5516431\ttotal: 16.9s\tremaining: 11.5s\n",
            "595:\tlearn: 0.5515698\ttotal: 16.9s\tremaining: 11.4s\n",
            "596:\tlearn: 0.5515553\ttotal: 16.9s\tremaining: 11.4s\n",
            "597:\tlearn: 0.5515169\ttotal: 16.9s\tremaining: 11.4s\n",
            "598:\tlearn: 0.5515113\ttotal: 17s\tremaining: 11.4s\n",
            "599:\tlearn: 0.5514789\ttotal: 17s\tremaining: 11.3s\n",
            "600:\tlearn: 0.5514402\ttotal: 17s\tremaining: 11.3s\n",
            "601:\tlearn: 0.5514118\ttotal: 17.1s\tremaining: 11.3s\n",
            "602:\tlearn: 0.5512608\ttotal: 17.1s\tremaining: 11.3s\n",
            "603:\tlearn: 0.5511487\ttotal: 17.1s\tremaining: 11.2s\n",
            "604:\tlearn: 0.5510348\ttotal: 17.2s\tremaining: 11.2s\n",
            "605:\tlearn: 0.5509518\ttotal: 17.2s\tremaining: 11.2s\n",
            "606:\tlearn: 0.5508250\ttotal: 17.2s\tremaining: 11.2s\n",
            "607:\tlearn: 0.5506458\ttotal: 17.3s\tremaining: 11.1s\n",
            "608:\tlearn: 0.5506105\ttotal: 17.3s\tremaining: 11.1s\n",
            "609:\tlearn: 0.5505943\ttotal: 17.3s\tremaining: 11.1s\n",
            "610:\tlearn: 0.5505403\ttotal: 17.4s\tremaining: 11s\n",
            "611:\tlearn: 0.5504718\ttotal: 17.4s\tremaining: 11s\n",
            "612:\tlearn: 0.5503547\ttotal: 17.4s\tremaining: 11s\n",
            "613:\tlearn: 0.5503426\ttotal: 17.4s\tremaining: 11s\n",
            "614:\tlearn: 0.5503368\ttotal: 17.5s\tremaining: 10.9s\n",
            "615:\tlearn: 0.5501408\ttotal: 17.5s\tremaining: 10.9s\n",
            "616:\tlearn: 0.5496217\ttotal: 17.5s\tremaining: 10.9s\n",
            "617:\tlearn: 0.5495896\ttotal: 17.6s\tremaining: 10.9s\n",
            "618:\tlearn: 0.5493490\ttotal: 17.6s\tremaining: 10.8s\n",
            "619:\tlearn: 0.5492382\ttotal: 17.6s\tremaining: 10.8s\n",
            "620:\tlearn: 0.5491434\ttotal: 17.7s\tremaining: 10.8s\n",
            "621:\tlearn: 0.5490604\ttotal: 17.7s\tremaining: 10.8s\n",
            "622:\tlearn: 0.5490184\ttotal: 17.8s\tremaining: 10.7s\n",
            "623:\tlearn: 0.5488380\ttotal: 17.8s\tremaining: 10.7s\n",
            "624:\tlearn: 0.5488252\ttotal: 17.8s\tremaining: 10.7s\n",
            "625:\tlearn: 0.5488099\ttotal: 17.9s\tremaining: 10.7s\n",
            "626:\tlearn: 0.5488026\ttotal: 17.9s\tremaining: 10.7s\n",
            "627:\tlearn: 0.5487686\ttotal: 18s\tremaining: 10.6s\n",
            "628:\tlearn: 0.5486969\ttotal: 18s\tremaining: 10.6s\n",
            "629:\tlearn: 0.5484821\ttotal: 18s\tremaining: 10.6s\n",
            "630:\tlearn: 0.5483984\ttotal: 18s\tremaining: 10.6s\n",
            "631:\tlearn: 0.5482322\ttotal: 18.1s\tremaining: 10.5s\n",
            "632:\tlearn: 0.5481887\ttotal: 18.1s\tremaining: 10.5s\n",
            "633:\tlearn: 0.5479727\ttotal: 18.1s\tremaining: 10.5s\n",
            "634:\tlearn: 0.5477789\ttotal: 18.2s\tremaining: 10.4s\n",
            "635:\tlearn: 0.5473839\ttotal: 18.2s\tremaining: 10.4s\n",
            "636:\tlearn: 0.5472536\ttotal: 18.2s\tremaining: 10.4s\n",
            "637:\tlearn: 0.5470145\ttotal: 18.3s\tremaining: 10.4s\n",
            "638:\tlearn: 0.5468289\ttotal: 18.3s\tremaining: 10.3s\n",
            "639:\tlearn: 0.5466941\ttotal: 18.3s\tremaining: 10.3s\n",
            "640:\tlearn: 0.5466774\ttotal: 18.4s\tremaining: 10.3s\n",
            "641:\tlearn: 0.5464032\ttotal: 18.4s\tremaining: 10.3s\n",
            "642:\tlearn: 0.5462937\ttotal: 18.4s\tremaining: 10.2s\n",
            "643:\tlearn: 0.5461361\ttotal: 18.5s\tremaining: 10.2s\n",
            "644:\tlearn: 0.5458049\ttotal: 18.5s\tremaining: 10.2s\n",
            "645:\tlearn: 0.5457068\ttotal: 18.6s\tremaining: 10.2s\n",
            "646:\tlearn: 0.5456842\ttotal: 18.6s\tremaining: 10.2s\n",
            "647:\tlearn: 0.5455600\ttotal: 18.7s\tremaining: 10.1s\n",
            "648:\tlearn: 0.5454087\ttotal: 18.7s\tremaining: 10.1s\n",
            "649:\tlearn: 0.5453969\ttotal: 18.7s\tremaining: 10.1s\n",
            "650:\tlearn: 0.5453092\ttotal: 18.8s\tremaining: 10.1s\n",
            "651:\tlearn: 0.5451160\ttotal: 18.8s\tremaining: 10s\n",
            "652:\tlearn: 0.5448934\ttotal: 18.8s\tremaining: 10s\n",
            "653:\tlearn: 0.5448859\ttotal: 18.9s\tremaining: 9.98s\n",
            "654:\tlearn: 0.5448563\ttotal: 18.9s\tremaining: 9.95s\n",
            "655:\tlearn: 0.5447500\ttotal: 18.9s\tremaining: 9.92s\n",
            "656:\tlearn: 0.5447344\ttotal: 18.9s\tremaining: 9.89s\n",
            "657:\tlearn: 0.5447280\ttotal: 19s\tremaining: 9.86s\n",
            "658:\tlearn: 0.5446809\ttotal: 19s\tremaining: 9.83s\n",
            "659:\tlearn: 0.5445909\ttotal: 19s\tremaining: 9.81s\n",
            "660:\tlearn: 0.5444071\ttotal: 19.1s\tremaining: 9.78s\n",
            "661:\tlearn: 0.5443846\ttotal: 19.1s\tremaining: 9.75s\n",
            "662:\tlearn: 0.5443266\ttotal: 19.1s\tremaining: 9.73s\n",
            "663:\tlearn: 0.5442567\ttotal: 19.2s\tremaining: 9.7s\n",
            "664:\tlearn: 0.5441914\ttotal: 19.2s\tremaining: 9.67s\n",
            "665:\tlearn: 0.5441177\ttotal: 19.2s\tremaining: 9.64s\n",
            "666:\tlearn: 0.5440394\ttotal: 19.3s\tremaining: 9.62s\n",
            "667:\tlearn: 0.5439709\ttotal: 19.3s\tremaining: 9.59s\n",
            "668:\tlearn: 0.5439649\ttotal: 19.3s\tremaining: 9.56s\n",
            "669:\tlearn: 0.5439033\ttotal: 19.4s\tremaining: 9.53s\n",
            "670:\tlearn: 0.5437043\ttotal: 19.4s\tremaining: 9.5s\n",
            "671:\tlearn: 0.5436149\ttotal: 19.4s\tremaining: 9.47s\n",
            "672:\tlearn: 0.5434485\ttotal: 19.4s\tremaining: 9.45s\n",
            "673:\tlearn: 0.5434223\ttotal: 19.5s\tremaining: 9.42s\n",
            "674:\tlearn: 0.5433908\ttotal: 19.5s\tremaining: 9.39s\n",
            "675:\tlearn: 0.5432751\ttotal: 19.5s\tremaining: 9.36s\n",
            "676:\tlearn: 0.5432464\ttotal: 19.6s\tremaining: 9.34s\n",
            "677:\tlearn: 0.5432072\ttotal: 19.6s\tremaining: 9.31s\n",
            "678:\tlearn: 0.5431049\ttotal: 19.6s\tremaining: 9.28s\n",
            "679:\tlearn: 0.5428781\ttotal: 19.7s\tremaining: 9.26s\n",
            "680:\tlearn: 0.5427909\ttotal: 19.7s\tremaining: 9.23s\n",
            "681:\tlearn: 0.5425462\ttotal: 19.7s\tremaining: 9.2s\n",
            "682:\tlearn: 0.5425322\ttotal: 19.8s\tremaining: 9.17s\n",
            "683:\tlearn: 0.5424800\ttotal: 19.8s\tremaining: 9.15s\n",
            "684:\tlearn: 0.5422724\ttotal: 19.8s\tremaining: 9.12s\n",
            "685:\tlearn: 0.5422150\ttotal: 19.9s\tremaining: 9.09s\n",
            "686:\tlearn: 0.5422066\ttotal: 19.9s\tremaining: 9.06s\n",
            "687:\tlearn: 0.5421994\ttotal: 19.9s\tremaining: 9.03s\n",
            "688:\tlearn: 0.5421756\ttotal: 20s\tremaining: 9.01s\n",
            "689:\tlearn: 0.5421180\ttotal: 20s\tremaining: 8.98s\n",
            "690:\tlearn: 0.5418284\ttotal: 20s\tremaining: 8.95s\n",
            "691:\tlearn: 0.5416802\ttotal: 20s\tremaining: 8.92s\n",
            "692:\tlearn: 0.5415315\ttotal: 20.1s\tremaining: 8.89s\n",
            "693:\tlearn: 0.5413219\ttotal: 20.1s\tremaining: 8.87s\n",
            "694:\tlearn: 0.5412745\ttotal: 20.1s\tremaining: 8.84s\n",
            "695:\tlearn: 0.5410151\ttotal: 20.2s\tremaining: 8.81s\n",
            "696:\tlearn: 0.5406854\ttotal: 20.2s\tremaining: 8.79s\n",
            "697:\tlearn: 0.5405571\ttotal: 20.2s\tremaining: 8.76s\n",
            "698:\tlearn: 0.5403550\ttotal: 20.3s\tremaining: 8.73s\n",
            "699:\tlearn: 0.5403346\ttotal: 20.3s\tremaining: 8.7s\n",
            "700:\tlearn: 0.5402179\ttotal: 20.3s\tremaining: 8.68s\n",
            "701:\tlearn: 0.5401068\ttotal: 20.4s\tremaining: 8.65s\n",
            "702:\tlearn: 0.5396041\ttotal: 20.4s\tremaining: 8.62s\n",
            "703:\tlearn: 0.5394047\ttotal: 20.4s\tremaining: 8.6s\n",
            "704:\tlearn: 0.5392710\ttotal: 20.5s\tremaining: 8.57s\n",
            "705:\tlearn: 0.5391645\ttotal: 20.5s\tremaining: 8.54s\n",
            "706:\tlearn: 0.5390492\ttotal: 20.5s\tremaining: 8.51s\n",
            "707:\tlearn: 0.5390005\ttotal: 20.6s\tremaining: 8.49s\n",
            "708:\tlearn: 0.5388021\ttotal: 20.6s\tremaining: 8.46s\n",
            "709:\tlearn: 0.5386836\ttotal: 20.6s\tremaining: 8.43s\n",
            "710:\tlearn: 0.5386647\ttotal: 20.7s\tremaining: 8.4s\n",
            "711:\tlearn: 0.5386475\ttotal: 20.7s\tremaining: 8.38s\n",
            "712:\tlearn: 0.5385625\ttotal: 20.7s\tremaining: 8.35s\n",
            "713:\tlearn: 0.5384605\ttotal: 20.8s\tremaining: 8.32s\n",
            "714:\tlearn: 0.5383623\ttotal: 20.8s\tremaining: 8.29s\n",
            "715:\tlearn: 0.5383209\ttotal: 20.8s\tremaining: 8.26s\n",
            "716:\tlearn: 0.5381577\ttotal: 20.9s\tremaining: 8.23s\n",
            "717:\tlearn: 0.5380603\ttotal: 20.9s\tremaining: 8.21s\n",
            "718:\tlearn: 0.5377965\ttotal: 20.9s\tremaining: 8.18s\n",
            "719:\tlearn: 0.5377078\ttotal: 21s\tremaining: 8.15s\n",
            "720:\tlearn: 0.5373190\ttotal: 21s\tremaining: 8.12s\n",
            "721:\tlearn: 0.5372711\ttotal: 21s\tremaining: 8.1s\n",
            "722:\tlearn: 0.5370823\ttotal: 21.1s\tremaining: 8.07s\n",
            "723:\tlearn: 0.5369961\ttotal: 21.1s\tremaining: 8.04s\n",
            "724:\tlearn: 0.5368981\ttotal: 21.1s\tremaining: 8.01s\n",
            "725:\tlearn: 0.5368649\ttotal: 21.1s\tremaining: 7.98s\n",
            "726:\tlearn: 0.5367461\ttotal: 21.2s\tremaining: 7.95s\n",
            "727:\tlearn: 0.5365097\ttotal: 21.2s\tremaining: 7.92s\n",
            "728:\tlearn: 0.5364184\ttotal: 21.2s\tremaining: 7.9s\n",
            "729:\tlearn: 0.5361563\ttotal: 21.3s\tremaining: 7.87s\n",
            "730:\tlearn: 0.5361313\ttotal: 21.3s\tremaining: 7.84s\n",
            "731:\tlearn: 0.5360319\ttotal: 21.3s\tremaining: 7.81s\n",
            "732:\tlearn: 0.5359222\ttotal: 21.4s\tremaining: 7.78s\n",
            "733:\tlearn: 0.5358314\ttotal: 21.4s\tremaining: 7.75s\n",
            "734:\tlearn: 0.5358188\ttotal: 21.4s\tremaining: 7.72s\n",
            "735:\tlearn: 0.5357480\ttotal: 21.5s\tremaining: 7.7s\n",
            "736:\tlearn: 0.5356718\ttotal: 21.5s\tremaining: 7.67s\n",
            "737:\tlearn: 0.5356025\ttotal: 21.5s\tremaining: 7.64s\n",
            "738:\tlearn: 0.5353713\ttotal: 21.6s\tremaining: 7.61s\n",
            "739:\tlearn: 0.5353379\ttotal: 21.6s\tremaining: 7.58s\n",
            "740:\tlearn: 0.5352330\ttotal: 21.6s\tremaining: 7.55s\n",
            "741:\tlearn: 0.5351197\ttotal: 21.6s\tremaining: 7.53s\n",
            "742:\tlearn: 0.5350560\ttotal: 21.7s\tremaining: 7.5s\n",
            "743:\tlearn: 0.5349727\ttotal: 21.7s\tremaining: 7.47s\n",
            "744:\tlearn: 0.5348666\ttotal: 21.8s\tremaining: 7.44s\n",
            "745:\tlearn: 0.5347653\ttotal: 21.8s\tremaining: 7.42s\n",
            "746:\tlearn: 0.5346574\ttotal: 21.8s\tremaining: 7.39s\n",
            "747:\tlearn: 0.5346171\ttotal: 21.8s\tremaining: 7.36s\n",
            "748:\tlearn: 0.5344403\ttotal: 21.9s\tremaining: 7.33s\n",
            "749:\tlearn: 0.5343656\ttotal: 21.9s\tremaining: 7.3s\n",
            "750:\tlearn: 0.5342809\ttotal: 21.9s\tremaining: 7.28s\n",
            "751:\tlearn: 0.5341626\ttotal: 22s\tremaining: 7.25s\n",
            "752:\tlearn: 0.5341012\ttotal: 22s\tremaining: 7.22s\n",
            "753:\tlearn: 0.5339483\ttotal: 22s\tremaining: 7.19s\n",
            "754:\tlearn: 0.5338863\ttotal: 22.1s\tremaining: 7.16s\n",
            "755:\tlearn: 0.5337046\ttotal: 22.1s\tremaining: 7.13s\n",
            "756:\tlearn: 0.5336229\ttotal: 22.1s\tremaining: 7.1s\n",
            "757:\tlearn: 0.5333789\ttotal: 22.2s\tremaining: 7.08s\n",
            "758:\tlearn: 0.5333728\ttotal: 22.2s\tremaining: 7.05s\n",
            "759:\tlearn: 0.5333128\ttotal: 22.2s\tremaining: 7.02s\n",
            "760:\tlearn: 0.5331752\ttotal: 22.3s\tremaining: 6.99s\n",
            "761:\tlearn: 0.5331239\ttotal: 22.3s\tremaining: 6.96s\n",
            "762:\tlearn: 0.5331096\ttotal: 22.3s\tremaining: 6.93s\n",
            "763:\tlearn: 0.5329171\ttotal: 22.3s\tremaining: 6.9s\n",
            "764:\tlearn: 0.5328802\ttotal: 22.4s\tremaining: 6.88s\n",
            "765:\tlearn: 0.5327594\ttotal: 22.4s\tremaining: 6.85s\n",
            "766:\tlearn: 0.5326903\ttotal: 22.4s\tremaining: 6.82s\n",
            "767:\tlearn: 0.5326179\ttotal: 22.5s\tremaining: 6.79s\n",
            "768:\tlearn: 0.5326120\ttotal: 22.5s\tremaining: 6.76s\n",
            "769:\tlearn: 0.5326063\ttotal: 22.5s\tremaining: 6.73s\n",
            "770:\tlearn: 0.5324113\ttotal: 22.6s\tremaining: 6.7s\n",
            "771:\tlearn: 0.5321211\ttotal: 22.6s\tremaining: 6.67s\n",
            "772:\tlearn: 0.5319840\ttotal: 22.6s\tremaining: 6.65s\n",
            "773:\tlearn: 0.5318327\ttotal: 22.7s\tremaining: 6.62s\n",
            "774:\tlearn: 0.5316847\ttotal: 22.7s\tremaining: 6.59s\n",
            "775:\tlearn: 0.5316560\ttotal: 22.7s\tremaining: 6.56s\n",
            "776:\tlearn: 0.5316451\ttotal: 22.8s\tremaining: 6.53s\n",
            "777:\tlearn: 0.5314030\ttotal: 22.8s\tremaining: 6.5s\n",
            "778:\tlearn: 0.5312280\ttotal: 22.8s\tremaining: 6.48s\n",
            "779:\tlearn: 0.5310784\ttotal: 22.9s\tremaining: 6.45s\n",
            "780:\tlearn: 0.5310499\ttotal: 22.9s\tremaining: 6.42s\n",
            "781:\tlearn: 0.5309014\ttotal: 22.9s\tremaining: 6.39s\n",
            "782:\tlearn: 0.5308525\ttotal: 23s\tremaining: 6.36s\n",
            "783:\tlearn: 0.5308366\ttotal: 23s\tremaining: 6.33s\n",
            "784:\tlearn: 0.5306883\ttotal: 23s\tremaining: 6.3s\n",
            "785:\tlearn: 0.5305850\ttotal: 23s\tremaining: 6.27s\n",
            "786:\tlearn: 0.5302755\ttotal: 23.1s\tremaining: 6.25s\n",
            "787:\tlearn: 0.5301760\ttotal: 23.1s\tremaining: 6.22s\n",
            "788:\tlearn: 0.5300332\ttotal: 23.1s\tremaining: 6.19s\n",
            "789:\tlearn: 0.5297240\ttotal: 23.2s\tremaining: 6.16s\n",
            "790:\tlearn: 0.5295604\ttotal: 23.2s\tremaining: 6.13s\n",
            "791:\tlearn: 0.5293798\ttotal: 23.2s\tremaining: 6.1s\n",
            "792:\tlearn: 0.5291994\ttotal: 23.3s\tremaining: 6.08s\n",
            "793:\tlearn: 0.5290718\ttotal: 23.3s\tremaining: 6.05s\n",
            "794:\tlearn: 0.5289242\ttotal: 23.3s\tremaining: 6.02s\n",
            "795:\tlearn: 0.5288531\ttotal: 23.4s\tremaining: 5.99s\n",
            "796:\tlearn: 0.5288242\ttotal: 23.4s\tremaining: 5.96s\n",
            "797:\tlearn: 0.5286948\ttotal: 23.4s\tremaining: 5.93s\n",
            "798:\tlearn: 0.5286564\ttotal: 23.5s\tremaining: 5.9s\n",
            "799:\tlearn: 0.5286428\ttotal: 23.5s\tremaining: 5.87s\n",
            "800:\tlearn: 0.5285747\ttotal: 23.5s\tremaining: 5.84s\n",
            "801:\tlearn: 0.5285508\ttotal: 23.6s\tremaining: 5.81s\n",
            "802:\tlearn: 0.5285251\ttotal: 23.6s\tremaining: 5.78s\n",
            "803:\tlearn: 0.5282699\ttotal: 23.6s\tremaining: 5.76s\n",
            "804:\tlearn: 0.5281951\ttotal: 23.6s\tremaining: 5.73s\n",
            "805:\tlearn: 0.5279600\ttotal: 23.7s\tremaining: 5.7s\n",
            "806:\tlearn: 0.5277475\ttotal: 23.7s\tremaining: 5.67s\n",
            "807:\tlearn: 0.5276799\ttotal: 23.7s\tremaining: 5.64s\n",
            "808:\tlearn: 0.5276588\ttotal: 23.8s\tremaining: 5.61s\n",
            "809:\tlearn: 0.5276174\ttotal: 23.8s\tremaining: 5.58s\n",
            "810:\tlearn: 0.5274255\ttotal: 23.8s\tremaining: 5.55s\n",
            "811:\tlearn: 0.5271241\ttotal: 23.9s\tremaining: 5.53s\n",
            "812:\tlearn: 0.5270631\ttotal: 23.9s\tremaining: 5.5s\n",
            "813:\tlearn: 0.5269347\ttotal: 23.9s\tremaining: 5.47s\n",
            "814:\tlearn: 0.5267567\ttotal: 24s\tremaining: 5.46s\n",
            "815:\tlearn: 0.5267161\ttotal: 24.1s\tremaining: 5.43s\n",
            "816:\tlearn: 0.5266118\ttotal: 24.1s\tremaining: 5.4s\n",
            "817:\tlearn: 0.5264938\ttotal: 24.2s\tremaining: 5.37s\n",
            "818:\tlearn: 0.5264395\ttotal: 24.2s\tremaining: 5.34s\n",
            "819:\tlearn: 0.5263949\ttotal: 24.2s\tremaining: 5.32s\n",
            "820:\tlearn: 0.5263670\ttotal: 24.2s\tremaining: 5.29s\n",
            "821:\tlearn: 0.5262527\ttotal: 24.3s\tremaining: 5.26s\n",
            "822:\tlearn: 0.5262288\ttotal: 24.3s\tremaining: 5.23s\n",
            "823:\tlearn: 0.5261906\ttotal: 24.3s\tremaining: 5.2s\n",
            "824:\tlearn: 0.5260215\ttotal: 24.4s\tremaining: 5.17s\n",
            "825:\tlearn: 0.5259719\ttotal: 24.4s\tremaining: 5.14s\n",
            "826:\tlearn: 0.5258033\ttotal: 24.4s\tremaining: 5.11s\n",
            "827:\tlearn: 0.5256834\ttotal: 24.5s\tremaining: 5.08s\n",
            "828:\tlearn: 0.5255065\ttotal: 24.5s\tremaining: 5.05s\n",
            "829:\tlearn: 0.5253797\ttotal: 24.5s\tremaining: 5.02s\n",
            "830:\tlearn: 0.5253747\ttotal: 24.6s\tremaining: 5s\n",
            "831:\tlearn: 0.5253395\ttotal: 24.6s\tremaining: 4.97s\n",
            "832:\tlearn: 0.5251921\ttotal: 24.6s\tremaining: 4.94s\n",
            "833:\tlearn: 0.5250490\ttotal: 24.7s\tremaining: 4.91s\n",
            "834:\tlearn: 0.5249758\ttotal: 24.7s\tremaining: 4.88s\n",
            "835:\tlearn: 0.5248667\ttotal: 24.7s\tremaining: 4.85s\n",
            "836:\tlearn: 0.5247847\ttotal: 24.8s\tremaining: 4.82s\n",
            "837:\tlearn: 0.5246331\ttotal: 24.8s\tremaining: 4.79s\n",
            "838:\tlearn: 0.5245437\ttotal: 24.8s\tremaining: 4.76s\n",
            "839:\tlearn: 0.5244123\ttotal: 24.9s\tremaining: 4.73s\n",
            "840:\tlearn: 0.5243300\ttotal: 24.9s\tremaining: 4.7s\n",
            "841:\tlearn: 0.5242303\ttotal: 24.9s\tremaining: 4.67s\n",
            "842:\tlearn: 0.5240648\ttotal: 25s\tremaining: 4.65s\n",
            "843:\tlearn: 0.5239932\ttotal: 25s\tremaining: 4.62s\n",
            "844:\tlearn: 0.5239526\ttotal: 25s\tremaining: 4.59s\n",
            "845:\tlearn: 0.5239297\ttotal: 25s\tremaining: 4.56s\n",
            "846:\tlearn: 0.5237725\ttotal: 25.1s\tremaining: 4.53s\n",
            "847:\tlearn: 0.5237437\ttotal: 25.1s\tremaining: 4.5s\n",
            "848:\tlearn: 0.5237237\ttotal: 25.1s\tremaining: 4.47s\n",
            "849:\tlearn: 0.5237013\ttotal: 25.2s\tremaining: 4.44s\n",
            "850:\tlearn: 0.5232143\ttotal: 25.2s\tremaining: 4.41s\n",
            "851:\tlearn: 0.5231290\ttotal: 25.2s\tremaining: 4.38s\n",
            "852:\tlearn: 0.5229526\ttotal: 25.3s\tremaining: 4.36s\n",
            "853:\tlearn: 0.5226801\ttotal: 25.3s\tremaining: 4.33s\n",
            "854:\tlearn: 0.5226265\ttotal: 25.3s\tremaining: 4.3s\n",
            "855:\tlearn: 0.5225672\ttotal: 25.4s\tremaining: 4.27s\n",
            "856:\tlearn: 0.5223138\ttotal: 25.4s\tremaining: 4.24s\n",
            "857:\tlearn: 0.5222687\ttotal: 25.4s\tremaining: 4.21s\n",
            "858:\tlearn: 0.5219755\ttotal: 25.5s\tremaining: 4.18s\n",
            "859:\tlearn: 0.5218056\ttotal: 25.5s\tremaining: 4.15s\n",
            "860:\tlearn: 0.5217453\ttotal: 25.5s\tremaining: 4.12s\n",
            "861:\tlearn: 0.5216393\ttotal: 25.6s\tremaining: 4.09s\n",
            "862:\tlearn: 0.5215663\ttotal: 25.6s\tremaining: 4.06s\n",
            "863:\tlearn: 0.5214783\ttotal: 25.6s\tremaining: 4.03s\n",
            "864:\tlearn: 0.5211593\ttotal: 25.7s\tremaining: 4s\n",
            "865:\tlearn: 0.5208336\ttotal: 25.7s\tremaining: 3.98s\n",
            "866:\tlearn: 0.5206600\ttotal: 25.7s\tremaining: 3.95s\n",
            "867:\tlearn: 0.5206317\ttotal: 25.8s\tremaining: 3.92s\n",
            "868:\tlearn: 0.5206047\ttotal: 25.8s\tremaining: 3.89s\n",
            "869:\tlearn: 0.5204732\ttotal: 25.8s\tremaining: 3.86s\n",
            "870:\tlearn: 0.5202474\ttotal: 25.9s\tremaining: 3.83s\n",
            "871:\tlearn: 0.5201483\ttotal: 25.9s\tremaining: 3.8s\n",
            "872:\tlearn: 0.5201017\ttotal: 25.9s\tremaining: 3.77s\n",
            "873:\tlearn: 0.5199998\ttotal: 25.9s\tremaining: 3.74s\n",
            "874:\tlearn: 0.5198694\ttotal: 26s\tremaining: 3.71s\n",
            "875:\tlearn: 0.5197778\ttotal: 26s\tremaining: 3.68s\n",
            "876:\tlearn: 0.5196871\ttotal: 26s\tremaining: 3.65s\n",
            "877:\tlearn: 0.5195321\ttotal: 26.1s\tremaining: 3.62s\n",
            "878:\tlearn: 0.5195133\ttotal: 26.1s\tremaining: 3.59s\n",
            "879:\tlearn: 0.5194196\ttotal: 26.1s\tremaining: 3.56s\n",
            "880:\tlearn: 0.5192868\ttotal: 26.2s\tremaining: 3.53s\n",
            "881:\tlearn: 0.5192145\ttotal: 26.2s\tremaining: 3.5s\n",
            "882:\tlearn: 0.5191923\ttotal: 26.2s\tremaining: 3.48s\n",
            "883:\tlearn: 0.5190735\ttotal: 26.3s\tremaining: 3.45s\n",
            "884:\tlearn: 0.5189952\ttotal: 26.3s\tremaining: 3.42s\n",
            "885:\tlearn: 0.5187301\ttotal: 26.3s\tremaining: 3.39s\n",
            "886:\tlearn: 0.5186265\ttotal: 26.4s\tremaining: 3.36s\n",
            "887:\tlearn: 0.5185483\ttotal: 26.4s\tremaining: 3.33s\n",
            "888:\tlearn: 0.5184412\ttotal: 26.4s\tremaining: 3.3s\n",
            "889:\tlearn: 0.5183735\ttotal: 26.5s\tremaining: 3.27s\n",
            "890:\tlearn: 0.5182375\ttotal: 26.5s\tremaining: 3.24s\n",
            "891:\tlearn: 0.5181832\ttotal: 26.5s\tremaining: 3.21s\n",
            "892:\tlearn: 0.5181165\ttotal: 26.5s\tremaining: 3.18s\n",
            "893:\tlearn: 0.5181086\ttotal: 26.6s\tremaining: 3.15s\n",
            "894:\tlearn: 0.5180437\ttotal: 26.6s\tremaining: 3.12s\n",
            "895:\tlearn: 0.5180374\ttotal: 26.6s\tremaining: 3.09s\n",
            "896:\tlearn: 0.5180153\ttotal: 26.7s\tremaining: 3.06s\n",
            "897:\tlearn: 0.5178638\ttotal: 26.7s\tremaining: 3.03s\n",
            "898:\tlearn: 0.5178077\ttotal: 26.7s\tremaining: 3s\n",
            "899:\tlearn: 0.5177722\ttotal: 26.8s\tremaining: 2.97s\n",
            "900:\tlearn: 0.5176429\ttotal: 26.8s\tremaining: 2.94s\n",
            "901:\tlearn: 0.5175069\ttotal: 26.8s\tremaining: 2.91s\n",
            "902:\tlearn: 0.5175023\ttotal: 26.9s\tremaining: 2.88s\n",
            "903:\tlearn: 0.5173266\ttotal: 26.9s\tremaining: 2.85s\n",
            "904:\tlearn: 0.5172827\ttotal: 26.9s\tremaining: 2.83s\n",
            "905:\tlearn: 0.5172408\ttotal: 26.9s\tremaining: 2.79s\n",
            "906:\tlearn: 0.5169488\ttotal: 27s\tremaining: 2.77s\n",
            "907:\tlearn: 0.5169430\ttotal: 27s\tremaining: 2.74s\n",
            "908:\tlearn: 0.5168554\ttotal: 27.1s\tremaining: 2.71s\n",
            "909:\tlearn: 0.5167480\ttotal: 27.1s\tremaining: 2.68s\n",
            "910:\tlearn: 0.5167038\ttotal: 27.1s\tremaining: 2.65s\n",
            "911:\tlearn: 0.5165710\ttotal: 27.2s\tremaining: 2.62s\n",
            "912:\tlearn: 0.5165279\ttotal: 27.2s\tremaining: 2.59s\n",
            "913:\tlearn: 0.5163851\ttotal: 27.2s\tremaining: 2.56s\n",
            "914:\tlearn: 0.5161706\ttotal: 27.3s\tremaining: 2.53s\n",
            "915:\tlearn: 0.5161300\ttotal: 27.3s\tremaining: 2.5s\n",
            "916:\tlearn: 0.5160384\ttotal: 27.3s\tremaining: 2.47s\n",
            "917:\tlearn: 0.5160304\ttotal: 27.3s\tremaining: 2.44s\n",
            "918:\tlearn: 0.5160088\ttotal: 27.4s\tremaining: 2.41s\n",
            "919:\tlearn: 0.5160018\ttotal: 27.4s\tremaining: 2.38s\n",
            "920:\tlearn: 0.5159804\ttotal: 27.4s\tremaining: 2.35s\n",
            "921:\tlearn: 0.5158492\ttotal: 27.5s\tremaining: 2.32s\n",
            "922:\tlearn: 0.5157117\ttotal: 27.5s\tremaining: 2.29s\n",
            "923:\tlearn: 0.5154839\ttotal: 27.5s\tremaining: 2.26s\n",
            "924:\tlearn: 0.5154365\ttotal: 27.6s\tremaining: 2.23s\n",
            "925:\tlearn: 0.5154143\ttotal: 27.6s\tremaining: 2.2s\n",
            "926:\tlearn: 0.5153386\ttotal: 27.6s\tremaining: 2.17s\n",
            "927:\tlearn: 0.5151887\ttotal: 27.7s\tremaining: 2.15s\n",
            "928:\tlearn: 0.5150341\ttotal: 27.7s\tremaining: 2.12s\n",
            "929:\tlearn: 0.5149183\ttotal: 27.7s\tremaining: 2.09s\n",
            "930:\tlearn: 0.5148346\ttotal: 27.8s\tremaining: 2.06s\n",
            "931:\tlearn: 0.5146508\ttotal: 27.8s\tremaining: 2.03s\n",
            "932:\tlearn: 0.5144971\ttotal: 27.8s\tremaining: 2s\n",
            "933:\tlearn: 0.5143765\ttotal: 27.9s\tremaining: 1.97s\n",
            "934:\tlearn: 0.5142925\ttotal: 27.9s\tremaining: 1.94s\n",
            "935:\tlearn: 0.5142564\ttotal: 27.9s\tremaining: 1.91s\n",
            "936:\tlearn: 0.5142130\ttotal: 28s\tremaining: 1.88s\n",
            "937:\tlearn: 0.5141737\ttotal: 28s\tremaining: 1.85s\n",
            "938:\tlearn: 0.5140527\ttotal: 28s\tremaining: 1.82s\n",
            "939:\tlearn: 0.5138833\ttotal: 28s\tremaining: 1.79s\n",
            "940:\tlearn: 0.5137755\ttotal: 28.1s\tremaining: 1.76s\n",
            "941:\tlearn: 0.5137572\ttotal: 28.1s\tremaining: 1.73s\n",
            "942:\tlearn: 0.5136853\ttotal: 28.1s\tremaining: 1.7s\n",
            "943:\tlearn: 0.5136366\ttotal: 28.2s\tremaining: 1.67s\n",
            "944:\tlearn: 0.5135377\ttotal: 28.2s\tremaining: 1.64s\n",
            "945:\tlearn: 0.5134853\ttotal: 28.2s\tremaining: 1.61s\n",
            "946:\tlearn: 0.5132805\ttotal: 28.3s\tremaining: 1.58s\n",
            "947:\tlearn: 0.5131673\ttotal: 28.3s\tremaining: 1.55s\n",
            "948:\tlearn: 0.5131437\ttotal: 28.3s\tremaining: 1.52s\n",
            "949:\tlearn: 0.5129093\ttotal: 28.4s\tremaining: 1.49s\n",
            "950:\tlearn: 0.5126499\ttotal: 28.4s\tremaining: 1.46s\n",
            "951:\tlearn: 0.5125472\ttotal: 28.4s\tremaining: 1.43s\n",
            "952:\tlearn: 0.5122824\ttotal: 28.5s\tremaining: 1.4s\n",
            "953:\tlearn: 0.5122191\ttotal: 28.5s\tremaining: 1.37s\n",
            "954:\tlearn: 0.5120788\ttotal: 28.5s\tremaining: 1.34s\n",
            "955:\tlearn: 0.5117389\ttotal: 28.6s\tremaining: 1.31s\n",
            "956:\tlearn: 0.5116909\ttotal: 28.6s\tremaining: 1.28s\n",
            "957:\tlearn: 0.5116230\ttotal: 28.6s\tremaining: 1.25s\n",
            "958:\tlearn: 0.5112975\ttotal: 28.7s\tremaining: 1.23s\n",
            "959:\tlearn: 0.5112517\ttotal: 28.7s\tremaining: 1.2s\n",
            "960:\tlearn: 0.5112184\ttotal: 28.7s\tremaining: 1.17s\n",
            "961:\tlearn: 0.5109295\ttotal: 28.8s\tremaining: 1.14s\n",
            "962:\tlearn: 0.5106844\ttotal: 28.8s\tremaining: 1.11s\n",
            "963:\tlearn: 0.5106414\ttotal: 28.8s\tremaining: 1.08s\n",
            "964:\tlearn: 0.5106333\ttotal: 28.9s\tremaining: 1.05s\n",
            "965:\tlearn: 0.5106197\ttotal: 28.9s\tremaining: 1.02s\n",
            "966:\tlearn: 0.5105401\ttotal: 28.9s\tremaining: 987ms\n",
            "967:\tlearn: 0.5103757\ttotal: 29s\tremaining: 957ms\n",
            "968:\tlearn: 0.5101492\ttotal: 29s\tremaining: 927ms\n",
            "969:\tlearn: 0.5100181\ttotal: 29s\tremaining: 898ms\n",
            "970:\tlearn: 0.5098206\ttotal: 29.1s\tremaining: 868ms\n",
            "971:\tlearn: 0.5095648\ttotal: 29.1s\tremaining: 838ms\n",
            "972:\tlearn: 0.5095127\ttotal: 29.1s\tremaining: 808ms\n",
            "973:\tlearn: 0.5094720\ttotal: 29.2s\tremaining: 778ms\n",
            "974:\tlearn: 0.5093249\ttotal: 29.2s\tremaining: 748ms\n",
            "975:\tlearn: 0.5091549\ttotal: 29.2s\tremaining: 718ms\n",
            "976:\tlearn: 0.5089027\ttotal: 29.2s\tremaining: 689ms\n",
            "977:\tlearn: 0.5088734\ttotal: 29.3s\tremaining: 659ms\n",
            "978:\tlearn: 0.5086566\ttotal: 29.3s\tremaining: 629ms\n",
            "979:\tlearn: 0.5086037\ttotal: 29.3s\tremaining: 599ms\n",
            "980:\tlearn: 0.5083456\ttotal: 29.4s\tremaining: 569ms\n",
            "981:\tlearn: 0.5082833\ttotal: 29.4s\tremaining: 539ms\n",
            "982:\tlearn: 0.5080581\ttotal: 29.4s\tremaining: 509ms\n",
            "983:\tlearn: 0.5078576\ttotal: 29.5s\tremaining: 479ms\n",
            "984:\tlearn: 0.5076984\ttotal: 29.5s\tremaining: 450ms\n",
            "985:\tlearn: 0.5076068\ttotal: 29.6s\tremaining: 420ms\n",
            "986:\tlearn: 0.5075704\ttotal: 29.6s\tremaining: 390ms\n",
            "987:\tlearn: 0.5074300\ttotal: 29.6s\tremaining: 360ms\n",
            "988:\tlearn: 0.5074098\ttotal: 29.6s\tremaining: 330ms\n",
            "989:\tlearn: 0.5073235\ttotal: 29.7s\tremaining: 300ms\n",
            "990:\tlearn: 0.5071918\ttotal: 29.7s\tremaining: 270ms\n",
            "991:\tlearn: 0.5071071\ttotal: 29.7s\tremaining: 240ms\n",
            "992:\tlearn: 0.5070632\ttotal: 29.8s\tremaining: 210ms\n",
            "993:\tlearn: 0.5069566\ttotal: 29.8s\tremaining: 180ms\n",
            "994:\tlearn: 0.5069142\ttotal: 29.8s\tremaining: 150ms\n",
            "995:\tlearn: 0.5067800\ttotal: 29.9s\tremaining: 120ms\n",
            "996:\tlearn: 0.5067591\ttotal: 29.9s\tremaining: 89.9ms\n",
            "997:\tlearn: 0.5066266\ttotal: 29.9s\tremaining: 60ms\n",
            "998:\tlearn: 0.5065920\ttotal: 30s\tremaining: 30ms\n",
            "999:\tlearn: 0.5065372\ttotal: 30s\tremaining: 0us\n"
          ]
        },
        {
          "data": {
            "text/plain": [
              "<catboost.core.CatBoostClassifier at 0x7f9efe9f9420>"
            ]
          },
          "execution_count": 204,
          "metadata": {},
          "output_type": "execute_result"
        }
      ],
      "source": [
        "# <USE IT!>\n",
        "clf = CatBoostClassifier()\n",
        "clf.fit(mtx_train, clean_data_train['average_bill'])"
      ]
    },
    {
      "cell_type": "markdown",
      "metadata": {
        "id": "SBOpZY9BGH7Q"
      },
      "source": [
        "**11. Пришлите в Контест balanced_accuracy_score на тестовой выборке, округлённый до двух знаков после запятой**. Стало ли сильно лучше от того, что мы воспользовались таким крутым классификатором?"
      ]
    },
    {
      "cell_type": "code",
      "execution_count": 205,
      "metadata": {},
      "outputs": [],
      "source": [
        "pred = clf.predict(mtx_test)"
      ]
    },
    {
      "cell_type": "code",
      "execution_count": 206,
      "metadata": {},
      "outputs": [
        {
          "name": "stdout",
          "output_type": "stream",
          "text": [
            "Test metrics:\n",
            "\t[Catboost CLASSIFIER] RMSE = 359.68\n",
            "\t[Catboost CLASSIFIER] Balanced-ACCURACY = 0.36\n"
          ]
        }
      ],
      "source": [
        "print('Test metrics:')\n",
        "print(f\"\\t[Catboost CLASSIFIER] RMSE = {np.sqrt(mean_squared_error(clean_data_test['average_bill'], pred)):.2f}\")\n",
        "print(f\"\\t[Catboost CLASSIFIER] Balanced-ACCURACY = {balanced_accuracy_score(clean_data_test['average_bill'], pred):.2f}\")"
      ]
    }
  ],
  "metadata": {
    "colab": {
      "provenance": []
    },
    "kernelspec": {
      "display_name": "Python 3 (ipykernel)",
      "language": "python",
      "name": "python3"
    },
    "language_info": {
      "codemirror_mode": {
        "name": "ipython",
        "version": 3
      },
      "file_extension": ".py",
      "mimetype": "text/x-python",
      "name": "python",
      "nbconvert_exporter": "python",
      "pygments_lexer": "ipython3",
      "version": "3.10.12"
    }
  },
  "nbformat": 4,
  "nbformat_minor": 0
}
